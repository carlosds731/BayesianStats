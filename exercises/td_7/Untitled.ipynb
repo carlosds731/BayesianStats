{
 "cells": [
  {
   "cell_type": "code",
   "execution_count": 100,
   "metadata": {},
   "outputs": [
    {
     "data": {
      "text/plain": [
       "array(['Monaco', 'Marseille', 'Angers', 'Brest', 'Dijon', 'Montpellier',\n",
       "       'Nice', 'Lille', 'Strasbourg', 'Paris SG', 'Lyon', 'Nantes',\n",
       "       'Amiens', 'Bordeaux', 'Metz', 'Nimes', 'Toulouse', 'St Etienne',\n",
       "       'Reims', 'Rennes'], dtype=object)"
      ]
     },
     "execution_count": 100,
     "metadata": {},
     "output_type": "execute_result"
    }
   ],
   "source": [
    "import pandas\n",
    "\n",
    "raw_data = pandas.DataFrame(pandas.read_csv('F1.csv'),columns=['HomeTeam','AwayTeam','FTHG','FTAG'])\n",
    "raw_data['HomeTeam'].unique()"
   ]
  },
  {
   "cell_type": "code",
   "execution_count": 97,
   "metadata": {},
   "outputs": [],
   "source": [
    "def get_team_goals(team_name):\n",
    "    import pandas\n",
    "    # Store the raw data\n",
    "    raw_data = pandas.DataFrame(pandas.read_csv('F1.csv'),columns=['HomeTeam','AwayTeam','FTHG','FTAG'])\n",
    "    home_results = raw_data.groupby(['HomeTeam']).get_group(team_name)\n",
    "    away_results = raw_data.groupby(['AwayTeam']).get_group(team_name)\n",
    "    home_results.insert(1,'_TeamGoals',home_results['FTHG'])\n",
    "    away_results.insert(1,'_TeamGoals',away_results['FTAG'])\n",
    "    # All results sorted by index\n",
    "    all_results = home_results.append(away_results).sort_index()\n",
    "    return all_results['_TeamGoals'].values"
   ]
  },
  {
   "cell_type": "code",
   "execution_count": 98,
   "metadata": {},
   "outputs": [
    {
     "data": {
      "text/plain": [
       "array([3, 1, 4, 2, 1, 1, 0, 1, 4, 4, 4, 1, 2, 2, 2, 3, 4, 4, 3, 4, 2, 5,\n",
       "       2, 4, 4, 4, 4], dtype=int64)"
      ]
     },
     "execution_count": 98,
     "metadata": {},
     "output_type": "execute_result"
    }
   ],
   "source": [
    "get_team_goals('Paris SG')"
   ]
  },
  {
   "cell_type": "code",
   "execution_count": 99,
   "metadata": {},
   "outputs": [
    {
     "data": {
      "text/plain": [
       "array([0, 0, 2, 2, 3, 0, 3, 4, 1, 3, 1, 0, 1, 1, 2, 3, 0, 5, 3, 1, 1, 1,\n",
       "       1, 2, 1, 1, 1, 1], dtype=int64)"
      ]
     },
     "execution_count": 99,
     "metadata": {},
     "output_type": "execute_result"
    }
   ],
   "source": [
    "get_team_goals('Monaco')"
   ]
  },
  {
   "cell_type": "code",
   "execution_count": 102,
   "metadata": {},
   "outputs": [
    {
     "data": {
      "text/plain": [
       "2.7777777777777777"
      ]
     },
     "execution_count": 102,
     "metadata": {},
     "output_type": "execute_result"
    }
   ],
   "source": [
    "import numpy as np\n",
    "np.average(get_team_goals('Paris SG'))"
   ]
  },
  {
   "cell_type": "code",
   "execution_count": 115,
   "metadata": {},
   "outputs": [
    {
     "data": {
      "text/plain": [
       "1.0"
      ]
     },
     "execution_count": 115,
     "metadata": {},
     "output_type": "execute_result"
    }
   ],
   "source": [
    "np.average(get_team_goals('Nantes'))"
   ]
  },
  {
   "cell_type": "code",
   "execution_count": 116,
   "metadata": {},
   "outputs": [
    {
     "data": {
      "text/plain": [
       "array([1, 0, 2, 1, 1, 1, 1, 1, 1, 0, 0, 0, 2, 1, 2, 0, 1, 1, 1, 2, 0, 2,\n",
       "       1, 3, 0, 3, 0, 0], dtype=int64)"
      ]
     },
     "execution_count": 116,
     "metadata": {},
     "output_type": "execute_result"
    }
   ],
   "source": [
    "get_team_goals('Nantes')"
   ]
  },
  {
   "cell_type": "code",
   "execution_count": null,
   "metadata": {},
   "outputs": [],
   "source": []
  }
 ],
 "metadata": {
  "kernelspec": {
   "display_name": "Python 3",
   "language": "python",
   "name": "python3"
  },
  "language_info": {
   "codemirror_mode": {
    "name": "ipython",
    "version": 3
   },
   "file_extension": ".py",
   "mimetype": "text/x-python",
   "name": "python",
   "nbconvert_exporter": "python",
   "pygments_lexer": "ipython3",
   "version": "3.7.9"
  }
 },
 "nbformat": 4,
 "nbformat_minor": 4
}
