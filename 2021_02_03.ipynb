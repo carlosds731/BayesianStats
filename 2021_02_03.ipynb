{
 "cells": [
  {
   "cell_type": "markdown",
   "metadata": {
    "pycharm": {
     "name": "#%% md\n"
    }
   },
   "source": [
    "# Updating priors\n",
    "\n",
    "For the coin tossing example, we had the following code to obtain samples from the posterior"
   ]
  },
  {
   "cell_type": "code",
   "execution_count": 41,
   "metadata": {
    "pycharm": {
     "is_executing": true
    }
   },
   "outputs": [
    {
     "name": "stderr",
     "output_type": "stream",
     "text": [
      "Auto-assigning NUTS sampler...\n",
      "Initializing NUTS using jitter+adapt_diag...\n",
      "Multiprocess sampling (4 chains in 4 jobs)\n",
      "NUTS: [theta]\n"
     ]
    },
    {
     "data": {
      "text/html": [
       "\n",
       "    <div>\n",
       "        <style>\n",
       "            /* Turns off some styling */\n",
       "            progress {\n",
       "                /* gets rid of default border in Firefox and Opera. */\n",
       "                border: none;\n",
       "                /* Needs to be in here for Safari polyfill so background images work as expected. */\n",
       "                background-size: auto;\n",
       "            }\n",
       "            .progress-bar-interrupted, .progress-bar-interrupted::-webkit-progress-bar {\n",
       "                background: #F44336;\n",
       "            }\n",
       "        </style>\n",
       "      <progress value='8000' class='' max='8000' style='width:300px; height:20px; vertical-align: middle;'></progress>\n",
       "      100.00% [8000/8000 00:05<00:00 Sampling 4 chains, 0 divergences]\n",
       "    </div>\n",
       "    "
      ],
      "text/plain": [
       "<IPython.core.display.HTML object>"
      ]
     },
     "metadata": {},
     "output_type": "display_data"
    },
    {
     "name": "stderr",
     "output_type": "stream",
     "text": [
      "Sampling 4 chains for 1_000 tune and 1_000 draw iterations (4_000 + 4_000 draws total) took 21 seconds.\n",
      "The acceptance probability does not match the target. It is 0.8883613058607964, but should be close to 0.8. Try to increase the number of tuning steps.\n"
     ]
    },
    {
     "data": {
      "image/png": "[encoded data removed]",
      "text/plain": [
       "<Figure size 432x288 with 1 Axes>"
      ]
     },
     "metadata": {
      "needs_background": "light"
     },
     "output_type": "display_data"
    }
   ],
   "source": [
    "import matplotlib.pyplot as plt\n",
    "import pymc3 as pm\n",
    "import arviz as az\n",
    "from scipy import stats\n",
    "import numpy as np\n",
    "\n",
    "# Sample data\n",
    "data = [1, 1, 1, 0, 1, 1, 0, 0, 1, 1]\n",
    "\n",
    "with pm.Model():\n",
    "    # The following line defines the prior, theta distributes as Beta(1,1)\n",
    "    theta = pm.Beta('theta', alpha=1., beta=1.)\n",
    "    # The following line defines the likelihood Bernoulli with p=theta\n",
    "    y = pm.Bernoulli('y', p=theta, observed=data)\n",
    "    # This line generates 1000 samples of the posterior\n",
    "    trace = pm.sample(1000,  progressbar=True)\n",
    "\n",
    "    # Plot the sampled posterior\n",
    "    pp = az.plot_posterior(trace)\n",
    "    plt.show()"
   ]
  },
  {
   "cell_type": "markdown",
   "metadata": {},
   "source": [
    "Suppouse that now you have 20 extra sample points of the data. How to include this data on the analysis?"
   ]
  },
  {
   "cell_type": "code",
   "execution_count": 42,
   "metadata": {
    "pycharm": {
     "is_executing": true
    }
   },
   "outputs": [],
   "source": [
    "new_data = [1, 1, 1, 1, 1, 0, 1, 0, 0, 1, 0, 0, 1, 1, 1, 1, 1, 1, 1, 1]"
   ]
  },
  {
   "cell_type": "markdown",
   "metadata": {},
   "source": [
    "In order to update our beliefs about the parameters, we use the posterior distributions, which will be used as the prior distributions for the next inference. The data used for each inference iteration has to be independent from the previous iterations, otherwise the same (possibly wrong) belief is injected over and over in the system, amplifying the errors and misleading the inference. By ensuring the data is independent, the system should converge to the true parameter values.\n",
    "\n",
    "Because we draw samples from the posterior distribution, we need to estimate their probability density. Kernel density estimation (KDE) is a way to achieve this, and we will use this technique here. In any case, it is an empirical distribution that cannot be expressed analytically. Fortunately PyMC3 provides a way to use custom distributions, via Interpolated class."
   ]
  },
  {
   "cell_type": "code",
   "execution_count": 43,
   "metadata": {
    "pycharm": {
     "is_executing": true
    }
   },
   "outputs": [],
   "source": [
    "def from_posterior(param, samples):\n",
    "    smin, smax = np.min(samples), np.max(samples)\n",
    "    width = smax - smin\n",
    "    x = np.linspace(smin, smax, 100)\n",
    "    y = stats.gaussian_kde(samples)(x)\n",
    "\n",
    "    # what was never sampled should have a small probability but not 0,\n",
    "    # so we'll extend the domain and use linear approximation of density on it\n",
    "    # Note that the domain can not be extended beyond the interval [0,1].\n",
    "    x = np.concatenate([[0], x, [1]])\n",
    "    y = np.concatenate([[0], y, [0]])\n",
    "    return pm.Interpolated(param, x, y)"
   ]
  },
  {
   "cell_type": "markdown",
   "metadata": {},
   "source": [
    "Why the domain should not be extended bellow the interval [0,1]?"
   ]
  },
  {
   "cell_type": "markdown",
   "metadata": {},
   "source": [
    "Now we just need modify our Bayesian model so that the prior distributions for the current iteration are the posterior distributions from the previous iteration. It is still possible to continue using NUTS sampling method because Interpolated class implements calculation of gradients that are necessary for Hamiltonian Monte Carlo samplers."
   ]
  },
  {
   "cell_type": "code",
   "execution_count": 44,
   "metadata": {
    "pycharm": {
     "is_executing": true
    }
   },
   "outputs": [
    {
     "name": "stderr",
     "output_type": "stream",
     "text": [
      "Auto-assigning NUTS sampler...\n",
      "Initializing NUTS using jitter+adapt_diag...\n",
      "Multiprocess sampling (4 chains in 4 jobs)\n",
      "NUTS: [theta]\n"
     ]
    },
    {
     "data": {
      "text/html": [
       "\n",
       "    <div>\n",
       "        <style>\n",
       "            /* Turns off some styling */\n",
       "            progress {\n",
       "                /* gets rid of default border in Firefox and Opera. */\n",
       "                border: none;\n",
       "                /* Needs to be in here for Safari polyfill so background images work as expected. */\n",
       "                background-size: auto;\n",
       "            }\n",
       "            .progress-bar-interrupted, .progress-bar-interrupted::-webkit-progress-bar {\n",
       "                background: #F44336;\n",
       "            }\n",
       "        </style>\n",
       "      <progress value='8000' class='' max='8000' style='width:300px; height:20px; vertical-align: middle;'></progress>\n",
       "      100.00% [8000/8000 00:05<00:00 Sampling 4 chains, 0 divergences]\n",
       "    </div>\n",
       "    "
      ],
      "text/plain": [
       "<IPython.core.display.HTML object>"
      ]
     },
     "metadata": {},
     "output_type": "display_data"
    },
    {
     "name": "stderr",
     "output_type": "stream",
     "text": [
      "Sampling 4 chains for 1_000 tune and 1_000 draw iterations (4_000 + 4_000 draws total) took 21 seconds.\n"
     ]
    },
    {
     "data": {
      "image/png": "[encoded data removed]",
      "text/plain": [
       "<Figure size 432x288 with 1 Axes>"
      ]
     },
     "metadata": {
      "needs_background": "light"
     },
     "output_type": "display_data"
    }
   ],
   "source": [
    "with pm.Model() as updated_model:\n",
    "    # Priors are posteriors from previous iteration\n",
    "    theta = from_posterior(\"theta\", trace[\"theta\"])\n",
    "\n",
    "    # The following line defines the likelihood Bernoulli with p=theta\n",
    "    y = pm.Bernoulli('y', p=theta, observed=new_data)\n",
    "\n",
    "    # This line generates 1000 samples of the posterior\n",
    "    traces_new = pm.sample(1000,  progressbar=True)\n",
    "    \n",
    "    # Plot the sampled posterior\n",
    "    pp = az.plot_posterior(traces_new)\n",
    "    plt.show()"
   ]
  },
  {
   "cell_type": "markdown",
   "metadata": {},
   "source": [
    "The following code solves the same problem but using all the data at once"
   ]
  },
  {
   "cell_type": "code",
   "execution_count": 45,
   "metadata": {
    "pycharm": {
     "is_executing": true
    }
   },
   "outputs": [
    {
     "name": "stderr",
     "output_type": "stream",
     "text": [
      "Auto-assigning NUTS sampler...\n",
      "Initializing NUTS using jitter+adapt_diag...\n",
      "Multiprocess sampling (4 chains in 4 jobs)\n",
      "NUTS: [theta]\n"
     ]
    },
    {
     "data": {
      "text/html": [
       "\n",
       "    <div>\n",
       "        <style>\n",
       "            /* Turns off some styling */\n",
       "            progress {\n",
       "                /* gets rid of default border in Firefox and Opera. */\n",
       "                border: none;\n",
       "                /* Needs to be in here for Safari polyfill so background images work as expected. */\n",
       "                background-size: auto;\n",
       "            }\n",
       "            .progress-bar-interrupted, .progress-bar-interrupted::-webkit-progress-bar {\n",
       "                background: #F44336;\n",
       "            }\n",
       "        </style>\n",
       "      <progress value='8000' class='' max='8000' style='width:300px; height:20px; vertical-align: middle;'></progress>\n",
       "      100.00% [8000/8000 00:05<00:00 Sampling 4 chains, 0 divergences]\n",
       "    </div>\n",
       "    "
      ],
      "text/plain": [
       "<IPython.core.display.HTML object>"
      ]
     },
     "metadata": {},
     "output_type": "display_data"
    },
    {
     "name": "stderr",
     "output_type": "stream",
     "text": [
      "Sampling 4 chains for 1_000 tune and 1_000 draw iterations (4_000 + 4_000 draws total) took 20 seconds.\n"
     ]
    },
    {
     "data": {
      "image/png": "[encoded data removed]",
      "text/plain": [
       "<Figure size 432x288 with 1 Axes>"
      ]
     },
     "metadata": {
      "needs_background": "light"
     },
     "output_type": "display_data"
    }
   ],
   "source": [
    "with pm.Model():\n",
    "    # The following line defines the prior, theta distributes as Beta(1,1)\n",
    "    theta = pm.Beta('theta', alpha=1., beta=1.)\n",
    "    # The following line defines the likelihood Bernoulli with p=theta\n",
    "    y = pm.Bernoulli('y', p=theta, observed=data+new_data)\n",
    "    # This line generates 1000 samples of the posterior\n",
    "    trace = pm.sample(1000,  progressbar=True)\n",
    "\n",
    "    # Plot the sampled posterior\n",
    "    pp = az.plot_posterior(trace)\n",
    "    plt.show()"
   ]
  },
  {
   "cell_type": "markdown",
   "metadata": {},
   "source": [
    "# Posterior predictions and posterior predictivie checks\n",
    "\n",
    "One of the nice elements of the Bayesian toolkit is that once we have a posterior, it is\n",
    "possible to use the posterior, $p\\left( {\\theta \\left| y \\right.} \\right)$, to generate predictions, $\\widetilde y$ , based on the data, $y$, and the estimated parameters, $\\theta$. The posterior predictive distribution is:\n",
    "\n",
    "$$\n",
    "\\begin{equation}\n",
    "p\\left( {\\widehat y\\left| y \\right.} \\right) = \\int {p\\left( {\\widehat y\\left| \\theta  \\right.} \\right)p\\left( {\\theta \\left| y \\right.} \\right)d\\theta }.\n",
    "\\end{equation}\n",
    "$$\n",
    "\n",
    "\n",
    "Thus, the posterior predictive distribution is an average of conditional predictions over the\n",
    "posterior distribution of . Conceptually (and computationally), we approximate this\n",
    "integral as an iterative two-step process:\n",
    "\n",
    "* We sample a value of $\\theta$ from the posterior ${p\\left( {\\theta \\left| y \\right.} \\right)}$.\n",
    "* We feed that value of $\\theta$ to the likelihood (or sampling distribution if you wish), thus obtaining a data point $\\widetilde y$.\n",
    "\n",
    "Notice how this process combines two sources of uncertainty: the\n",
    "parameters uncertainty; as captured by the posterior; and the sampling\n",
    "uncertainty; as captured by the likelihood.\n",
    "\n",
    "The generated predictions, $\\widetilde y$, can be used when we need to make, predictions. But\n",
    "also we can use them to criticize the models by comparing the observed data, $y$, and the\n",
    "predicted data, $\\widetilde y$, to spot differences between these two sets, this is known as posterior\n",
    "predictive checks. The main goal is to check for auto-consistency. The generated data and\n",
    "the observed data should look more or less similar, otherwise there was some problem\n",
    "during the modeling or some problem feeding the data to the model. But even in the\n",
    "absence of mistakes, differences could arise. Trying to understand the mismatch could lead\n",
    "us to improve models or at least to understand their limitations. Knowing which parts of\n",
    "our problem/data the model is capturing well and which it is not is valuable information\n",
    "even if we do not know how to improve the model. Maybe the model captures the mean\n",
    "behavior of our data well but fails to predict rare values. This could be problematic for us,\n",
    "or maybe we only care about the mean, so this model will be OK to us. The general aim is\n",
    "not to declare that a model is false. We just want to know which part of the model we can\n",
    "trust, and try to test whether the model is a good fit for our specific purpose. How\n",
    "confident one can be about a model is certainly not the same across disciplines. Physics can\n",
    "study systems under highly-controlled conditions using high-level theories, so models are\n",
    "often seen as good descriptions of reality. Other disciplines, such as sociology and biology,\n",
    "study complex, difficult-to-isolate systems, and thus models usually have a weaker\n",
    "epistemological status. Nevertheless, independent of which discipline you are working in,\n",
    "models should always be checked, and posterior predictive checks together with ideas from\n",
    "exploratory data analysis are a good way to check our models.\n",
    "\n",
    "## Obtaining predictions\n",
    "\n",
    "Using PyMC3 is really easy to get posterior predictive\n",
    "samples if you use the sample_posterior_predictive function. With the following\n",
    "code, we are generating 100 predictions, each one of the same size as the\n",
    "data (in this case each prediction will contain 20 samples). Notice that we have to pass the trace and the model to\n",
    "sample_posterior_predictive, while the other arguments are optional:"
   ]
  },
  {
   "cell_type": "code",
   "execution_count": 46,
   "metadata": {
    "pycharm": {
     "is_executing": true
    }
   },
   "outputs": [
    {
     "data": {
      "text/html": [
       "\n",
       "    <div>\n",
       "        <style>\n",
       "            /* Turns off some styling */\n",
       "            progress {\n",
       "                /* gets rid of default border in Firefox and Opera. */\n",
       "                border: none;\n",
       "                /* Needs to be in here for Safari polyfill so background images work as expected. */\n",
       "                background-size: auto;\n",
       "            }\n",
       "            .progress-bar-interrupted, .progress-bar-interrupted::-webkit-progress-bar {\n",
       "                background: #F44336;\n",
       "            }\n",
       "        </style>\n",
       "      <progress value='4000' class='' max='4000' style='width:300px; height:20px; vertical-align: middle;'></progress>\n",
       "      100.00% [4000/4000 00:01<00:00]\n",
       "    </div>\n",
       "    "
      ],
      "text/plain": [
       "<IPython.core.display.HTML object>"
      ]
     },
     "metadata": {},
     "output_type": "display_data"
    }
   ],
   "source": [
    "y_pred_g = pm.sample_posterior_predictive(traces_new, 4000, updated_model)"
   ]
  },
  {
   "cell_type": "markdown",
   "metadata": {},
   "source": [
    "The y_pred_g variable is a dictionary, with the keys being the name of the observed\n",
    "variable in our model and the values an array of shape (samples, size), in this\n",
    "case, (100, len(data)). We have a dictionary because we could have models with more\n",
    "than one observed variable."
   ]
  },
  {
   "cell_type": "code",
   "execution_count": 47,
   "metadata": {
    "pycharm": {
     "is_executing": true
    }
   },
   "outputs": [
    {
     "data": {
      "text/plain": [
       "array([[1, 1, 1, ..., 0, 0, 0],\n",
       "       [1, 0, 1, ..., 1, 1, 1],\n",
       "       [1, 1, 1, ..., 1, 1, 1],\n",
       "       ...,\n",
       "       [1, 1, 0, ..., 1, 1, 1],\n",
       "       [1, 1, 0, ..., 1, 1, 1],\n",
       "       [0, 0, 0, ..., 1, 0, 1]])"
      ]
     },
     "execution_count": 47,
     "metadata": {},
     "output_type": "execute_result"
    }
   ],
   "source": [
    "y_pred_g['y']"
   ]
  },
  {
   "cell_type": "markdown",
   "metadata": {},
   "source": [
    "## Predictive checks on discrete case\n",
    "\n",
    "With the following code, we can compare the empirical pmf of the data with the empirical pmf of the predictions"
   ]
  },
  {
   "cell_type": "code",
   "execution_count": 48,
   "metadata": {
    "pycharm": {
     "is_executing": true
    }
   },
   "outputs": [
    {
     "data": {
      "image/png": "[encoded data removed]",
      "text/plain": [
       "<Figure size 432x288 with 1 Axes>"
      ]
     },
     "metadata": {
      "needs_background": "light"
     },
     "output_type": "display_data"
    }
   ],
   "source": [
    "plt.hist(data+new_data, alpha=0.5, density=True)\n",
    "# I'm flattening the predictions array in order to\n",
    "# correctly plot the histogram\n",
    "plt.hist(y_pred_g['y'].flatten(), alpha=0.5, density=True)\n",
    "plt.legend(['Data','Predictions'])\n",
    "plt.xlabel('')\n",
    "plt.ylabel('Frequencies')\n",
    "plt.show()"
   ]
  },
  {
   "cell_type": "markdown",
   "metadata": {},
   "source": [
    "If the empirical pmf look alike, we are more confident that the model is correct.\n",
    "\n",
    "Suppouse that instead of using a Beta(1,1) as our prior, we used a Beta(10,20). Let's see how this affects the posterior predictive checks."
   ]
  },
  {
   "cell_type": "code",
   "execution_count": 49,
   "metadata": {
    "pycharm": {
     "is_executing": true
    }
   },
   "outputs": [
    {
     "name": "stderr",
     "output_type": "stream",
     "text": [
      "Auto-assigning NUTS sampler...\n",
      "Initializing NUTS using jitter+adapt_diag...\n",
      "Multiprocess sampling (4 chains in 4 jobs)\n",
      "NUTS: [theta]\n"
     ]
    },
    {
     "data": {
      "text/html": [
       "\n",
       "    <div>\n",
       "        <style>\n",
       "            /* Turns off some styling */\n",
       "            progress {\n",
       "                /* gets rid of default border in Firefox and Opera. */\n",
       "                border: none;\n",
       "                /* Needs to be in here for Safari polyfill so background images work as expected. */\n",
       "                background-size: auto;\n",
       "            }\n",
       "            .progress-bar-interrupted, .progress-bar-interrupted::-webkit-progress-bar {\n",
       "                background: #F44336;\n",
       "            }\n",
       "        </style>\n",
       "      <progress value='8000' class='' max='8000' style='width:300px; height:20px; vertical-align: middle;'></progress>\n",
       "      100.00% [8000/8000 00:05<00:00 Sampling 4 chains, 0 divergences]\n",
       "    </div>\n",
       "    "
      ],
      "text/plain": [
       "<IPython.core.display.HTML object>"
      ]
     },
     "metadata": {},
     "output_type": "display_data"
    },
    {
     "name": "stderr",
     "output_type": "stream",
     "text": [
      "Sampling 4 chains for 1_000 tune and 1_000 draw iterations (4_000 + 4_000 draws total) took 22 seconds.\n"
     ]
    },
    {
     "data": {
      "image/png": "[encoded data removed]",
      "text/plain": [
       "<Figure size 432x288 with 1 Axes>"
      ]
     },
     "metadata": {
      "needs_background": "light"
     },
     "output_type": "display_data"
    },
    {
     "data": {
      "text/html": [
       "\n",
       "    <div>\n",
       "        <style>\n",
       "            /* Turns off some styling */\n",
       "            progress {\n",
       "                /* gets rid of default border in Firefox and Opera. */\n",
       "                border: none;\n",
       "                /* Needs to be in here for Safari polyfill so background images work as expected. */\n",
       "                background-size: auto;\n",
       "            }\n",
       "            .progress-bar-interrupted, .progress-bar-interrupted::-webkit-progress-bar {\n",
       "                background: #F44336;\n",
       "            }\n",
       "        </style>\n",
       "      <progress value='4000' class='' max='4000' style='width:300px; height:20px; vertical-align: middle;'></progress>\n",
       "      100.00% [4000/4000 00:02<00:00]\n",
       "    </div>\n",
       "    "
      ],
      "text/plain": [
       "<IPython.core.display.HTML object>"
      ]
     },
     "metadata": {},
     "output_type": "display_data"
    },
    {
     "data": {
      "image/png": "[encoded data removed]",
      "text/plain": [
       "<Figure size 432x288 with 1 Axes>"
      ]
     },
     "metadata": {
      "needs_background": "light"
     },
     "output_type": "display_data"
    }
   ],
   "source": [
    "with pm.Model() as model_with_informative_prior:\n",
    "    # The following line defines the prior, theta distributes as Beta(10,20)\n",
    "    theta = pm.Beta('theta', alpha=10, beta=20)\n",
    "    # The following line defines the likelihood Bernoulli with p=theta\n",
    "    y = pm.Bernoulli('y', p=theta, observed=data)\n",
    "    # This line generates 1000 samples of the posterior\n",
    "    trace = pm.sample(1000,  progressbar=True)\n",
    "\n",
    "    # Plot the sampled posterior\n",
    "    pp = az.plot_posterior(trace)\n",
    "    plt.show()\n",
    "\n",
    "# Here we generate 4000 predictions \n",
    "y_pred_g = pm.sample_posterior_predictive(trace, 4000, model_with_informative_prior)\n",
    "\n",
    "plt.hist(data+new_data, alpha=0.5, density=True)\n",
    "plt.hist(y_pred_g['y'].flatten(), alpha=0.5, density=True)\n",
    "plt.legend(['Data','Predictions'])\n",
    "plt.xlabel('')\n",
    "plt.ylabel('Frequencies')\n",
    "plt.show()"
   ]
  },
  {
   "cell_type": "markdown",
   "metadata": {},
   "source": [
    "In this case, the comparisson on the pmfs indicates that something is not correct with the model. What do you think it is?\n",
    "\n",
    "## Predictive checks on continuous case\n",
    "\n",
    "Let's consider the following normal model\n",
    "\n",
    "$$\n",
    "\\begin{gathered}\n",
    "        \\mu \\sim Uniform\\left( {40,70} \\right) \\hfill \\\\\n",
    "        \\sigma \\sim HalfNormal\\left( {25} \\right) \\hfill \\\\ \n",
    "        {y_i}\\sim Normal\\left( {\\mu ,\\sigma } \\right) \\hfill \\\\\n",
    "      \\end{gathered} $$\n",
    "     \n",
    "Here we have two unknown parameters $\\mu$ and $\\sigma$. The data for this problem is "
   ]
  },
  {
   "cell_type": "code",
   "execution_count": 50,
   "metadata": {
    "pycharm": {
     "is_executing": true
    }
   },
   "outputs": [],
   "source": [
    "data_normal_example = [ 73.3281945 ,  66.14402391,  48.88367929,  48.11718596,\n",
    "        21.60605466,  57.01679933,  14.65153624,  42.53306488,\n",
    "        28.69962145,  32.17800945,  53.53189256,  57.00376958,\n",
    "        52.49968959,  61.00157965,  54.51955565,  69.07906121,\n",
    "        66.68046798,  52.00062725,  47.92012124,  29.51158737,\n",
    "        96.66709178,  63.74704325,  23.90101713,  59.23078227,\n",
    "        65.45805443,  36.29710213,  82.77568656,  56.00869909,\n",
    "        74.02463031,  50.80696452,  82.76038424,  88.54802732,\n",
    "        69.67055049,  53.06544853,  43.50715161,  63.40335945,\n",
    "        61.44197167,  97.17681257,  45.7573031 ,  85.38359329,\n",
    "        34.54287068,  -2.71882417,  64.18320442, 102.50203421,\n",
    "        42.39165886,  61.10881835,  66.55962851,  55.36925302,\n",
    "        56.2455139 ,  34.93306946,  58.48540999,  93.8288581 ,\n",
    "        69.23431717,  28.11119994,  75.44909436,  51.28620515,\n",
    "        81.58797242,  55.8973552 ,  55.20545141,  37.26030122,\n",
    "        59.75908768,  37.87015842,  36.08016894,  46.32094466,\n",
    "        28.60344779,  16.81770699,  35.26790581,  77.38401879,\n",
    "        33.53680647, 105.26443755,  57.11857583,  30.86206987,\n",
    "        63.67911039,  71.68434372,  21.91965421,  26.45693048,\n",
    "        41.63551317,  27.24299291,  23.83065666,  38.55927058,\n",
    "        42.80743049,  54.13802634,  47.15271501,  49.96105501,\n",
    "        37.80659072,  55.86686162,  82.59150895,  33.51299149,\n",
    "        29.33451615,  68.37844108,  22.04395083,  35.36318439,\n",
    "        35.01114967,  54.37606878,  48.99032504,  47.16546736,\n",
    "        37.17186417,  50.99320101,  70.0140447 ,  49.75371196]"
   ]
  },
  {
   "cell_type": "markdown",
   "metadata": {},
   "source": [
    "With the following code we obtain 1000 samples of the posterior for the parameters $\\mu$ and $\\sigma$"
   ]
  },
  {
   "cell_type": "code",
   "execution_count": 51,
   "metadata": {
    "pycharm": {
     "is_executing": true
    }
   },
   "outputs": [
    {
     "name": "stderr",
     "output_type": "stream",
     "text": [
      "Auto-assigning NUTS sampler...\n",
      "Initializing NUTS using jitter+adapt_diag...\n",
      "Multiprocess sampling (4 chains in 4 jobs)\n",
      "NUTS: [sigma, mu]\n"
     ]
    },
    {
     "data": {
      "text/html": [
       "\n",
       "    <div>\n",
       "        <style>\n",
       "            /* Turns off some styling */\n",
       "            progress {\n",
       "                /* gets rid of default border in Firefox and Opera. */\n",
       "                border: none;\n",
       "                /* Needs to be in here for Safari polyfill so background images work as expected. */\n",
       "                background-size: auto;\n",
       "            }\n",
       "            .progress-bar-interrupted, .progress-bar-interrupted::-webkit-progress-bar {\n",
       "                background: #F44336;\n",
       "            }\n",
       "        </style>\n",
       "      <progress value='0' class='' max='8000' style='width:300px; height:20px; vertical-align: middle;'></progress>\n",
       "      0.00% [0/8000 00:00<00:00 Sampling 4 chains, 0 divergences]\n",
       "    </div>\n",
       "    "
      ],
      "text/plain": [
       "<IPython.core.display.HTML object>"
      ]
     },
     "metadata": {},
     "output_type": "display_data"
    },
    {
     "ename": "ValueError",
     "evalue": "Not enough samples to build a trace.",
     "output_type": "error",
     "traceback": [
      "\u001b[1;31m---------------------------------------------------------------------------\u001b[0m",
      "\u001b[1;31mKeyboardInterrupt\u001b[0m                         Traceback (most recent call last)",
      "\u001b[1;32m~\\miniconda3\\envs\\bayesianStats\\lib\\site-packages\\pymc3\\sampling.py\u001b[0m in \u001b[0;36m_mp_sample\u001b[1;34m(draws, tune, step, chains, cores, chain, random_seed, start, progressbar, trace, model, callback, discard_tuned_samples, mp_ctx, pickle_backend, **kwargs)\u001b[0m\n\u001b[0;32m   1485\u001b[0m             \u001b[1;32mwith\u001b[0m \u001b[0msampler\u001b[0m\u001b[1;33m:\u001b[0m\u001b[1;33m\u001b[0m\u001b[1;33m\u001b[0m\u001b[0m\n\u001b[1;32m-> 1486\u001b[1;33m                 \u001b[1;32mfor\u001b[0m \u001b[0mdraw\u001b[0m \u001b[1;32min\u001b[0m \u001b[0msampler\u001b[0m\u001b[1;33m:\u001b[0m\u001b[1;33m\u001b[0m\u001b[1;33m\u001b[0m\u001b[0m\n\u001b[0m\u001b[0;32m   1487\u001b[0m                     \u001b[0mtrace\u001b[0m \u001b[1;33m=\u001b[0m \u001b[0mtraces\u001b[0m\u001b[1;33m[\u001b[0m\u001b[0mdraw\u001b[0m\u001b[1;33m.\u001b[0m\u001b[0mchain\u001b[0m \u001b[1;33m-\u001b[0m \u001b[0mchain\u001b[0m\u001b[1;33m]\u001b[0m\u001b[1;33m\u001b[0m\u001b[1;33m\u001b[0m\u001b[0m\n",
      "\u001b[1;32m~\\miniconda3\\envs\\bayesianStats\\lib\\site-packages\\pymc3\\parallel_sampling.py\u001b[0m in \u001b[0;36m__iter__\u001b[1;34m(self)\u001b[0m\n\u001b[0;32m    491\u001b[0m         \u001b[1;32mwhile\u001b[0m \u001b[0mself\u001b[0m\u001b[1;33m.\u001b[0m\u001b[0m_active\u001b[0m\u001b[1;33m:\u001b[0m\u001b[1;33m\u001b[0m\u001b[1;33m\u001b[0m\u001b[0m\n\u001b[1;32m--> 492\u001b[1;33m             \u001b[0mdraw\u001b[0m \u001b[1;33m=\u001b[0m \u001b[0mProcessAdapter\u001b[0m\u001b[1;33m.\u001b[0m\u001b[0mrecv_draw\u001b[0m\u001b[1;33m(\u001b[0m\u001b[0mself\u001b[0m\u001b[1;33m.\u001b[0m\u001b[0m_active\u001b[0m\u001b[1;33m)\u001b[0m\u001b[1;33m\u001b[0m\u001b[1;33m\u001b[0m\u001b[0m\n\u001b[0m\u001b[0;32m    493\u001b[0m             \u001b[0mproc\u001b[0m\u001b[1;33m,\u001b[0m \u001b[0mis_last\u001b[0m\u001b[1;33m,\u001b[0m \u001b[0mdraw\u001b[0m\u001b[1;33m,\u001b[0m \u001b[0mtuning\u001b[0m\u001b[1;33m,\u001b[0m \u001b[0mstats\u001b[0m\u001b[1;33m,\u001b[0m \u001b[0mwarns\u001b[0m \u001b[1;33m=\u001b[0m \u001b[0mdraw\u001b[0m\u001b[1;33m\u001b[0m\u001b[1;33m\u001b[0m\u001b[0m\n",
      "\u001b[1;32m~\\miniconda3\\envs\\bayesianStats\\lib\\site-packages\\pymc3\\parallel_sampling.py\u001b[0m in \u001b[0;36mrecv_draw\u001b[1;34m(processes, timeout)\u001b[0m\n\u001b[0;32m    351\u001b[0m         \u001b[0mpipes\u001b[0m \u001b[1;33m=\u001b[0m \u001b[1;33m[\u001b[0m\u001b[0mproc\u001b[0m\u001b[1;33m.\u001b[0m\u001b[0m_msg_pipe\u001b[0m \u001b[1;32mfor\u001b[0m \u001b[0mproc\u001b[0m \u001b[1;32min\u001b[0m \u001b[0mprocesses\u001b[0m\u001b[1;33m]\u001b[0m\u001b[1;33m\u001b[0m\u001b[1;33m\u001b[0m\u001b[0m\n\u001b[1;32m--> 352\u001b[1;33m         \u001b[0mready\u001b[0m \u001b[1;33m=\u001b[0m \u001b[0mmultiprocessing\u001b[0m\u001b[1;33m.\u001b[0m\u001b[0mconnection\u001b[0m\u001b[1;33m.\u001b[0m\u001b[0mwait\u001b[0m\u001b[1;33m(\u001b[0m\u001b[0mpipes\u001b[0m\u001b[1;33m)\u001b[0m\u001b[1;33m\u001b[0m\u001b[1;33m\u001b[0m\u001b[0m\n\u001b[0m\u001b[0;32m    353\u001b[0m         \u001b[1;32mif\u001b[0m \u001b[1;32mnot\u001b[0m \u001b[0mready\u001b[0m\u001b[1;33m:\u001b[0m\u001b[1;33m\u001b[0m\u001b[1;33m\u001b[0m\u001b[0m\n",
      "\u001b[1;32m~\\miniconda3\\envs\\bayesianStats\\lib\\multiprocessing\\connection.py\u001b[0m in \u001b[0;36mwait\u001b[1;34m(object_list, timeout)\u001b[0m\n\u001b[0;32m    868\u001b[0m \u001b[1;33m\u001b[0m\u001b[0m\n\u001b[1;32m--> 869\u001b[1;33m             \u001b[0mready_handles\u001b[0m \u001b[1;33m=\u001b[0m \u001b[0m_exhaustive_wait\u001b[0m\u001b[1;33m(\u001b[0m\u001b[0mwaithandle_to_obj\u001b[0m\u001b[1;33m.\u001b[0m\u001b[0mkeys\u001b[0m\u001b[1;33m(\u001b[0m\u001b[1;33m)\u001b[0m\u001b[1;33m,\u001b[0m \u001b[0mtimeout\u001b[0m\u001b[1;33m)\u001b[0m\u001b[1;33m\u001b[0m\u001b[1;33m\u001b[0m\u001b[0m\n\u001b[0m\u001b[0;32m    870\u001b[0m         \u001b[1;32mfinally\u001b[0m\u001b[1;33m:\u001b[0m\u001b[1;33m\u001b[0m\u001b[1;33m\u001b[0m\u001b[0m\n",
      "\u001b[1;32m~\\miniconda3\\envs\\bayesianStats\\lib\\multiprocessing\\connection.py\u001b[0m in \u001b[0;36m_exhaustive_wait\u001b[1;34m(handles, timeout)\u001b[0m\n\u001b[0;32m    800\u001b[0m         \u001b[1;32mwhile\u001b[0m \u001b[0mL\u001b[0m\u001b[1;33m:\u001b[0m\u001b[1;33m\u001b[0m\u001b[1;33m\u001b[0m\u001b[0m\n\u001b[1;32m--> 801\u001b[1;33m             \u001b[0mres\u001b[0m \u001b[1;33m=\u001b[0m \u001b[0m_winapi\u001b[0m\u001b[1;33m.\u001b[0m\u001b[0mWaitForMultipleObjects\u001b[0m\u001b[1;33m(\u001b[0m\u001b[0mL\u001b[0m\u001b[1;33m,\u001b[0m \u001b[1;32mFalse\u001b[0m\u001b[1;33m,\u001b[0m \u001b[0mtimeout\u001b[0m\u001b[1;33m)\u001b[0m\u001b[1;33m\u001b[0m\u001b[1;33m\u001b[0m\u001b[0m\n\u001b[0m\u001b[0;32m    802\u001b[0m             \u001b[1;32mif\u001b[0m \u001b[0mres\u001b[0m \u001b[1;33m==\u001b[0m \u001b[0mWAIT_TIMEOUT\u001b[0m\u001b[1;33m:\u001b[0m\u001b[1;33m\u001b[0m\u001b[1;33m\u001b[0m\u001b[0m\n",
      "\u001b[1;31mKeyboardInterrupt\u001b[0m: ",
      "\nDuring handling of the above exception, another exception occurred:\n",
      "\u001b[1;31mValueError\u001b[0m                                Traceback (most recent call last)",
      "\u001b[1;32m<ipython-input-51-2a671691440b>\u001b[0m in \u001b[0;36m<module>\u001b[1;34m\u001b[0m\n\u001b[0;32m      3\u001b[0m     \u001b[0msigma\u001b[0m \u001b[1;33m=\u001b[0m \u001b[0mpm\u001b[0m\u001b[1;33m.\u001b[0m\u001b[0mHalfNormal\u001b[0m\u001b[1;33m(\u001b[0m\u001b[1;34m'sigma'\u001b[0m\u001b[1;33m,\u001b[0m \u001b[0msd\u001b[0m\u001b[1;33m=\u001b[0m\u001b[1;36m25\u001b[0m\u001b[1;33m)\u001b[0m\u001b[1;33m\u001b[0m\u001b[1;33m\u001b[0m\u001b[0m\n\u001b[0;32m      4\u001b[0m     \u001b[0my\u001b[0m \u001b[1;33m=\u001b[0m \u001b[0mpm\u001b[0m\u001b[1;33m.\u001b[0m\u001b[0mNormal\u001b[0m\u001b[1;33m(\u001b[0m\u001b[1;34m'y'\u001b[0m\u001b[1;33m,\u001b[0m \u001b[0mmu\u001b[0m\u001b[1;33m=\u001b[0m\u001b[0mmu\u001b[0m\u001b[1;33m,\u001b[0m \u001b[0msd\u001b[0m\u001b[1;33m=\u001b[0m\u001b[0msigma\u001b[0m\u001b[1;33m,\u001b[0m \u001b[0mobserved\u001b[0m\u001b[1;33m=\u001b[0m\u001b[0mdata_normal_example\u001b[0m\u001b[1;33m)\u001b[0m\u001b[1;33m\u001b[0m\u001b[1;33m\u001b[0m\u001b[0m\n\u001b[1;32m----> 5\u001b[1;33m     \u001b[0mtraces_normal_model\u001b[0m \u001b[1;33m=\u001b[0m \u001b[0mpm\u001b[0m\u001b[1;33m.\u001b[0m\u001b[0msample\u001b[0m\u001b[1;33m(\u001b[0m\u001b[1;36m1000\u001b[0m\u001b[1;33m)\u001b[0m\u001b[1;33m\u001b[0m\u001b[1;33m\u001b[0m\u001b[0m\n\u001b[0m\u001b[0;32m      6\u001b[0m     \u001b[0maz\u001b[0m\u001b[1;33m.\u001b[0m\u001b[0mplot_trace\u001b[0m\u001b[1;33m(\u001b[0m\u001b[0mtraces_normal_model\u001b[0m\u001b[1;33m)\u001b[0m\u001b[1;33m\u001b[0m\u001b[1;33m\u001b[0m\u001b[0m\n\u001b[0;32m      7\u001b[0m     \u001b[0maz\u001b[0m\u001b[1;33m.\u001b[0m\u001b[0mplot_posterior\u001b[0m\u001b[1;33m(\u001b[0m\u001b[0mtraces_normal_model\u001b[0m\u001b[1;33m)\u001b[0m\u001b[1;33m\u001b[0m\u001b[1;33m\u001b[0m\u001b[0m\n",
      "\u001b[1;32m~\\miniconda3\\envs\\bayesianStats\\lib\\site-packages\\pymc3\\sampling.py\u001b[0m in \u001b[0;36msample\u001b[1;34m(draws, step, init, n_init, start, trace, chain_idx, chains, cores, tune, progressbar, model, random_seed, discard_tuned_samples, compute_convergence_checks, callback, return_inferencedata, idata_kwargs, mp_ctx, pickle_backend, **kwargs)\u001b[0m\n\u001b[0;32m    543\u001b[0m         \u001b[0m_print_step_hierarchy\u001b[0m\u001b[1;33m(\u001b[0m\u001b[0mstep\u001b[0m\u001b[1;33m)\u001b[0m\u001b[1;33m\u001b[0m\u001b[1;33m\u001b[0m\u001b[0m\n\u001b[0;32m    544\u001b[0m         \u001b[1;32mtry\u001b[0m\u001b[1;33m:\u001b[0m\u001b[1;33m\u001b[0m\u001b[1;33m\u001b[0m\u001b[0m\n\u001b[1;32m--> 545\u001b[1;33m             \u001b[0mtrace\u001b[0m \u001b[1;33m=\u001b[0m \u001b[0m_mp_sample\u001b[0m\u001b[1;33m(\u001b[0m\u001b[1;33m**\u001b[0m\u001b[0msample_args\u001b[0m\u001b[1;33m,\u001b[0m \u001b[1;33m**\u001b[0m\u001b[0mparallel_args\u001b[0m\u001b[1;33m)\u001b[0m\u001b[1;33m\u001b[0m\u001b[1;33m\u001b[0m\u001b[0m\n\u001b[0m\u001b[0;32m    546\u001b[0m         \u001b[1;32mexcept\u001b[0m \u001b[0mpickle\u001b[0m\u001b[1;33m.\u001b[0m\u001b[0mPickleError\u001b[0m\u001b[1;33m:\u001b[0m\u001b[1;33m\u001b[0m\u001b[1;33m\u001b[0m\u001b[0m\n\u001b[0;32m    547\u001b[0m             \u001b[0m_log\u001b[0m\u001b[1;33m.\u001b[0m\u001b[0mwarning\u001b[0m\u001b[1;33m(\u001b[0m\u001b[1;34m\"Could not pickle model, sampling singlethreaded.\"\u001b[0m\u001b[1;33m)\u001b[0m\u001b[1;33m\u001b[0m\u001b[1;33m\u001b[0m\u001b[0m\n",
      "\u001b[1;32m~\\miniconda3\\envs\\bayesianStats\\lib\\site-packages\\pymc3\\sampling.py\u001b[0m in \u001b[0;36m_mp_sample\u001b[1;34m(draws, tune, step, chains, cores, chain, random_seed, start, progressbar, trace, model, callback, discard_tuned_samples, mp_ctx, pickle_backend, **kwargs)\u001b[0m\n\u001b[0;32m   1510\u001b[0m     \u001b[1;32mexcept\u001b[0m \u001b[0mKeyboardInterrupt\u001b[0m\u001b[1;33m:\u001b[0m\u001b[1;33m\u001b[0m\u001b[1;33m\u001b[0m\u001b[0m\n\u001b[0;32m   1511\u001b[0m         \u001b[1;32mif\u001b[0m \u001b[0mdiscard_tuned_samples\u001b[0m\u001b[1;33m:\u001b[0m\u001b[1;33m\u001b[0m\u001b[1;33m\u001b[0m\u001b[0m\n\u001b[1;32m-> 1512\u001b[1;33m             \u001b[0mtraces\u001b[0m\u001b[1;33m,\u001b[0m \u001b[0mlength\u001b[0m \u001b[1;33m=\u001b[0m \u001b[0m_choose_chains\u001b[0m\u001b[1;33m(\u001b[0m\u001b[0mtraces\u001b[0m\u001b[1;33m,\u001b[0m \u001b[0mtune\u001b[0m\u001b[1;33m)\u001b[0m\u001b[1;33m\u001b[0m\u001b[1;33m\u001b[0m\u001b[0m\n\u001b[0m\u001b[0;32m   1513\u001b[0m         \u001b[1;32melse\u001b[0m\u001b[1;33m:\u001b[0m\u001b[1;33m\u001b[0m\u001b[1;33m\u001b[0m\u001b[0m\n\u001b[0;32m   1514\u001b[0m             \u001b[0mtraces\u001b[0m\u001b[1;33m,\u001b[0m \u001b[0mlength\u001b[0m \u001b[1;33m=\u001b[0m \u001b[0m_choose_chains\u001b[0m\u001b[1;33m(\u001b[0m\u001b[0mtraces\u001b[0m\u001b[1;33m,\u001b[0m \u001b[1;36m0\u001b[0m\u001b[1;33m)\u001b[0m\u001b[1;33m\u001b[0m\u001b[1;33m\u001b[0m\u001b[0m\n",
      "\u001b[1;32m~\\miniconda3\\envs\\bayesianStats\\lib\\site-packages\\pymc3\\sampling.py\u001b[0m in \u001b[0;36m_choose_chains\u001b[1;34m(traces, tune)\u001b[0m\n\u001b[0;32m   1528\u001b[0m     \u001b[0mlengths\u001b[0m \u001b[1;33m=\u001b[0m \u001b[1;33m[\u001b[0m\u001b[0mmax\u001b[0m\u001b[1;33m(\u001b[0m\u001b[1;36m0\u001b[0m\u001b[1;33m,\u001b[0m \u001b[0mlen\u001b[0m\u001b[1;33m(\u001b[0m\u001b[0mtrace\u001b[0m\u001b[1;33m)\u001b[0m \u001b[1;33m-\u001b[0m \u001b[0mtune\u001b[0m\u001b[1;33m)\u001b[0m \u001b[1;32mfor\u001b[0m \u001b[0mtrace\u001b[0m \u001b[1;32min\u001b[0m \u001b[0mtraces\u001b[0m\u001b[1;33m]\u001b[0m\u001b[1;33m\u001b[0m\u001b[1;33m\u001b[0m\u001b[0m\n\u001b[0;32m   1529\u001b[0m     \u001b[1;32mif\u001b[0m \u001b[1;32mnot\u001b[0m \u001b[0msum\u001b[0m\u001b[1;33m(\u001b[0m\u001b[0mlengths\u001b[0m\u001b[1;33m)\u001b[0m\u001b[1;33m:\u001b[0m\u001b[1;33m\u001b[0m\u001b[1;33m\u001b[0m\u001b[0m\n\u001b[1;32m-> 1530\u001b[1;33m         \u001b[1;32mraise\u001b[0m \u001b[0mValueError\u001b[0m\u001b[1;33m(\u001b[0m\u001b[1;34m\"Not enough samples to build a trace.\"\u001b[0m\u001b[1;33m)\u001b[0m\u001b[1;33m\u001b[0m\u001b[1;33m\u001b[0m\u001b[0m\n\u001b[0m\u001b[0;32m   1531\u001b[0m \u001b[1;33m\u001b[0m\u001b[0m\n\u001b[0;32m   1532\u001b[0m     \u001b[0midxs\u001b[0m \u001b[1;33m=\u001b[0m \u001b[0mnp\u001b[0m\u001b[1;33m.\u001b[0m\u001b[0margsort\u001b[0m\u001b[1;33m(\u001b[0m\u001b[0mlengths\u001b[0m\u001b[1;33m)\u001b[0m\u001b[1;33m[\u001b[0m\u001b[1;33m:\u001b[0m\u001b[1;33m:\u001b[0m\u001b[1;33m-\u001b[0m\u001b[1;36m1\u001b[0m\u001b[1;33m]\u001b[0m\u001b[1;33m\u001b[0m\u001b[1;33m\u001b[0m\u001b[0m\n",
      "\u001b[1;31mValueError\u001b[0m: Not enough samples to build a trace."
     ]
    }
   ],
   "source": [
    "with pm.Model() as normal_model:\n",
    "    mu = pm.Uniform('mu', lower=40, upper=70)\n",
    "    sigma = pm.HalfNormal('sigma', sd=25)\n",
    "    y = pm.Normal('y', mu=mu, sd=sigma, observed=data_normal_example)\n",
    "    traces_normal_model = pm.sample(1000)\n",
    "    az.plot_trace(traces_normal_model)\n",
    "    az.plot_posterior(traces_normal_model)"
   ]
  },
  {
   "cell_type": "markdown",
   "metadata": {},
   "source": [
    "As you may have noticed, it a produces row for each parameter. For this model, the posterior is bidimensional, and so the previous figure is showing the marginal distributions of each parameter. We\n",
    "can use the plot_joint function from ArviZ to see what the bi-dimensional posterior\n",
    "looks like:"
   ]
  },
  {
   "cell_type": "code",
   "execution_count": null,
   "metadata": {
    "pycharm": {
     "is_executing": true
    }
   },
   "outputs": [],
   "source": [
    "az.plot_pair(traces_normal_model, kind='kde', fill_last=False)"
   ]
  },
  {
   "cell_type": "code",
   "execution_count": null,
   "metadata": {
    "pycharm": {
     "is_executing": true
    }
   },
   "outputs": [],
   "source": [
    "az.summary(traces_normal_model)"
   ]
  },
  {
   "cell_type": "markdown",
   "metadata": {},
   "source": [
    "Now that we have computed the posterior, we can use it to simulate data and check how\n",
    "consistent the simulated is data with respect to the observed data."
   ]
  },
  {
   "cell_type": "code",
   "execution_count": null,
   "metadata": {
    "pycharm": {
     "is_executing": true
    }
   },
   "outputs": [],
   "source": [
    "# Here we generate 100 predictions \n",
    "y_pred_normal_model = pm.sample_posterior_predictive(traces_normal_model, normal_model)"
   ]
  },
  {
   "cell_type": "markdown",
   "metadata": {},
   "source": [
    "We can use the plot_ppc function for a visual posterior predictive check"
   ]
  },
  {
   "cell_type": "code",
   "execution_count": null,
   "metadata": {
    "pycharm": {
     "is_executing": true
    }
   },
   "outputs": [],
   "source": [
    "data_ppc = az.from_pymc3(trace=traces_noraml_model, posterior_predictive=y_pred_normal_model)\n",
    "ax = az.plot_ppc(data_ppc, figsize=(12, 6), mean=False)\n",
    "ax[0].legend(fontsize=15)"
   ]
  },
  {
   "cell_type": "markdown",
   "metadata": {},
   "source": [
    "The single (black) line is a KDE of the data and the many semitransparent\n",
    "(brown) lines are KDEs computed from each one of the 100 posterior predictive samples. The\n",
    "semitransparent (brown) lines reflect the uncertainty we have about the inferred distribution\n",
    "of the predicted data. Sometimes, when you have very few data points. A plot like this one\n",
    "could show the predicted curves as hairy or wonky; this is due to the way the KDE is\n",
    "implemented in ArviZ. The density is estimated within the actual range of the data passed\n",
    "to the kde function, while outside this range the density is assumed to be zero. While some\n",
    "could reckon this as a bug, I think it's a feature, since it's reflecting a property of the data\n",
    "instead of over-smoothing it.\n",
    "\n",
    "Let's suppouse that our data actually comes from an exponential distribution"
   ]
  },
  {
   "cell_type": "code",
   "execution_count": null,
   "metadata": {
    "pycharm": {
     "is_executing": true
    }
   },
   "outputs": [],
   "source": [
    "exponential_data = [51.71890417, 51.52989867, 51.19768502, 50.07587698, 50.11895938,\n",
    "       51.02364632, 50.7204148 , 50.87160323, 50.72192725, 50.59157468,\n",
    "       51.12538601, 50.57521099, 50.51400783, 51.59580904, 50.29344377,\n",
    "       50.37283725, 50.09052405, 50.06637147, 50.95769987, 50.43026267,\n",
    "       51.09102682, 50.61572891, 50.88120627, 50.78542902, 50.40405133,\n",
    "       50.65738229, 50.05331171, 50.14590964, 50.03565648, 50.16848012,\n",
    "       54.2168165 , 50.53544686, 51.33870146, 50.30185492, 52.2645269 ,\n",
    "       53.21577955, 50.09327391, 50.24572219, 52.20798205, 50.24506923,\n",
    "       50.42217981, 50.89045788, 50.23761075, 50.44328745, 50.31913984,\n",
    "       52.06044659, 53.06397917, 50.6824757 , 50.40460747, 51.47724307,\n",
    "       53.62715536, 51.23571322, 51.01264378, 50.36300543, 51.19962718,\n",
    "       51.4616544 , 51.07307566, 50.76351372, 50.20819704, 50.88091322,\n",
    "       50.90684445, 51.7856868 , 51.26037191, 50.74145605, 50.76082966,\n",
    "       50.14072498, 50.21265318, 50.11143837, 53.13399657, 53.90588054,\n",
    "       50.68867788, 51.87751483, 51.39200431, 50.0870855 , 50.59481925,\n",
    "       50.72166842, 51.7947655 , 51.64060298, 51.31425169, 50.60241514,\n",
    "       50.21758119, 50.06812859, 50.73340728, 51.16911463, 50.89974786,\n",
    "       50.21819167, 50.92764524, 50.3611073 , 52.39966505, 50.31840255,\n",
    "       53.79727246, 50.30784875, 51.87582813, 50.02905726, 51.08994826,\n",
    "       51.3367732 , 50.98098735, 50.64939377, 50.29267653, 50.22829566]\n",
    "\n",
    "with pm.Model() as bad_normal_model:\n",
    "    mu = pm.Uniform('mu', lower=40, upper=70)\n",
    "    sigma = pm.HalfNormal('sigma', sd=25)\n",
    "    y = pm.Normal('y', mu=mu, sd=sigma, observed=exponential_data)\n",
    "    traces_bad_model = pm.sample(1000)\n",
    "    az.plot_trace(traces_bad_model)\n",
    "    az.plot_posterior(traces_bad_model)\n",
    "    \n",
    "y_pred_bad_normal_model = pm.sample_posterior_predictive(traces_bad_model, bad_normal_model)\n",
    "data_ppc = az.from_pymc3(trace=traces_bad_model, posterior_predictive=y_pred_bad_normal_model)\n",
    "ax = az.plot_ppc(data_ppc, figsize=(12, 6), mean=False)\n",
    "ax[0].legend(fontsize=15)"
   ]
  },
  {
   "cell_type": "markdown",
   "metadata": {},
   "source": [
    "The PPC indicates that there's something wrong with our model. Note that this we would not have noticed it just by looking at the posterior plots.\n",
    "\n",
    "**NOTE:** If you are only interested in a posterior predictive check, is better not to specify the parameter samples in sample_posterior_predictive.\n",
    "\n",
    "**NOTE:** The function plot_ppc of Arviz does not work well with discrete data.\n",
    "\n",
    "# Point estimation\n",
    "\n",
    "Frequentist point-estimation techniques are typically based on the choice of an intuitively\n",
    "sensible criteria (e.g., method of moments) and the statistical properties of the resulting\n",
    "estimators are addressed after the fact. In contrast, Bayesian point estimation begins by\n",
    "announcing a criterion for determining what constitutes a good point estimate, and a method\n",
    "for producing an “optimal” point estimate given the data at hand is then derived.\n",
    "\n",
    "The Bayesian begins by specifying a loss (cost) function $C\\left( \\widehat \\theta, {\\theta } \\right)$,  that is, a nonnegative\n",
    "function satisfying $C\\left( {\\theta ,\\theta } \\right)=0$, which measures the consequences of using $\\widehat \\theta  = \\widehat \\theta \\left( Y \\right)$ (i.e., a particular function of the data) as an estimate when the “state of nature” is $\\theta$. Usually, the loss function is a function of the sampling error $\\widehat \\theta - \\theta$. Frequentists\n",
    "sometimes argue that the need to specify a loss function is one of the shortcomings of\n",
    "the Bayesian approach. However, there is usually a frequentist analogue to the Bayesian\n",
    "choice of loss function. For instance, the familiar concept of mean squared error simply corresponds to a particular type of loss function, namely quadratic loss.\n",
    "\n",
    "A good estimate is one that “minimizes” $C\\left( \\widehat \\theta, {\\theta } \\right)$ in some sense, but its randomness must\n",
    "first be eliminated. From the frequentist sampling theory point of view, $\\theta$ is non-stochastic\n",
    "but $C\\left( \\widehat \\theta, {\\theta } \\right)$ is nonetheless stochastic because the estimator $\\widehat \\theta  = \\widehat \\theta \\left( Y \\right)$ is a random variable\n",
    "(i.e., $\\widehat \\theta$ depends on the random variable $Y$ ). An obvious way to circumscribe the random-\n",
    "ness of $C\\left( \\widehat \\theta, {\\theta } \\right)$ is to focus attention on its expected value, assuming it exists. Frequentists\n",
    "consider the risk function, that is, the nonstochastic function:\n",
    "\n",
    "$$R\\left( {\\widehat \\theta \\left| \\theta  \\right.} \\right) = {E_{Y\\left| \\theta  \\right.}}\\left[ {C\\left( {\\widehat \\theta \\left( Y \\right),\\theta } \\right)} \\right],$$\n",
    "\n",
    "where the expectation (assumed to exist) is taken with respect to the sampling probability\n",
    "function $p(y|\\theta)$.\n",
    "\n",
    "In contrast, the Bayesian perspective is entirely ex post (i.e., it conditions on the observed data $y$). That is, the Bayesian uses $\\widehat \\theta  = \\widehat \\theta \\left( Y \\right)$ as a point estimate of the unknown\n",
    "parameter $\\theta$. Unlike the frequentist approach, no role is provided for data that could have\n",
    "been observed but were not observed. Since $\\theta$ is unknown, the Bayesian perspective suggests treating it as a random variable with a distribution reflecting all the information at\n",
    "hand. Such information is fully contained in the posterior distribution of $\\theta$: It reflects both\n",
    "prior and sample information.\n",
    "\n",
    "In contrast to the frequentist approach, the randomness in loss function $C\\left( \\widehat \\theta, {\\theta } \\right)$ from the\n",
    "Bayesian perspective arises because $\\theta$ is an unknown random variable. From the frequentist\n",
    "perspective, although $\\theta$ is unknown, it is treated as a fixed constant. The ex ante perspective\n",
    "of the frequentist view implies that $C\\left( \\widehat \\theta, {\\theta } \\right)$ is random because $\\widehat \\theta$ is viewed as a random\n",
    "variable with a sampling distribution in repeated samples. The Bayesian solution to the\n",
    "randomness of the loss function is similar to the frequentist solution: Take its expectation\n",
    "before minimization. The expectation, however, is with respect to the posterior distribution\n",
    "$\\theta|y$, and not the sampling distribution $y|\\theta$ used to obtain the risk function. The Bayesian\n",
    "prescription is equivalent to the principle usually advocated for economic agents acting in\n",
    "a world of uncertainty: Using all available information, choose actions so as to maximize\n",
    "expected utility, or equivalently, minimize expected loss. The prescription is formalized in\n",
    "the following definition.\n",
    "\n",
    "Given the posterior density $p(\\theta|y)$ and the cost function $C\\left( \\widehat \\theta, {\\theta } \\right)$, the Bayes\n",
    "estimate (i.e., the Bayesian point estimate) is defined as the solution (assuming the expectation exists) to the following problem:\n",
    "\n",
    "$$\\mathop {\\min }\\limits_{\\hat \\theta } c\\left( {\\hat \\theta } \\right) = {E_{\\theta \\left| y \\right.}}\\left[ {C\\left( {\\widehat \\theta ,\\theta } \\right)} \\right],$$\n",
    "\n",
    "where\n",
    "\n",
    "$${E_{\\theta \\left| y \\right.}}\\left[ {C\\left( {\\widehat \\theta ,\\theta } \\right)} \\right] = \\int\\limits_\\Theta  {C\\left( {\\widehat \\theta ,\\theta } \\right)p\\left( {\\theta \\left| y \\right.} \\right)d\\theta }.$$\n",
    "\n",
    "## Quadratic loss function\n",
    "\n",
    "Consider the case of a single parameter of interest $\\theta$, let $c$ be a constant. The function \n",
    "\n",
    "$$C\\left( {\\hat \\theta ,\\theta } \\right) = c{\\left( {\\hat \\theta  - \\theta } \\right)^2}$$\n",
    "\n",
    "is known as the quadratic loss function.\n",
    "\n",
    "\\begin{align}\n",
    "{\\left( {\\hat \\theta  - \\theta } \\right)^2} &= {\\left( {\\hat \\theta  - E\\left( {\\theta \\left| y \\right.} \\right) + E\\left( {\\theta \\left| y \\right.} \\right) - \\theta } \\right)^2}\\\\\n",
    "&= {\\left( {\\hat \\theta  - E\\left( {\\theta \\left| y \\right.} \\right)} \\right)^2} + 2\\left( {\\hat \\theta  - E\\left( {\\theta \\left| y \\right.} \\right)} \\right)\\left( {E\\left( {\\theta \\left| y \\right.} \\right) - \\theta } \\right) + {\\left( {E\\left( {\\theta \\left| y \\right.} \\right) - \\theta } \\right)^2}\n",
    "\\end{align}\n",
    "\n",
    "Note that only the last two terms involve $\\theta$. Then,\n",
    "\n",
    "\\begin{align}\n",
    "{E_{\\theta \\left| y \\right.}}\\left[ {c{{\\left( {\\hat \\theta  - \\theta } \\right)}^2}} \\right] &= c\\left( {{{\\left( {\\hat \\theta  - E\\left( {\\theta \\left| y \\right.} \\right)} \\right)}^2} + 2\\left( {\\hat \\theta  - E\\left( {\\theta \\left| y \\right.} \\right)} \\right){E_{\\theta \\left| y \\right.}}\\left( {E\\left( {\\theta \\left| y \\right.} \\right) - \\theta } \\right) + {E_{\\theta \\left| y \\right.}}{{\\left( {E\\left( {\\theta \\left| y \\right.} \\right) - \\theta } \\right)}^2}} \\right)\\\\\n",
    "& = c{\\left( {\\hat \\theta  - E\\left( {\\theta \\left| y \\right.} \\right)} \\right)^2} + 0 + cVar\\left( {\\theta |y} \\right).\n",
    "\\end{align}\n",
    "\n",
    "which is minimized by setting the first term to zero. This means that, the bayesian estimation of $\\theta$ that minimizes the quadratic loss is the expected value, i.e. $\\widehat \\theta={E\\left( {\\theta \\left| y \\right.} \\right)}$.\n",
    "\n",
    "In a practical problem, to calculate this, we just need to sample several samples of the posterior and take the average.\n",
    "\n",
    "## MAP (Maximum a posteriori)\n",
    "\n",
    "Another popular bayesian point estimation method is the MAP Maximum a posteriori). Its formulation is quite simple and intuitive: given the value of the observations $y$, $\\theta_{MAP}$ is the value of $\\theta$ that maximizes the posterior distribution.\n",
    "\n",
    "<img src=\"https://parisnanterrefr.sharepoint.com/sites/StatistiqueetanalyseBaysienne/Supports%20de%20cours/map.PNG\" width=\"500\" height=\"500\" />\n",
    "\n",
    "The form of the posterior distribution, as given by Bayes' rule, allows\n",
    "an important computational shortcut: the denominator is the same for all $\\theta$\n",
    "and depends only on the value $y$ of the observation. Thus, to maximize the\n",
    "posterior, we only need to choose a value of $\\theta$ that maximizes the numerator (likelihood $\\times$ prior). Calculation of the denominator is unnecessary.\n",
    "\n",
    "Let's calculate the MAP estimator on the coin tossing example: the likelihood is $Binomial(n,\\theta)$ and the prior is uniform in 0,1. Let $n$ be the number of trials and $k$ the number of successes. By Bayes' formula\n",
    "\n",
    "$$p\\left( {\\theta \\left| y \\right.} \\right) \\propto \\left( \\begin{gathered}\n",
    "  n \\hfill \\\\\n",
    "  k \\hfill \\\\ \n",
    "\\end{gathered}  \\right){\\theta ^k}{\\left( {1 - \\theta } \\right)^{n - k}}{I_{\\left[ {0,1} \\right]}}\\left( \\theta  \\right),$$\n",
    "\n",
    "Note that the combinatorial number $\\left( \\begin{gathered}\n",
    "  n \\hfill \\\\\n",
    "  k \\hfill \\\\ \n",
    "\\end{gathered}  \\right)$ does not depend on $\\theta$, so we just need to find the maximum of ${\\theta ^k}{\\left( {1 - \\theta } \\right)^{n - k}}{I_{\\left[ {0,1} \\right]}}\\left( \\theta  \\right)$. Because this function is 0 outside the interval $[0,1]$, our problem reduces to finding the maximum of the function $h(\\theta)={\\theta ^k}{\\left( {1 - \\theta } \\right)^{n - k}}$ over the interval $[0,1]$. Taking derivatives with respect to $\\theta$\n",
    "\n",
    "$$h^\\prime \\left( \\theta  \\right) = k{\\theta ^{k - 1}}{\\left( {1 - \\theta } \\right)^{n - k}} - \\left( {n - k} \\right){\\theta ^k}{\\left( {1 - \\theta } \\right)^{n - k - 1}},$$\n",
    "\n",
    "putting this equal 0, we obtain that the maximum is attained at $\\frac{k}{n}$, therefore, $\\widehat\\theta_{MAP}=\\frac{k}{n}$. Note that in this case, MAP estimation coincides with the most likelihood estimation.\n",
    "\n",
    "PyMC3 provides the function `find_MAP` to calculate the MAP.\n",
    "\n",
    "The ussage is as follows"
   ]
  },
  {
   "cell_type": "code",
   "execution_count": null,
   "metadata": {
    "pycharm": {
     "is_executing": true
    }
   },
   "outputs": [],
   "source": [
    "# Sample data\n",
    "data = [1, 1, 1, 0, 1, 1, 0, 0, 1, 1]\n",
    "\n",
    "with pm.Model() as coin_flipping_model:\n",
    "    # The following line defines the prior, theta distributes as Beta(1,1)\n",
    "    theta = pm.Beta('theta', alpha=1., beta=1.)\n",
    "    # The following line defines the likelihood Bernoulli with p=theta\n",
    "    y = pm.Bernoulli('y', p=theta, observed=data)\n",
    "    map_estimator = pm.find_MAP()\n",
    "    print(\"The MAP estimator for the model is {0}\".format(map_estimator['theta']))"
   ]
  },
  {
   "cell_type": "markdown",
   "metadata": {},
   "source": [
    "Let's plot the posterior distribution to check that the MAP function works correctly"
   ]
  },
  {
   "cell_type": "code",
   "execution_count": null,
   "metadata": {},
   "outputs": [],
   "source": [
    "trace = pm.sample(4000, progressbar=True, model=coin_flipping_model)\n",
    "# Plotting the posterior, and showing the mode instead of the mean\n",
    "pp = az.plot_posterior(trace, point_estimate='mode')\n",
    "plt.show()"
   ]
  },
  {
   "cell_type": "markdown",
   "metadata": {},
   "source": [
    "# Misc\n",
    "\n",
    "PyMC3 can create directed acyclic graphs (DAGs) from models that are very similar to Kruschke's diagrams. You can obtain them using the `pm.model_to_graphviz` function"
   ]
  },
  {
   "cell_type": "code",
   "execution_count": null,
   "metadata": {},
   "outputs": [],
   "source": [
    "pm.model_to_graphviz(model=normal_model)"
   ]
  },
  {
   "cell_type": "code",
   "execution_count": null,
   "metadata": {},
   "outputs": [],
   "source": [
    "pm.model_to_graphviz(model=coin_flipping_model)"
   ]
  },
  {
   "cell_type": "markdown",
   "metadata": {},
   "source": [
    "To create this diagrams, you need to install the package graphviz, to do this, \n",
    "\n",
    "`conda activate bayesianStats`\n",
    "\n",
    "`conda install -c conda-forge python-graphviz`"
   ]
  },
  {
   "cell_type": "code",
   "execution_count": null,
   "metadata": {},
   "outputs": [],
   "source": []
  }
 ],
 "metadata": {
  "kernelspec": {
   "display_name": "Python 3",
   "language": "python",
   "name": "python3"
  },
  "language_info": {
   "codemirror_mode": {
    "name": "ipython",
    "version": 3
   },
   "file_extension": ".py",
   "mimetype": "text/x-python",
   "name": "python",
   "nbconvert_exporter": "python",
   "pygments_lexer": "ipython3",
   "version": "3.7.9"
  },
  "pycharm": {
   "stem_cell": {
    "cell_type": "raw",
    "metadata": {
     "collapsed": false
    },
    "source": []
   }
  }
 },
 "nbformat": 4,
 "nbformat_minor": 1
}
