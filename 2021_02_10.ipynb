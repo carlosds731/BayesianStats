{
 "cells": [
  {
   "cell_type": "markdown",
   "metadata": {
    "pycharm": {
     "name": "#%% md\n"
    }
   },
   "source": [
    "# Hypothesis testing\n",
    "\n",
    "We have two biased coins, referred to as coins 1 and 2, with probabilities of heads equal to $p_1$ and $p_2$, respectively. We choose a coin at random\n",
    "(either coin is equally likely to be chosen) and we want to infer its identity, based\n",
    "on the outcome of a several tosses. Let $\\Theta=1$ and $\\Theta=2$ be the hypotheses that coin\n",
    "1 or 2, respectively, was chosen. Let X be equal to 1 or 0, depending on whether\n",
    "the outcome of the toss was a head or a tail, respectively. "
   ]
  },
  {
   "cell_type": "code",
   "execution_count": 1,
   "metadata": {
    "pycharm": {
     "is_executing": false
    }
   },
   "outputs": [
    {
     "name": "stderr",
     "text": [
      "WARNING (theano.gof.compilelock): Overriding existing lock by dead process '16320' (I am process '21600')\n",
      "Multiprocess sampling (4 chains in 4 jobs)\n",
      "BinaryGibbsMetropolis: [coin]\n",
      "Sampling 4 chains for 1_000 tune and 1_000 draw iterations (4_000 + 4_000 draws total) took 20 seconds.\n"
     ],
     "output_type": "stream"
    },
    {
     "data": {
      "text/plain": "<IPython.core.display.HTML object>",
      "text/html": "\n    <div>\n        <style>\n            /* Turns off some styling */\n            progress {\n                /* gets rid of default border in Firefox and Opera. */\n                border: none;\n                /* Needs to be in here for Safari polyfill so background images work as expected. */\n                background-size: auto;\n            }\n            .progress-bar-interrupted, .progress-bar-interrupted::-webkit-progress-bar {\n                background: #F44336;\n            }\n        </style>\n      <progress value='0' class='' max='8000' style='width:300px; height:20px; vertical-align: middle;'></progress>\n      \n    </div>\n    "
     },
     "metadata": {},
     "output_type": "display_data"
    },
    {
     "data": {
      "text/plain": "<Figure size 432x288 with 1 Axes>",
      "image/png": "[encoded data removed]"
     },
     "metadata": {
      "needs_background": "light"
     },
     "output_type": "display_data"
    },
    {
     "name": "stdout",
     "text": [
      "       mean     sd  hdi_3%  hdi_97%  mcse_mean  mcse_sd  ess_mean   ess_sd  \\\ncoin  0.532  0.499     0.0      1.0      0.004    0.003   14075.0  14075.0   \n\n      ess_bulk  ess_tail  r_hat  \ncoin   14075.0    4000.0    1.0  \n"
     ],
     "output_type": "stream"
    }
   ],
   "source": [
    "import pymc3 as pm\n",
    "import theano\n",
    "import numpy as np\n",
    "import arviz as az\n",
    "import matplotlib.pyplot as plt\n",
    "\n",
    "# These are the initial probabilities\n",
    "p_1 = 0.46\n",
    "p_2 = 0.52\n",
    "\n",
    "# This is the data\n",
    "number_tosses = 1\n",
    "heads = 1\n",
    "\n",
    "with pm.Model():\n",
    "    # Here we indicate that we have 2 coins, and the probability\n",
    "    # of selecting each of the coins is 0.5\n",
    "    coin = pm.Categorical('coin', p=[0.5, 0.5])\n",
    "    \n",
    "    # This is just a way to tell that if we select the first coin,\n",
    "    # the probability of getting heads is p_1 and if we select\n",
    "    # the second coin, the probability of heads is p_2\n",
    "    p = theano.shared(np.array([p_1, p_2]))[coin]\n",
    "    \n",
    "    # Here the likelihood is binomial, because we don't have the result\n",
    "    # for each individual toss\n",
    "    y = pm.Binomial('y', p=p, n=number_tosses, observed=[heads])\n",
    "    \n",
    "    trace = pm.sample(1000, progressbar=True)\n",
    "    \n",
    "    # The mode o\n",
    "    az.plot_posterior(trace, point_estimate='mode')\n",
    "\n",
    "    plt.show()\n",
    "    \n",
    "    print(az.summary(trace))"
   ]
  },
  {
   "cell_type": "markdown",
   "metadata": {
    "pycharm": {
     "is_executing": true
    }
   },
   "source": [
    "This indicates, that, according to the data, the selected coin was the second one.\n",
    "\n",
    "**NOTE:** For problems with only discrete random variables, don't use the find_MAP function, it will break.\n",
    "\n",
    "If now we have 50 tosses, 30 of them being tail"
   ]
  },
  {
   "cell_type": "code",
   "execution_count": 2,
   "metadata": {
    "pycharm": {
     "is_executing": false
    }
   },
   "outputs": [
    {
     "name": "stderr",
     "text": [
      "Multiprocess sampling (4 chains in 4 jobs)\n",
      "BinaryGibbsMetropolis: [coin]\n",
      "Sampling 4 chains for 1_000 tune and 1_000 draw iterations (4_000 + 4_000 draws total) took 18 seconds.\n"
     ],
     "output_type": "stream"
    },
    {
     "data": {
      "text/plain": "<IPython.core.display.HTML object>",
      "text/html": "\n    <div>\n        <style>\n            /* Turns off some styling */\n            progress {\n                /* gets rid of default border in Firefox and Opera. */\n                border: none;\n                /* Needs to be in here for Safari polyfill so background images work as expected. */\n                background-size: auto;\n            }\n            .progress-bar-interrupted, .progress-bar-interrupted::-webkit-progress-bar {\n                background: #F44336;\n            }\n        </style>\n      <progress value='0' class='' max='8000' style='width:300px; height:20px; vertical-align: middle;'></progress>\n      \n    </div>\n    "
     },
     "metadata": {},
     "output_type": "display_data"
    },
    {
     "data": {
      "text/plain": "<Figure size 432x288 with 1 Axes>",
      "image/png": "[encoded data removed]"
     },
     "metadata": {
      "needs_background": "light"
     },
     "output_type": "display_data"
    },
    {
     "name": "stdout",
     "text": [
      "       mean     sd  hdi_3%  hdi_97%  mcse_mean  mcse_sd  ess_mean  ess_sd  \\\ncoin  0.265  0.441     0.0      1.0      0.006    0.005    4707.0  4707.0   \n\n      ess_bulk  ess_tail  r_hat  \ncoin    4707.0    4000.0    1.0  \n"
     ],
     "output_type": "stream"
    }
   ],
   "source": [
    "import pymc3 as pm\n",
    "import theano\n",
    "import numpy as np\n",
    "import arviz as az\n",
    "import matplotlib.pyplot as plt\n",
    "\n",
    "# These are the initial probabilities\n",
    "p_1 = 0.46\n",
    "p_2 = 0.52\n",
    "\n",
    "# This is the data\n",
    "number_tosses = 50\n",
    "heads = 20\n",
    "\n",
    "with pm.Model():\n",
    "    # Here we indicate that we have 2 coins, and the probability\n",
    "    # of selecting each of the coins is 0.5\n",
    "    coin = pm.Categorical('coin', p=[0.5, 0.5])\n",
    "    \n",
    "    # This is just a way to tell that if we select the first coin,\n",
    "    # the probability of getting heads is p_1 and if we select\n",
    "    # the second coin, the probability of heads is p_2\n",
    "    p = theano.shared(np.array([p_1, p_2]))[coin]\n",
    "    \n",
    "    # Here the likelihood is binomial, because we don't have the result\n",
    "    # for each individual toss\n",
    "    y = pm.Binomial('y', p=p, n=number_tosses, observed=[heads])\n",
    "    \n",
    "    trace = pm.sample(1000, progressbar=True)\n",
    "    \n",
    "    # The mode o\n",
    "    az.plot_posterior(trace, point_estimate='mode')\n",
    "\n",
    "    plt.show()\n",
    "    \n",
    "    print(az.summary(trace))"
   ]
  },
  {
   "cell_type": "markdown",
   "metadata": {},
   "source": [
    "## Signal detection\n",
    "\n",
    "We have 3 sources (labeled 0, 1 and 2) and one detector; when the detector is \"paired\" with one source it only reads the messages from that source. Let's assume that our detector is paired but we don't know what source is paired with. When the detector reads the message it sees some white noise that is modeled as a standard normal distribution.\n",
    "\n",
    "$$X = \\mu + N$$\n",
    "\n",
    "In order to find out with what source the detector is paired, we send a different message (a number) from each source and we repeat that message 10 times. Then, we collect the message that the receptor received.\n",
    "\n",
    "We know that the probability that the detector is paired with the source number 2 is twice  the probability that it is paired with source 0 or 1, and we also know that the probability that it is paired with source 0 is the same as the probability that it is paired with source 1."
   ]
  },
  {
   "cell_type": "code",
   "execution_count": 3,
   "metadata": {
    "pycharm": {
     "is_executing": false
    }
   },
   "outputs": [
    {
     "name": "stderr",
     "text": [
      "Multiprocess sampling (4 chains in 4 jobs)\n",
      "CategoricalGibbsMetropolis: [source]\n",
      "Sampling 4 chains for 1_000 tune and 1_000 draw iterations (4_000 + 4_000 draws total) took 18 seconds.\n"
     ],
     "output_type": "stream"
    },
    {
     "data": {
      "text/plain": "<IPython.core.display.HTML object>",
      "text/html": "\n    <div>\n        <style>\n            /* Turns off some styling */\n            progress {\n                /* gets rid of default border in Firefox and Opera. */\n                border: none;\n                /* Needs to be in here for Safari polyfill so background images work as expected. */\n                background-size: auto;\n            }\n            .progress-bar-interrupted, .progress-bar-interrupted::-webkit-progress-bar {\n                background: #F44336;\n            }\n        </style>\n      <progress value='0' class='' max='8000' style='width:300px; height:20px; vertical-align: middle;'></progress>\n      \n    </div>\n    "
     },
     "metadata": {},
     "output_type": "display_data"
    },
    {
     "data": {
      "text/plain": "<Figure size 432x288 with 1 Axes>",
      "image/png": "[encoded data removed]"
     },
     "metadata": {
      "needs_background": "light"
     },
     "output_type": "display_data"
    },
    {
     "name": "stdout",
     "text": [
      "         mean     sd  hdi_3%  hdi_97%  mcse_mean  mcse_sd  ess_mean  ess_sd  \\\nsource  0.564  0.611     0.0      2.0       0.01    0.007    3946.0  3946.0   \n\n        ess_bulk  ess_tail  r_hat  \nsource    3946.0    3983.0    1.0  \n"
     ],
     "output_type": "stream"
    }
   ],
   "source": [
    "# These are the values of the messages\n",
    "mu_0 = -0.3\n",
    "mu_1 = 0.2\n",
    "mu_2 = 0.7\n",
    "\n",
    "data = [-1.26318642,  0.5758068 , -0.16657075,  0.08515534, -0.89754746,\n",
    "    0.20262975,  0.19462712,  0.52539873, -0.34519777,  0.34857591]\n",
    "\n",
    "with pm.Model() as signal_detection_model:\n",
    "    # Here we indicate that we have 3 different sources, and the prior probabilities\n",
    "    source = pm.Categorical('source', p=[0.25, 0.25, 0.5])\n",
    "\n",
    "    # This is just a way to tell that if the data comes from source 0\n",
    "    # the mean should be mu_0 and the same with the other sources\n",
    "    mu = theano.shared(np.array([mu_0, mu_1, mu_2]))[source]\n",
    "\n",
    "    # The likelihood is normal\n",
    "    y = pm.Normal('y', mu=mu, sigma=1, observed=data)\n",
    "\n",
    "    trace = pm.sample(1000, progressbar=True)\n",
    "\n",
    "    # The mode is the MAP\n",
    "    az.plot_posterior(trace, point_estimate='mode')\n",
    "\n",
    "    plt.show()\n",
    "\n",
    "    print(az.summary(trace))"
   ]
  },
  {
   "cell_type": "markdown",
   "metadata": {},
   "source": [
    "The data and the model indicates that, contrary to our prior beliefs, the detector is most likely paired with source 0.\n",
    "\n",
    "**Q:** What's the probability that the signal is from sources 0 or 1?"
   ]
  },
  {
   "cell_type": "code",
   "execution_count": 4,
   "metadata": {
    "scrolled": true,
    "pycharm": {
     "is_executing": false
    }
   },
   "outputs": [
    {
     "name": "stderr",
     "text": [
      "C:\\Users\\carlo\\miniconda3\\envs\\bayesianStats\\lib\\site-packages\\arviz\\data\\io_pymc3.py:89: FutureWarning: Using `from_pymc3` without the model will be deprecated in a future release. Not using the model will return less accurate and less useful results. Make sure you use the model argument or call from_pymc3 within a model context.\n  FutureWarning,\n"
     ],
     "output_type": "stream"
    },
    {
     "data": {
      "text/plain": "array([<AxesSubplot:title={'center':'source'}>], dtype=object)"
     },
     "metadata": {},
     "output_type": "execute_result",
     "execution_count": 4
    },
    {
     "data": {
      "text/plain": "<Figure size 432x288 with 1 Axes>",
      "image/png": "[encoded data removed]"
     },
     "metadata": {
      "needs_background": "light"
     },
     "output_type": "display_data"
    }
   ],
   "source": [
    "az.plot_posterior(trace, hdi_prob=0.80, ref_val=2)"
   ]
  },
  {
   "cell_type": "markdown",
   "metadata": {},
   "source": [
    "**R:** The probability that the signal is from sources 0 or 1 if 93.2%."
   ]
  },
  {
   "cell_type": "markdown",
   "metadata": {},
   "source": [
    "## Groups comparison\n",
    "\n",
    "One pretty common statistical analysis is group comparison. We may be interested in how\n",
    "well patients respond to a certain drug, the reduction of car accidents by the introduction of\n",
    "a new traffic regulation, student performance under different teaching approaches, and so\n",
    "on.\n",
    "\n",
    "Sometimes, this type of question is framed under the hypothesis testing scenario with the\n",
    "goal of declaring a result statistically significant. Relying only on statistical significance can\n",
    "be problematic for many reasons: on the one hand, statistical significance is not equivalent\n",
    "to practical significance; on the other hand, a really small effect can be declared significant\n",
    "just by collecting enough data. The idea of hypothesis testing is connected to the concept of\n",
    "p-values. This is not a fundamental connection but a cultural one; people are used to\n",
    "thinking that way mostly because that's what they learn in most introductory statistical\n",
    "courses. There is a long record of studies and essays showing that, more often than not, p-\n",
    "values are used and interpreted the wrong way, even by people who are using them on a\n",
    "daily basis.\n",
    "\n",
    "Instead of doing hypothesis testing, we are going to take a different route and we are going\n",
    "to focus on estimating the **effect size**, that is, quantifying the difference between two\n",
    "groups. One advantage of thinking in terms of effect size is that we move away from the\n",
    "yes-no questions like; Does it work?, Is there any effect? to the more nuance type of\n",
    "question like; How well does it work? How large/small is the effect?\n",
    "\n",
    "Sometimes, when comparing groups, people talk about a control group and a treatment\n",
    "group (or maybe more than one control and treatment groups). This makes sense, for\n",
    "example, when we want to test a new drug: because of the placebo effect and other reasons,\n",
    "we want to compare the new drug (the treatment) against a control group (a group not\n",
    "receiving the drug). In this case, we want to know how well one drug works compared to\n",
    "doing nothing (or, as is generally done, against the placebo effect). One interesting\n",
    "alternative question will be to ask how good a new drug is compared with the (already\n",
    "approved) most popular drug to treat that illness. In such a case, the control group cannot\n",
    "be a placebo; it should be the other drug. Bogus control groups are a splendid way to lie\n",
    "using statistics.\n",
    "\n",
    "For example, imagine you work for a dairy product company that wants to sell overly\n",
    "sugared yogurts to kids by telling their dads and moms that this particular yogurt boosts\n",
    "the immune system or help their kids grow stronger. One way to cheat and falsely back up\n",
    "your claims with data is by using milk or even water as a control group, instead of another\n",
    "cheaper, less sugary, less marketed yogurt. It may sound silly when I put this way, but\n",
    "there is a lot of actual research done this way. In fact, I am describing actual papers, not\n",
    "imaginary hypothetical scenarios. When someone says something is harder, better, faster,\n",
    "stronger, remember to ask what the baseline used for the comparison was.\n",
    "\n",
    "To compare groups, we must decide which feature (or features) we are going to use for the\n",
    "comparison. A very common feature is the mean of each group. Because we are Bayesian,\n",
    "we will work to obtain a posterior distribution of the differences of means between groups\n",
    "and not just a point-estimate of the differences. To help us see and interpret such a\n",
    "posterior, we are going to use three tools:\n",
    "\n",
    "* A posterior plot with a reference value\n",
    "* The Cohen's d\n",
    "* The probability of superiority\n",
    "\n",
    "### Cohen's d\n",
    "\n",
    "A common way to measure the effect size is Cohen's d, which is defined as follows:\n",
    "\n",
    "$$\\frac{{{\\mu _2} - {\\mu _1}}}{{\\sqrt {\\frac{{{\\sigma _1}^2 + {\\sigma _2}^2}}{2}} }}.$$\n",
    "\n",
    "According to this expression, the effect size is the difference of the means with respect to\n",
    "the pooled standard deviation of both groups. Because we can get a posterior distribution\n",
    "of means and standard deviations, we can compute a posterior distribution of Cohen's d\n",
    "values. Of course, if we just need or want one single value, we can compute the mean of\n",
    "that posterior distribution and get a single Cohen's d value. Generally, when computing a\n",
    "pooled standard deviation, we take into account the sample size of each group explicitly,\n",
    "but the previous formula is omitting the sample size of both groups. The reason for this is\n",
    "that we are getting the values of the standard deviation from the posterior and thus we are\n",
    "already accounting for the standard deviations' uncertainty.\n",
    "\n",
    "Cohen's d introduces the variability of each group by using their standard deviations. This\n",
    "is really important, as differences of one when you have a standard deviation of 0.1 seems\n",
    "large compared to the same difference when the standard deviation is 10. Also, a change of $x$\n",
    "units from one group to another could be explained by every individual data point\n",
    "changing exactly $x$ units or by half of them not changing and the other half changing\n",
    "units $2x$, and by many other combinations. Thus, including the intrinsic variations of groups is\n",
    "a way to put the differences in context. Re-scaling (standardizing) the differences helps us\n",
    "make sense of the importance of the different between groups, even when we are not very\n",
    "familiar with the scale used for the measurements.\n",
    "\n",
    "A Cohen's d can be interpreted as a Z-score (a standard score). A Z-\n",
    "score is the signed number of standard deviations by which a value differs\n",
    "from the mean value of what is being observed or measured. Thus, a\n",
    "Cohen's d of 0.5 could be interpreted as a difference of 0.5 standard\n",
    "deviation of one group with respect to the other.\n",
    "\n",
    "Even when the differences of means are standardized, we may still need to calibrate\n",
    "ourselves based on the context of a given problem to be able to say if a given value is big,\n",
    "small, medium, and so on. Fortunately, this calibration can be acquired with enough practice.\n",
    "Just as an example, if we are used to performing several analyses for more or less the same\n",
    "type of problems, we can get used to a Cohen's d of say 1, so when we get a Cohen's d of\n",
    "say 2, we know we have something important (or someone made a mistake somewhere!). If\n",
    "you do not have this practice yet, you can ask a domain expert for their valuable input. A\n",
    "very nice web page to explore what different values of Cohen's d look like is\n",
    "http://rpsychologist.com/d3/cohend. On that page, you will also find other ways to\n",
    "express an effect size; some of them could be more intuitive, such as the probability of\n",
    "superiority, which we will discuss next.\n",
    "\n",
    "### Probability of superiority\n",
    "\n",
    "This is another way to report the effect size, and this is defined as the probability that a data\n",
    "point taken at random from one group has a larger value than one also taken at random\n",
    "from the other group. If we assume that the data we are using is distributed as a normal, we\n",
    "can compute the probability of superiority from the Cohen's d using the following\n",
    "expression:\n",
    "\n",
    "$${p_s} = \\Phi \\left( {\\frac{\\delta }{{\\sqrt 2 }}} \\right)$$\n",
    "\n",
    "Here $\\Phi$, is the cumulative normal distribution and $\\delta$ is the Cohen's d. We can compute a\n",
    "point-estimate of the probability of superiority (what is usually reported), or we can\n",
    "compute the whole posterior distribution of values. If we are OK with the normality\n",
    "assumption, we can use this formula to get the probability of superiority from the Cohen's\n",
    "d. Otherwise, as we have samples from the posterior, we can directly compute it. This is a very nice advantage of using Markov chain Monte Carlo\n",
    "(MCMC) methods; once we get samples from the posterior, we can compute many\n",
    "quantities from it.\n",
    "\n",
    "## An example\n",
    "\n",
    "To explore the subject matter of this section, we are going to use the tips dataset. This data\n",
    "was reported for the first time by Bryant, P. G. and Smith, M (1995) in Practical Data\n",
    "Analysis: Case Studies in Business Statistics. You can download the data file from here https://teams.microsoft.com/l/file/AEB26E16-B2F1-41B9-99CC-627BD65E2374?tenantId=a37861db-695a-43bf-9e29-5179a055805b&fileType=csv&objectUrl=https%3A%2F%2Fparisnanterrefr.sharepoint.com%2Fsites%2FStatistiqueetanalyseBaysienne%2FDocuments%20partages%2FGeneral%2Ftips.csv&baseUrl=https%3A%2F%2Fparisnanterrefr.sharepoint.com%2Fsites%2FStatistiqueetanalyseBaysienne&serviceName=teams&threadId=19:e1e15013961d4502a255bfd237146fd0@thread.tacv2&groupId=81d7aa5f-4325-42a3-8142-b6919c20c742\n",
    "\n",
    "We want to study the effect of the day of the week on the amount of tips at a restaurant. For\n",
    "this example, the different groups are the days. Notice there is no control group or\n",
    "treatment group. If we wish, we can arbitrarily establish one day, for example, Thursday, as\n",
    "the reference or control. For now, let's start the analysis by loading the dataset as a pandas\n",
    "DataFrame using just one line of code. If you are not familiar with pandas, the tail\n",
    "command is used to show the last rows of a DataFrame (you can also try using head):"
   ]
  },
  {
   "cell_type": "code",
   "execution_count": 5,
   "metadata": {
    "pycharm": {
     "is_executing": false
    }
   },
   "outputs": [
    {
     "data": {
      "text/plain": "     total_bill   tip     sex smoker   day    time  size\n239       29.03  5.92    Male     No   Sat  Dinner     3\n240       27.18  2.00  Female    Yes   Sat  Dinner     2\n241       22.67  2.00    Male    Yes   Sat  Dinner     2\n242       17.82  1.75    Male     No   Sat  Dinner     2\n243       18.78  3.00  Female     No  Thur  Dinner     2",
      "text/html": "<div>\n<style scoped>\n    .dataframe tbody tr th:only-of-type {\n        vertical-align: middle;\n    }\n\n    .dataframe tbody tr th {\n        vertical-align: top;\n    }\n\n    .dataframe thead th {\n        text-align: right;\n    }\n</style>\n<table border=\"1\" class=\"dataframe\">\n  <thead>\n    <tr style=\"text-align: right;\">\n      <th></th>\n      <th>total_bill</th>\n      <th>tip</th>\n      <th>sex</th>\n      <th>smoker</th>\n      <th>day</th>\n      <th>time</th>\n      <th>size</th>\n    </tr>\n  </thead>\n  <tbody>\n    <tr>\n      <th>239</th>\n      <td>29.03</td>\n      <td>5.92</td>\n      <td>Male</td>\n      <td>No</td>\n      <td>Sat</td>\n      <td>Dinner</td>\n      <td>3</td>\n    </tr>\n    <tr>\n      <th>240</th>\n      <td>27.18</td>\n      <td>2.00</td>\n      <td>Female</td>\n      <td>Yes</td>\n      <td>Sat</td>\n      <td>Dinner</td>\n      <td>2</td>\n    </tr>\n    <tr>\n      <th>241</th>\n      <td>22.67</td>\n      <td>2.00</td>\n      <td>Male</td>\n      <td>Yes</td>\n      <td>Sat</td>\n      <td>Dinner</td>\n      <td>2</td>\n    </tr>\n    <tr>\n      <th>242</th>\n      <td>17.82</td>\n      <td>1.75</td>\n      <td>Male</td>\n      <td>No</td>\n      <td>Sat</td>\n      <td>Dinner</td>\n      <td>2</td>\n    </tr>\n    <tr>\n      <th>243</th>\n      <td>18.78</td>\n      <td>3.00</td>\n      <td>Female</td>\n      <td>No</td>\n      <td>Thur</td>\n      <td>Dinner</td>\n      <td>2</td>\n    </tr>\n  </tbody>\n</table>\n</div>"
     },
     "metadata": {},
     "output_type": "execute_result",
     "execution_count": 5
    }
   ],
   "source": [
    "import pandas as pd\n",
    "tips = pd.read_csv('tips.csv')\n",
    "tips.tail()"
   ]
  },
  {
   "cell_type": "markdown",
   "metadata": {},
   "source": [
    "For this problem we assume that the amount of tips received on a given day is a normal random variable.\n",
    "\n",
    "Just to simplify things, we are going to create three variables: the `tip` variable, representing\n",
    "the tips, the `idx` variable, a categorical dummy variable to encode the days with numbers,\n",
    "that is, [0, 1, 2, 3] instead of [Thursday, Friday, Saturday, Sunday], and finally\n",
    "the `groups` variable, with the number of groups (4):"
   ]
  },
  {
   "cell_type": "code",
   "execution_count": 6,
   "metadata": {
    "pycharm": {
     "is_executing": false
    }
   },
   "outputs": [
    {
     "name": "stdout",
     "text": [
      "[3 3 3 3 3 3 3 3 3 3 3 3 3 3 3 3 3 3 3 2 2 2 2 2 2 2 2 2 2 2 2 2 2 2 2 2 2\n 2 2 2 2 3 3 3 3 3 3 3 3 3 3 3 3 3 3 3 2 2 2 2 2 2 2 2 2 2 2 2 2 2 2 2 2 2\n 2 2 2 0 0 0 0 0 0 0 0 0 0 0 0 0 1 1 1 1 1 1 1 1 1 1 1 1 2 2 2 2 2 2 2 2 2\n 2 3 3 3 3 3 0 0 0 0 0 0 0 0 0 0 0 0 0 0 0 0 0 0 0 0 0 0 0 0 0 0 0 0 0 0 0\n 0 0 3 3 3 3 3 3 3 3 3 3 3 3 3 3 3 3 3 3 2 2 2 2 3 3 3 3 3 3 3 3 3 3 3 3 3\n 3 3 3 3 3 3 0 0 0 0 0 0 0 0 0 0 0 0 0 0 0 2 2 2 2 2 2 2 2 2 2 2 2 2 2 1 1\n 1 1 1 1 1 2 2 2 2 2 2 2 2 2 2 2 2 2 2 2 2 0]\n[ 1.01  1.66  3.5   3.31  3.61  4.71  2.    3.12  1.96  3.23  1.71  5.\n  1.57  3.    3.02  3.92  1.67  3.71  3.5   3.35  4.08  2.75  2.23  7.58\n  3.18  2.34  2.    2.    4.3   3.    1.45  2.5   3.    2.45  3.27  3.6\n  2.    3.07  2.31  5.    2.24  2.54  3.06  1.32  5.6   3.    5.    6.\n  2.05  3.    2.5   2.6   5.2   1.56  4.34  3.51  3.    1.5   1.76  6.73\n  3.21  2.    1.98  3.76  2.64  3.15  2.47  1.    2.01  2.09  1.97  3.\n  3.14  5.    2.2   1.25  3.08  4.    3.    2.71  3.    3.4   1.83  5.\n  2.03  5.17  2.    4.    5.85  3.    3.    3.5   1.    4.3   3.25  4.73\n  4.    1.5   3.    1.5   2.5   3.    2.5   3.48  4.08  1.64  4.06  4.29\n  3.76  4.    3.    1.    4.    2.55  4.    3.5   5.07  1.5   1.8   2.92\n  2.31  1.68  2.5   2.    2.52  4.2   1.48  2.    2.    2.18  1.5   2.83\n  1.5   2.    3.25  1.25  2.    2.    2.    2.75  3.5   6.7   5.    5.\n  2.3   1.5   1.36  1.63  1.73  2.    2.5   2.    2.74  2.    2.    5.14\n  5.    3.75  2.61  2.    3.5   2.5   2.    2.    3.    3.48  2.24  4.5\n  1.61  2.   10.    3.16  5.15  3.18  4.    3.11  2.    2.    4.    3.55\n  3.68  5.65  3.5   6.5   3.    5.    3.5   2.    3.5   4.    1.5   4.19\n  2.56  2.02  4.    1.44  2.    5.    2.    2.    4.    2.01  2.    2.5\n  4.    3.23  3.41  3.    2.03  2.23  2.    5.16  9.    2.5   6.5   1.1\n  3.    1.5   1.44  3.09  2.2   3.48  1.92  3.    1.58  2.5   2.    3.\n  2.72  2.88  2.    3.    3.39  1.47  3.    1.25  1.    1.17  4.67  5.92\n  2.    2.    1.75  3.  ]\n"
     ],
     "output_type": "stream"
    }
   ],
   "source": [
    "tip = tips['tip'].values\n",
    "idx = pd.Categorical(tips['day'], categories=['Thur', 'Fri', 'Sat', 'Sun']).codes\n",
    "groups = len(np.unique(idx))\n",
    "print(idx)\n",
    "print(tip)"
   ]
  },
  {
   "cell_type": "markdown",
   "metadata": {},
   "source": [
    "The model for this problem is almost the same as the normal model we saw last class; the only difference is that now $\\mu$\n",
    "and $\\sigma$ are going to be vectors instead of scalar variables. PyMC3 syntax is extremely\n",
    "helpful for this situation: instead of writing `for loops`, we can write our model in a\n",
    "vectorized way. This means that for the priors, we pass a shape argument and for the\n",
    "likelihood, we properly index the means and sds variables using the idx variable:"
   ]
  },
  {
   "cell_type": "code",
   "execution_count": 7,
   "metadata": {
    "pycharm": {
     "is_executing": false
    }
   },
   "outputs": [
    {
     "name": "stderr",
     "text": [
      "Auto-assigning NUTS sampler...\n",
      "Initializing NUTS using jitter+adapt_diag...\n",
      "Multiprocess sampling (4 chains in 4 jobs)\n",
      "NUTS: [sigma, mu]\n"
     ],
     "output_type": "stream"
    },
    {
     "data": {
      "text/plain": "<IPython.core.display.HTML object>",
      "text/html": "\n    <div>\n        <style>\n            /* Turns off some styling */\n            progress {\n                /* gets rid of default border in Firefox and Opera. */\n                border: none;\n                /* Needs to be in here for Safari polyfill so background images work as expected. */\n                background-size: auto;\n            }\n            .progress-bar-interrupted, .progress-bar-interrupted::-webkit-progress-bar {\n                background: #F44336;\n            }\n        </style>\n      <progress value='0' class='' max='24000' style='width:300px; height:20px; vertical-align: middle;'></progress>\n      \n    </div>\n    "
     },
     "metadata": {},
     "output_type": "display_data"
    },
    {
     "traceback": [
      "\u001b[1;31m---------------------------------------------------------------------------\u001b[0m",
      "\u001b[1;31mRemoteTraceback\u001b[0m                           Traceback (most recent call last)",
      "\u001b[1;31mRemoteTraceback\u001b[0m: \n\"\"\"\nTraceback (most recent call last):\n  File \"C:\\Users\\carlo\\miniconda3\\envs\\bayesianStats\\lib\\site-packages\\pymc3\\parallel_sampling.py\", line 114, in _unpickle_step_method\n    self._step_method = pickle.loads(self._step_method)\n  File \"C:\\Users\\carlo\\miniconda3\\envs\\bayesianStats\\lib\\site-packages\\theano\\compile\\function_module.py\", line 1082, in _constructor_Function\n    f = maker.create(input_storage, trustme=True)\n  File \"C:\\Users\\carlo\\miniconda3\\envs\\bayesianStats\\lib\\site-packages\\theano\\compile\\function_module.py\", line 1715, in create\n    input_storage=input_storage_lists, storage_map=storage_map)\n  File \"C:\\Users\\carlo\\miniconda3\\envs\\bayesianStats\\lib\\site-packages\\theano\\gof\\link.py\", line 699, in make_thunk\n    storage_map=storage_map)[:3]\n  File \"C:\\Users\\carlo\\miniconda3\\envs\\bayesianStats\\lib\\site-packages\\theano\\gof\\vm.py\", line 1091, in make_all\n    impl=impl))\n  File \"C:\\Users\\carlo\\miniconda3\\envs\\bayesianStats\\lib\\site-packages\\theano\\gof\\op.py\", line 955, in make_thunk\n    no_recycling)\n  File \"C:\\Users\\carlo\\miniconda3\\envs\\bayesianStats\\lib\\site-packages\\theano\\gof\\op.py\", line 858, in make_c_thunk\n    output_storage=node_output_storage)\n  File \"C:\\Users\\carlo\\miniconda3\\envs\\bayesianStats\\lib\\site-packages\\theano\\gof\\cc.py\", line 1217, in make_thunk\n    keep_lock=keep_lock)\n  File \"C:\\Users\\carlo\\miniconda3\\envs\\bayesianStats\\lib\\site-packages\\theano\\gof\\cc.py\", line 1157, in __compile__\n    keep_lock=keep_lock)\n  File \"C:\\Users\\carlo\\miniconda3\\envs\\bayesianStats\\lib\\site-packages\\theano\\gof\\cc.py\", line 1624, in cthunk_factory\n    key=key, lnk=self, keep_lock=keep_lock)\n  File \"C:\\Users\\carlo\\miniconda3\\envs\\bayesianStats\\lib\\site-packages\\theano\\gof\\cmodule.py\", line 1189, in module_from_key\n    module = lnk.compile_cmodule(location)\n  File \"C:\\Users\\carlo\\miniconda3\\envs\\bayesianStats\\lib\\site-packages\\theano\\gof\\cc.py\", line 1527, in compile_cmodule\n    preargs=preargs)\n  File \"C:\\Users\\carlo\\miniconda3\\envs\\bayesianStats\\lib\\site-packages\\theano\\gof\\cmodule.py\", line 2399, in compile_str\n    (status, compile_stderr.replace('\\n', '. ')))\nException: ('The following error happened while compiling the node', AdvancedSubtensor1(mu, TensorConstant{[3 3 3 3 3..2 2 2 2 0]}), '\\n', 'Compilation failed (return status=3): ', '[AdvancedSubtensor1(mu, TensorConstant{[3 3 3 3 3..2 2 2 2 0]})]')\n\nDuring handling of the above exception, another exception occurred:\n\nTraceback (most recent call last):\n  File \"C:\\Users\\carlo\\miniconda3\\envs\\bayesianStats\\lib\\site-packages\\pymc3\\parallel_sampling.py\", line 135, in run\n    self._unpickle_step_method()\n  File \"C:\\Users\\carlo\\miniconda3\\envs\\bayesianStats\\lib\\site-packages\\pymc3\\parallel_sampling.py\", line 116, in _unpickle_step_method\n    raise ValueError(unpickle_error)\nValueError: The model could not be unpickled. This is required for sampling with more than one core and multiprocessing context spawn or forkserver.\n\"\"\"",
      "\nThe above exception was the direct cause of the following exception:\n",
      "\u001b[1;31mValueError\u001b[0m                                Traceback (most recent call last)",
      "\u001b[1;31mValueError\u001b[0m: The model could not be unpickled. This is required for sampling with more than one core and multiprocessing context spawn or forkserver.",
      "\nThe above exception was the direct cause of the following exception:\n",
      "\u001b[1;31mRuntimeError\u001b[0m                              Traceback (most recent call last)",
      "\u001b[1;32m<ipython-input-7-689138b867b2>\u001b[0m in \u001b[0;36m<module>\u001b[1;34m\u001b[0m\n\u001b[0;32m      8\u001b[0m     \u001b[1;31m# We use the variable idx to index the mean and the standard deviation\u001b[0m\u001b[1;33m\u001b[0m\u001b[1;33m\u001b[0m\u001b[1;33m\u001b[0m\u001b[0m\n\u001b[0;32m      9\u001b[0m     \u001b[0my\u001b[0m \u001b[1;33m=\u001b[0m \u001b[0mpm\u001b[0m\u001b[1;33m.\u001b[0m\u001b[0mNormal\u001b[0m\u001b[1;33m(\u001b[0m\u001b[1;34m'y'\u001b[0m\u001b[1;33m,\u001b[0m \u001b[0mmu\u001b[0m\u001b[1;33m=\u001b[0m\u001b[0mmu\u001b[0m\u001b[1;33m[\u001b[0m\u001b[0midx\u001b[0m\u001b[1;33m]\u001b[0m\u001b[1;33m,\u001b[0m \u001b[0msd\u001b[0m\u001b[1;33m=\u001b[0m\u001b[0msigma\u001b[0m\u001b[1;33m[\u001b[0m\u001b[0midx\u001b[0m\u001b[1;33m]\u001b[0m\u001b[1;33m,\u001b[0m \u001b[0mobserved\u001b[0m\u001b[1;33m=\u001b[0m\u001b[0mtip\u001b[0m\u001b[1;33m)\u001b[0m\u001b[1;33m\u001b[0m\u001b[1;33m\u001b[0m\u001b[0m\n\u001b[1;32m---> 10\u001b[1;33m     \u001b[0mtrace_cg\u001b[0m \u001b[1;33m=\u001b[0m \u001b[0mpm\u001b[0m\u001b[1;33m.\u001b[0m\u001b[0msample\u001b[0m\u001b[1;33m(\u001b[0m\u001b[1;36m5000\u001b[0m\u001b[1;33m)\u001b[0m\u001b[1;33m\u001b[0m\u001b[1;33m\u001b[0m\u001b[0m\n\u001b[0m\u001b[0;32m     11\u001b[0m     \u001b[0maz\u001b[0m\u001b[1;33m.\u001b[0m\u001b[0mplot_trace\u001b[0m\u001b[1;33m(\u001b[0m\u001b[0mtrace_cg\u001b[0m\u001b[1;33m)\u001b[0m\u001b[1;33m\u001b[0m\u001b[1;33m\u001b[0m\u001b[0m\n\u001b[0;32m     12\u001b[0m \u001b[1;33m\u001b[0m\u001b[0m\n",
      "\u001b[1;32m~\\miniconda3\\envs\\bayesianStats\\lib\\site-packages\\pymc3\\sampling.py\u001b[0m in \u001b[0;36msample\u001b[1;34m(draws, step, init, n_init, start, trace, chain_idx, chains, cores, tune, progressbar, model, random_seed, discard_tuned_samples, compute_convergence_checks, callback, return_inferencedata, idata_kwargs, mp_ctx, pickle_backend, **kwargs)\u001b[0m\n\u001b[0;32m    543\u001b[0m         \u001b[0m_print_step_hierarchy\u001b[0m\u001b[1;33m(\u001b[0m\u001b[0mstep\u001b[0m\u001b[1;33m)\u001b[0m\u001b[1;33m\u001b[0m\u001b[1;33m\u001b[0m\u001b[0m\n\u001b[0;32m    544\u001b[0m         \u001b[1;32mtry\u001b[0m\u001b[1;33m:\u001b[0m\u001b[1;33m\u001b[0m\u001b[1;33m\u001b[0m\u001b[0m\n\u001b[1;32m--> 545\u001b[1;33m             \u001b[0mtrace\u001b[0m \u001b[1;33m=\u001b[0m \u001b[0m_mp_sample\u001b[0m\u001b[1;33m(\u001b[0m\u001b[1;33m**\u001b[0m\u001b[0msample_args\u001b[0m\u001b[1;33m,\u001b[0m \u001b[1;33m**\u001b[0m\u001b[0mparallel_args\u001b[0m\u001b[1;33m)\u001b[0m\u001b[1;33m\u001b[0m\u001b[1;33m\u001b[0m\u001b[0m\n\u001b[0m\u001b[0;32m    546\u001b[0m         \u001b[1;32mexcept\u001b[0m \u001b[0mpickle\u001b[0m\u001b[1;33m.\u001b[0m\u001b[0mPickleError\u001b[0m\u001b[1;33m:\u001b[0m\u001b[1;33m\u001b[0m\u001b[1;33m\u001b[0m\u001b[0m\n\u001b[0;32m    547\u001b[0m             \u001b[0m_log\u001b[0m\u001b[1;33m.\u001b[0m\u001b[0mwarning\u001b[0m\u001b[1;33m(\u001b[0m\u001b[1;34m\"Could not pickle model, sampling singlethreaded.\"\u001b[0m\u001b[1;33m)\u001b[0m\u001b[1;33m\u001b[0m\u001b[1;33m\u001b[0m\u001b[0m\n",
      "\u001b[1;32m~\\miniconda3\\envs\\bayesianStats\\lib\\site-packages\\pymc3\\sampling.py\u001b[0m in \u001b[0;36m_mp_sample\u001b[1;34m(draws, tune, step, chains, cores, chain, random_seed, start, progressbar, trace, model, callback, discard_tuned_samples, mp_ctx, pickle_backend, **kwargs)\u001b[0m\n\u001b[0;32m   1484\u001b[0m         \u001b[1;32mtry\u001b[0m\u001b[1;33m:\u001b[0m\u001b[1;33m\u001b[0m\u001b[1;33m\u001b[0m\u001b[0m\n\u001b[0;32m   1485\u001b[0m             \u001b[1;32mwith\u001b[0m \u001b[0msampler\u001b[0m\u001b[1;33m:\u001b[0m\u001b[1;33m\u001b[0m\u001b[1;33m\u001b[0m\u001b[0m\n\u001b[1;32m-> 1486\u001b[1;33m                 \u001b[1;32mfor\u001b[0m \u001b[0mdraw\u001b[0m \u001b[1;32min\u001b[0m \u001b[0msampler\u001b[0m\u001b[1;33m:\u001b[0m\u001b[1;33m\u001b[0m\u001b[1;33m\u001b[0m\u001b[0m\n\u001b[0m\u001b[0;32m   1487\u001b[0m                     \u001b[0mtrace\u001b[0m \u001b[1;33m=\u001b[0m \u001b[0mtraces\u001b[0m\u001b[1;33m[\u001b[0m\u001b[0mdraw\u001b[0m\u001b[1;33m.\u001b[0m\u001b[0mchain\u001b[0m \u001b[1;33m-\u001b[0m \u001b[0mchain\u001b[0m\u001b[1;33m]\u001b[0m\u001b[1;33m\u001b[0m\u001b[1;33m\u001b[0m\u001b[0m\n\u001b[0;32m   1488\u001b[0m                     \u001b[1;32mif\u001b[0m \u001b[0mtrace\u001b[0m\u001b[1;33m.\u001b[0m\u001b[0msupports_sampler_stats\u001b[0m \u001b[1;32mand\u001b[0m \u001b[0mdraw\u001b[0m\u001b[1;33m.\u001b[0m\u001b[0mstats\u001b[0m \u001b[1;32mis\u001b[0m \u001b[1;32mnot\u001b[0m \u001b[1;32mNone\u001b[0m\u001b[1;33m:\u001b[0m\u001b[1;33m\u001b[0m\u001b[1;33m\u001b[0m\u001b[0m\n",
      "\u001b[1;32m~\\miniconda3\\envs\\bayesianStats\\lib\\site-packages\\pymc3\\parallel_sampling.py\u001b[0m in \u001b[0;36m__iter__\u001b[1;34m(self)\u001b[0m\n\u001b[0;32m    490\u001b[0m \u001b[1;33m\u001b[0m\u001b[0m\n\u001b[0;32m    491\u001b[0m         \u001b[1;32mwhile\u001b[0m \u001b[0mself\u001b[0m\u001b[1;33m.\u001b[0m\u001b[0m_active\u001b[0m\u001b[1;33m:\u001b[0m\u001b[1;33m\u001b[0m\u001b[1;33m\u001b[0m\u001b[0m\n\u001b[1;32m--> 492\u001b[1;33m             \u001b[0mdraw\u001b[0m \u001b[1;33m=\u001b[0m \u001b[0mProcessAdapter\u001b[0m\u001b[1;33m.\u001b[0m\u001b[0mrecv_draw\u001b[0m\u001b[1;33m(\u001b[0m\u001b[0mself\u001b[0m\u001b[1;33m.\u001b[0m\u001b[0m_active\u001b[0m\u001b[1;33m)\u001b[0m\u001b[1;33m\u001b[0m\u001b[1;33m\u001b[0m\u001b[0m\n\u001b[0m\u001b[0;32m    493\u001b[0m             \u001b[0mproc\u001b[0m\u001b[1;33m,\u001b[0m \u001b[0mis_last\u001b[0m\u001b[1;33m,\u001b[0m \u001b[0mdraw\u001b[0m\u001b[1;33m,\u001b[0m \u001b[0mtuning\u001b[0m\u001b[1;33m,\u001b[0m \u001b[0mstats\u001b[0m\u001b[1;33m,\u001b[0m \u001b[0mwarns\u001b[0m \u001b[1;33m=\u001b[0m \u001b[0mdraw\u001b[0m\u001b[1;33m\u001b[0m\u001b[1;33m\u001b[0m\u001b[0m\n\u001b[0;32m    494\u001b[0m             \u001b[0mself\u001b[0m\u001b[1;33m.\u001b[0m\u001b[0m_total_draws\u001b[0m \u001b[1;33m+=\u001b[0m \u001b[1;36m1\u001b[0m\u001b[1;33m\u001b[0m\u001b[1;33m\u001b[0m\u001b[0m\n",
      "\u001b[1;32m~\\miniconda3\\envs\\bayesianStats\\lib\\site-packages\\pymc3\\parallel_sampling.py\u001b[0m in \u001b[0;36mrecv_draw\u001b[1;34m(processes, timeout)\u001b[0m\n\u001b[0;32m    363\u001b[0m             \u001b[1;32melse\u001b[0m\u001b[1;33m:\u001b[0m\u001b[1;33m\u001b[0m\u001b[1;33m\u001b[0m\u001b[0m\n\u001b[0;32m    364\u001b[0m                 \u001b[0merror\u001b[0m \u001b[1;33m=\u001b[0m \u001b[0mRuntimeError\u001b[0m\u001b[1;33m(\u001b[0m\u001b[1;34m\"Chain %s failed.\"\u001b[0m \u001b[1;33m%\u001b[0m \u001b[0mproc\u001b[0m\u001b[1;33m.\u001b[0m\u001b[0mchain\u001b[0m\u001b[1;33m)\u001b[0m\u001b[1;33m\u001b[0m\u001b[1;33m\u001b[0m\u001b[0m\n\u001b[1;32m--> 365\u001b[1;33m             \u001b[1;32mraise\u001b[0m \u001b[0merror\u001b[0m \u001b[1;32mfrom\u001b[0m \u001b[0mold_error\u001b[0m\u001b[1;33m\u001b[0m\u001b[1;33m\u001b[0m\u001b[0m\n\u001b[0m\u001b[0;32m    366\u001b[0m         \u001b[1;32melif\u001b[0m \u001b[0mmsg\u001b[0m\u001b[1;33m[\u001b[0m\u001b[1;36m0\u001b[0m\u001b[1;33m]\u001b[0m \u001b[1;33m==\u001b[0m \u001b[1;34m\"writing_done\"\u001b[0m\u001b[1;33m:\u001b[0m\u001b[1;33m\u001b[0m\u001b[1;33m\u001b[0m\u001b[0m\n\u001b[0;32m    367\u001b[0m             \u001b[0mproc\u001b[0m\u001b[1;33m.\u001b[0m\u001b[0m_readable\u001b[0m \u001b[1;33m=\u001b[0m \u001b[1;32mTrue\u001b[0m\u001b[1;33m\u001b[0m\u001b[1;33m\u001b[0m\u001b[0m\n",
      "\u001b[1;31mRuntimeError\u001b[0m: Chain 3 failed."
     ],
     "ename": "RuntimeError",
     "evalue": "Chain 3 failed.",
     "output_type": "error"
    }
   ],
   "source": [
    "with pm.Model() as comparing_groups:\n",
    "    # mu and sigma are vectors because we are passing the parameter shape.\n",
    "    # With this, we are telling PyMC3 that we want to analyze 4 different mu's\n",
    "    # and 4 different sigma's\n",
    "    mu = pm.Normal('mu', mu=0, sd=10, shape=groups)\n",
    "    sigma = pm.HalfNormal('sigma', sd=10, shape=groups)\n",
    "    \n",
    "    # We use the variable idx to index the mean and the standard deviation\n",
    "    y = pm.Normal('y', mu=mu[idx], sd=sigma[idx], observed=tip)\n",
    "    trace_cg = pm.sample(5000)\n",
    "    az.plot_trace(trace_cg)"
   ]
  },
  {
   "cell_type": "markdown",
   "metadata": {},
   "source": [
    "The following code is just a way of plotting the difference without repeating the\n",
    "comparison. Instead of plotting the all-against-all matrix, we are just plotting the upper\n",
    "triangular portion:"
   ]
  },
  {
   "cell_type": "code",
   "execution_count": null,
   "metadata": {
    "pycharm": {
     "is_executing": false
    }
   },
   "outputs": [],
   "source": [
    "from scipy import stats\n",
    "\n",
    "dist = stats.norm()\n",
    "\n",
    "# This is just preparations for the plots\n",
    "_, ax = plt.subplots(3, 2, figsize=(14, 8), constrained_layout=True)\n",
    "comparisons = [(i, j) for i in range(4) for j in range(i+1, 4)]\n",
    "pos = [(k, l) for k in range(3) for l in (0, 1)]\n",
    "\n",
    "\n",
    "for (i, j), (k, l) in zip(comparisons, pos):\n",
    "    # Calculate the difference between the means\n",
    "    means_diff = trace_cg['mu'][:, i] - trace_cg['mu'][:, j]\n",
    "    # Obtain Cohen's d\n",
    "    d_cohen = (means_diff / np.sqrt((trace_cg['sigma'][:, i]**2 +trace_cg['sigma'][:, j]**2) / 2)).mean()\n",
    "    # Obtain the probability of superiority\n",
    "    ps = dist.cdf(d_cohen/(2**0.5))\n",
    "    # Plot the posterior distribution of the difference between the means\n",
    "    az.plot_posterior(means_diff, ref_val=0, ax=ax[k, l])\n",
    "    \n",
    "    # Draw the legend\n",
    "    ax[k, l].set_title(f'$\\mu_{i}-\\mu_{j}$')\n",
    "    ax[k, l].plot(0, label=f\"Cohen's d = {d_cohen:.2f}\\nProb sup = {ps:.2f}\",alpha=0)\n",
    "    ax[k, l].legend()"
   ]
  },
  {
   "cell_type": "markdown",
   "metadata": {},
   "source": [
    "One way to interpret these results is by comparing the reference value with the HPD\n",
    "interval. According to the previous diagram, we have only one case when the 94% HPD\n",
    "excludes the reference value of zero, that is, the difference in tips between Thursday and\n",
    "Sunday ($\\mu_0-\\mu_3$). For all the other examples, we cannot rule out a difference of zero (according to the\n",
    "HPD-reference-value-overlap criteria). However, the plots suggest that tips on Sundays are a little bit better.\n",
    "But even for that case, is an average difference of\n",
    "≈0.5 dollars large enough? Is that difference enough to accept working on Sunday and\n",
    "missing the opportunity to spend time with family or friends? Is that difference enough to\n",
    "justify averaging the tips over the four days and giving every waitress and waiter the same\n",
    "amount of tip money? Those kinds of questions cannot be answered by statistics; they can\n",
    "only be informed by statistics."
   ]
  },
  {
   "cell_type": "code",
   "execution_count": null,
   "metadata": {
    "pycharm": {
     "is_executing": true
    }
   },
   "outputs": [],
   "source": []
  }
 ],
 "metadata": {
  "kernelspec": {
   "display_name": "Python 3",
   "language": "python",
   "name": "python3"
  },
  "language_info": {
   "codemirror_mode": {
    "name": "ipython",
    "version": 3
   },
   "file_extension": ".py",
   "mimetype": "text/x-python",
   "name": "python",
   "nbconvert_exporter": "python",
   "pygments_lexer": "ipython3",
   "version": "3.7.9"
  },
  "pycharm": {
   "stem_cell": {
    "cell_type": "raw",
    "metadata": {
     "collapsed": false
    },
    "source": []
   }
  }
 },
 "nbformat": 4,
 "nbformat_minor": 1
}