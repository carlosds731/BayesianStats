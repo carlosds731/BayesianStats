{
 "cells": [
  {
   "cell_type": "markdown",
   "metadata": {
    "pycharm": {
     "name": "#%% md\n"
    }
   },
   "source": [
    "# Hypothesis testing (continued)\n",
    "\n",
    "Let's calculate the probabilities of the example"
   ]
  },
  {
   "cell_type": "code",
   "execution_count": 18,
   "metadata": {
    "pycharm": {
     "is_executing": true
    }
   },
   "outputs": [
    {
     "name": "stdout",
     "output_type": "stream",
     "text": [
      "[0.33205759 0.36551343 0.30242898]\n",
      "[0.1171875  0.21499085 0.26682793]\n"
     ]
    }
   ],
   "source": [
    "from scipy import stats\n",
    "\n",
    "# Different values of p\n",
    "p = [0.5, 0.6, 0.7]\n",
    "\n",
    "# A priori probabilities for each p\n",
    "probabilities_a_priori = [0.5, 0.3, 0.2]\n",
    "\n",
    "# Calculate the likelihoods\n",
    "binom_distribution = stats.binom(n=10, p=p)\n",
    "likelihoods = binom_distribution.pmf(7)\n",
    "\n",
    "# Calculate the probability of the intersections\n",
    "probability_intersection = probabilities_a_priori*likelihoods\n",
    "\n",
    "# Total probability of the data\n",
    "total_probability_of_data = sum(probability_intersection)\n",
    "\n",
    "# Calculate the posterior probabilities of each hypothesis\n",
    "posterior_probabilities = probability_intersection/total_probability_of_data\n",
    "\n",
    "print(posterior_probabilities)\n",
    "print(likelihoods)"
   ]
  },
  {
   "cell_type": "code",
   "execution_count": 15,
   "metadata": {},
   "outputs": [
    {
     "name": "stdout",
     "output_type": "stream",
     "text": [
      "The posterior probability of H0 is 0.33\n",
      "The posterior probability of H1 is 0.67\n"
     ]
    }
   ],
   "source": [
    "posterior_probability_H_0=posterior_probabilities[0]\n",
    "posterior_probability_H_1=posterior_probabilities[1]+posterior_probabilities[2]\n",
    "print('The posterior probability of H0 is {:.2f}'.format(posterior_probability_H_0))\n",
    "print('The posterior probability of H1 is {:.2f}'.format(posterior_probability_H_1))"
   ]
  },
  {
   "cell_type": "markdown",
   "metadata": {
    "pycharm": {
     "is_executing": true
    }
   },
   "source": [
    "This means that, \n",
    "\n",
    "$$P\\left( {{H_0}\\left| y \\right.} \\right) = 0.33$$\n",
    "$$P\\left( {{H_1}\\left| y \\right.} \\right) = 0.37 + 0.30 = 0.67.$$\n",
    "\n",
    "This shows that, given the data, $H_1$ is twice more likelly than $H_0$.\n",
    "\n",
    "In general, calculating the posterior probabilities of each hypothesis is not easy, that's why is easier to analyze the Bayes factor (although in this problem is not necessary because we already have the posterior probability for each hypothesis).\n",
    "\n",
    "As an example, let's calculate the Bayes factor for this problem.\n",
    "\n",
    "$$BF = \\frac{{P\\left( {y\\left| {{H_0}} \\right.} \\right)}}{{P\\left( {y\\left| {{H_1}} \\right.} \\right)}}.$$\n",
    "\n",
    "The value of ${P\\left( {y\\left| {{H_0}} \\right.} \\right)}$ we already have it, is just the probability of getting 7 heads in 10 tossings with a fair coin, \n",
    "\n",
    "$$P\\left( {y\\left| {{H_0}} \\right.} \\right) = \\left( \\begin{gathered}\n",
    "  10 \\hfill \\\\\n",
    "  7 \\hfill \\\\ \n",
    "\\end{gathered}  \\right){0.5^7}{0.5^3} = 0.1172.$$\n",
    "\n",
    "To calculate $P\\left( {y\\left| {{H_1}} \\right.} \\right)$ we need to be more careful. Under $H_1$, $p$ can take two values: $0.6$ and $0.7$, therefore \n",
    "\n",
    "$$\\begin{align*}P\\left( {y\\left| {{H_1}} \\right.} \\right) &= P\\left( {y\\left| {\\left\\{ {p = 0.6} \\right\\} \\cap {H_1}} \\right.} \\right)P\\left( {p = 0.6\\left| {{H_1}} \\right.} \\right) + P\\left( {y\\left| {\\left\\{ {p = 0.7} \\right\\} \\cap {H_1}} \\right.} \\right)P\\left( {p = 0.7\\left| {{H_1}} \\right.} \\right)\\\\\n",
    "&= P\\left( {y\\left| {p = 0.6} \\right.} \\right)P\\left( {p = 0.6\\left| {{H_1}} \\right.} \\right) + P\\left( {y\\left| {p = 0.7} \\right.} \\right)P\\left( {p = 0.7\\left| {{H_1}} \\right.} \\right)\\end{align*}.$$\n",
    "\n",
    "Let's calculate $P\\left( {p = 0.6\\left| {{H_1}} \\right.} \\right)$:\n",
    "\n",
    "$$\\begin{align*}\n",
    "  P\\left( {p = 0.6|{H_1}} \\right) &= P\\left( {p = 0.6|\\left\\{ {p = 0.6} \\right\\} \\cup \\left\\{ {p = 0.7} \\right\\}} \\right) = \\frac{{P\\left( {\\left\\{ {p = 0.6} \\right\\} \\cap \\left( {\\left\\{ {p = 0.6} \\right\\} \\cup \\left\\{ {p = 0.7} \\right\\}} \\right)} \\right)}}{{P\\left( {\\left\\{ {p = 0.6} \\right\\} \\cup \\left\\{ {p = 0.7} \\right\\}} \\right)}} \\\\ \n",
    "   &= \\frac{{P\\left( {p = 0.6} \\right)}}{{P\\left( {p = 0.6} \\right) + P\\left( {p = 0.7} \\right)}} = \\frac{{0.3}}{{0.5}} \\\\\n",
    "   &= 0.6,\n",
    "\\end{align*}$$\n",
    "\n",
    "which this implies that $P\\left( {p = 0.7|{H_1}} \\right)=0.4.$\n",
    "\n",
    "Then, \n",
    "\n",
    "$$P\\left( {y\\left| {{H_1}} \\right.} \\right) = 0.215\\times 0.6 + 0.27\\times 0.4 = 0.237.$$\n",
    "\n",
    "Now, we can plug this on the expression for the Bayes factor to obtain that\n",
    "\n",
    "$$BF = \\frac{{0.1172}}{{0.234}} = 0.49.$$\n",
    "\n",
    "Because is smaller than 1, is better to analyze the inverse $\\frac{1}{{BF}} = 2.04$, which shows that there is some evidence in favor of $H_1$.\n",
    "\n",
    "**NOTE:** When you have the posterior probabilities, the bayes factor can be calculated as \n",
    "\n",
    "$$BF = \\left( {\\frac{{P\\left( {{H_0}\\left| y \\right.} \\right)}}{{P\\left( {{H_1}\\left| y \\right.} \\right)}}} \\right)\\underbrace {\\left( {\\frac{{P\\left( {{H_1}} \\right)}}{{P\\left( {{H_0}} \\right)}}} \\right)}_1 = \\frac{{P\\left( {{H_0}\\left| y \\right.} \\right)}}{{P\\left( {{H_1}\\left| y \\right.} \\right)}} = \\frac{{0.33}}{{0.67}} = 0.49.$$\n",
    "\n",
    "Here we have used that the prior probability for both hypothesis is 0.5 (this is case in most of the problems).\n",
    "\n",
    "$$P\\left( {{H_1}} \\right) = P\\left( {\\left\\{ {p = 0.6} \\right\\} \\cup \\left\\{ {p = 0.7} \\right\\}} \\right) = \\underbrace {P\\left( {\\left\\{ {p = 0.6} \\right\\}} \\right)}_{0.3} + \\underbrace {P\\left( {\\left\\{ {p = 0.7} \\right\\}} \\right)}_{0.2} = 0.5.$$\n",
    "\n",
    "\n",
    "## Case when $H_1$ is not discrete\n",
    "\n",
    "Now, let's suppouse we want to compare $H_0: p=0.5$ against $H_1: p\\neq 0.5$. Under $H_1$ we need to choose a prior distribution for $p$, let $f(p)$ be the density of that prior. In order to calculate the Bayes factor, we just need to calculate the likelihood under $H_1$, that is $P\\left( {y\\left| {{H_1}} \\right.} \\right)$ (remeber that the likelihood under $H_0$ we already have it).\n",
    "\n",
    "The expression for $P\\left( {y\\left| {{H_1}} \\right.} \\right)$ becomes\n",
    "\n",
    "$$P\\left( {y\\left| {{H_1}} \\right.} \\right) = \\int\\limits_{ - \\infty }^{ + \\infty } {\\left( \\begin{gathered}\n",
    "  10 \\hfill \\\\\n",
    "  7 \\hfill \\\\ \n",
    "\\end{gathered}  \\right){p^7}{{\\left( {1 - p} \\right)}^3}f\\left( p \\right)dp}.$$\n",
    "\n",
    "These integrals are really complicated to calculate and most of the time we need to do numerical approximations. To calculate these integrals with PyMC3 we need to use the Sequential Monte Carlo sampler. This is a method that basically progresses by a series of successive annealed sequences from the prior to the posterior. A nice by-product of this process is that we get an estimation of the marginal likelihood. Actually for numerical reasons the returned value is the log marginal likelihood (this helps to avoid underflow).\n"
   ]
  },
  {
   "cell_type": "code",
   "execution_count": 51,
   "metadata": {
    "pycharm": {
     "is_executing": true
    }
   },
   "outputs": [
    {
     "name": "stderr",
     "output_type": "stream",
     "text": [
      "Initializing SMC sampler...\n",
      "Multiprocess sampling (4 chains in 4 jobs)\n",
      "Stage:   0 Beta: 1.000\n",
      "Stage:   0 Beta: 1.000\n",
      "Stage:   0 Beta: 1.000\n",
      "Stage:   0 Beta: 1.000\n"
     ]
    },
    {
     "name": "stdout",
     "output_type": "stream",
     "text": [
      "0.12583230984528582\n"
     ]
    }
   ],
   "source": [
    "import pymc3 as pm\n",
    "import theano\n",
    "import numpy as np\n",
    "import arviz as az\n",
    "import matplotlib.pyplot as plt\n",
    "\n",
    "with pm.Model() as model_under_h1:\n",
    "    p = pm.Beta('p', 10, 10)\n",
    "    y = pm.Binomial('y', n=10, p=p, observed=7)\n",
    "    trace_BF_1 = pm.sample_smc(2500)\n",
    "\n",
    "# Obtaining the marginal likelihood\n",
    "likelihoods_under_h1  = np.exp(trace_BF_1.report.log_marginal_likelihood)\n",
    "# We need to take the average because the Monte-Carlo sampler\n",
    "# returns one marginal likelihood approxiamtion for each chain\n",
    "print(np.average(likelihoods_under_h1))\n",
    "\n",
    "# Storing the estimation of the likelihood under H1\n",
    "likelihood_under_h1=np.average(likelihoods_under_h1)"
   ]
  },
  {
   "cell_type": "code",
   "execution_count": 52,
   "metadata": {},
   "outputs": [
    {
     "name": "stdout",
     "output_type": "stream",
     "text": [
      "The Bayes factor for the model is 0.9312989656161068\n"
     ]
    },
    {
     "data": {
      "text/plain": [
       "0.4822137753897733"
      ]
     },
     "execution_count": 52,
     "metadata": {},
     "output_type": "execute_result"
    }
   ],
   "source": [
    "# Under H0, the likelihood is just the probability of \n",
    "# getting 7 heads if the coin is fair\n",
    "likelihood_under_h0 = stats.binom(n=10, p=0.5).pmf(7)\n",
    "\n",
    "# Now we can calculate the Bayes factor\n",
    "bayes_factor = likelihood_under_h0/likelihood_under_h1\n",
    "print(\"The Bayes factor for the model is {0}\".format(bayes_factor))\n",
    "bayes_factor/(bayes_factor+1)"
   ]
  },
  {
   "cell_type": "markdown",
   "metadata": {},
   "source": [
    "## Obtaining posterior probabilities from Bayes factor\n",
    "\n",
    "Let \\(BF\\) be the Bayes factor. Take ${\\pi _0} = P\\left( {{H_0}} \\right)$, ${\\pi _1} = P\\left( {{H_1}} \\right)$, ${p_0} = P\\left( {{H_0}\\left| y \\right.} \\right)$ and ${p_1} = P\\left( {{H_1}\\left| y \\right.} \\right)$, then\n",
    "\n",
    "$${p_0} = \\frac{{{\\pi _0}BF}}{{{\\pi _0}BF + 1 - {\\pi _0}}}.$$\n",
    "\n",
    "This expression allows us to calculate posterior probabilities using the prior probabilities and the Bayes factor.\n",
    "\n",
    "Using this expression on the previous example, we obtain that \n",
    "\n",
    "$$P\\left( {{H_0}\\left| y \\right.} \\right) = 0.48\\quad ,\\quad P\\left( {{H_1}\\left| y \\right.} \\right) = 0.52.$$\n",
    "\n",
    "These posterior probabilities of $H_0$ are highly influenced by selection of the prior under $H_1$. The following code calculates the posterior probabilities of $H_0$ for priors of the form $Beta(\\alpha,2\\alpha)$ for different values of $\\alpha$."
   ]
  },
  {
   "cell_type": "code",
   "execution_count": 53,
   "metadata": {},
   "outputs": [
    {
     "name": "stderr",
     "output_type": "stream",
     "text": [
      "Initializing SMC sampler...\n",
      "Multiprocess sampling (4 chains in 4 jobs)\n",
      "Stage:   0 Beta: 0.422\n",
      "Stage:   1 Beta: 1.000\n",
      "Stage:   0 Beta: 0.436\n",
      "Stage:   1 Beta: 1.000\n",
      "Stage:   0 Beta: 0.426\n",
      "Stage:   1 Beta: 1.000\n",
      "Stage:   0 Beta: 0.440\n",
      "Stage:   1 Beta: 1.000\n",
      "Initializing SMC sampler...\n",
      "Multiprocess sampling (4 chains in 4 jobs)\n",
      "Stage:   0 Beta: 0.544\n",
      "Stage:   1 Beta: 1.000\n",
      "Stage:   0 Beta: 0.508\n",
      "Stage:   1 Beta: 1.000\n",
      "Stage:   0 Beta: 0.550\n",
      "Stage:   1 Beta: 1.000\n",
      "Stage:   0 Beta: 0.522\n",
      "Stage:   1 Beta: 1.000\n",
      "Initializing SMC sampler...\n",
      "Multiprocess sampling (4 chains in 4 jobs)\n",
      "Stage:   0 Beta: 0.593\n",
      "Stage:   1 Beta: 1.000\n",
      "Stage:   0 Beta: 0.560\n",
      "Stage:   1 Beta: 1.000\n",
      "Stage:   0 Beta: 0.575\n",
      "Stage:   1 Beta: 1.000\n",
      "Stage:   0 Beta: 0.581\n",
      "Stage:   1 Beta: 1.000\n",
      "Initializing SMC sampler...\n",
      "Multiprocess sampling (4 chains in 4 jobs)\n",
      "Stage:   0 Beta: 0.610\n",
      "Stage:   1 Beta: 1.000\n",
      "Stage:   0 Beta: 0.613\n",
      "Stage:   1 Beta: 1.000\n",
      "Stage:   0 Beta: 0.613\n",
      "Stage:   1 Beta: 1.000\n",
      "Stage:   0 Beta: 0.612\n",
      "Stage:   1 Beta: 1.000\n",
      "Initializing SMC sampler...\n",
      "Multiprocess sampling (4 chains in 4 jobs)\n",
      "Stage:   0 Beta: 0.645\n",
      "Stage:   1 Beta: 1.000\n",
      "Stage:   0 Beta: 0.687\n",
      "Stage:   1 Beta: 1.000\n",
      "Stage:   0 Beta: 0.671\n",
      "Stage:   1 Beta: 1.000\n",
      "Stage:   0 Beta: 0.675\n",
      "Stage:   1 Beta: 1.000\n",
      "Initializing SMC sampler...\n",
      "Multiprocess sampling (4 chains in 4 jobs)\n",
      "Stage:   0 Beta: 0.703\n",
      "Stage:   1 Beta: 1.000\n",
      "Stage:   0 Beta: 0.705\n",
      "Stage:   1 Beta: 1.000\n",
      "Stage:   0 Beta: 0.708\n",
      "Stage:   1 Beta: 1.000\n",
      "Stage:   0 Beta: 0.718\n",
      "Stage:   1 Beta: 1.000\n",
      "Initializing SMC sampler...\n",
      "Multiprocess sampling (4 chains in 4 jobs)\n",
      "Stage:   0 Beta: 0.746\n",
      "Stage:   1 Beta: 1.000\n",
      "Stage:   0 Beta: 0.720\n",
      "Stage:   1 Beta: 1.000\n",
      "Stage:   0 Beta: 0.719\n",
      "Stage:   1 Beta: 1.000\n",
      "Stage:   0 Beta: 0.728\n",
      "Stage:   1 Beta: 1.000\n",
      "Initializing SMC sampler...\n",
      "Multiprocess sampling (4 chains in 4 jobs)\n",
      "Stage:   0 Beta: 0.770\n",
      "Stage:   1 Beta: 1.000\n",
      "Stage:   0 Beta: 0.743\n",
      "Stage:   1 Beta: 1.000\n",
      "Stage:   0 Beta: 0.755\n",
      "Stage:   1 Beta: 1.000\n",
      "Stage:   0 Beta: 0.767\n",
      "Stage:   1 Beta: 1.000\n",
      "Initializing SMC sampler...\n",
      "Multiprocess sampling (4 chains in 4 jobs)\n",
      "Stage:   0 Beta: 0.780\n",
      "Stage:   1 Beta: 1.000\n",
      "Stage:   0 Beta: 0.777\n",
      "Stage:   1 Beta: 1.000\n",
      "Stage:   0 Beta: 0.801\n",
      "Stage:   1 Beta: 1.000\n",
      "Stage:   0 Beta: 0.796\n",
      "Stage:   1 Beta: 1.000\n",
      "Initializing SMC sampler...\n",
      "Multiprocess sampling (4 chains in 4 jobs)\n",
      "Stage:   0 Beta: 0.820\n",
      "Stage:   1 Beta: 1.000\n",
      "Stage:   0 Beta: 0.835\n",
      "Stage:   1 Beta: 1.000\n",
      "Stage:   0 Beta: 0.820\n",
      "Stage:   1 Beta: 1.000\n",
      "Stage:   0 Beta: 0.805\n",
      "Stage:   1 Beta: 1.000\n"
     ]
    }
   ],
   "source": [
    "bayes_factors = list()\n",
    "probabilities_of_h0 = list()\n",
    "for a in range(1,11):\n",
    "    with pm.Model():\n",
    "        p = pm.Beta('p', a, 2*a)\n",
    "        y = pm.Binomial('y', n=10, p=p, observed=7)\n",
    "        trace_BF_H1 = pm.sample_smc(2500)\n",
    "        # Obtaining the marginal likelihood\n",
    "        likelihoods_under_h1  = np.exp(trace_BF_H1.report.log_marginal_likelihood)\n",
    "        likelihood_under_h1 = np.average(likelihoods_under_h1)\n",
    "        # Calculating the Bayes factor for the specific prior\n",
    "        bayes_factor = likelihood_under_h0/likelihood_under_h1\n",
    "        bayes_factors.append(bayes_factor)\n",
    "        probabilities_of_h0.append(bayes_factor/(bayes_factor+1))"
   ]
  },
  {
   "cell_type": "markdown",
   "metadata": {},
   "source": [
    "In the following graph, we can see the results: if the prior contains a strong belief that the coin is biased toward tail (the bigger the alpha the more biased we think the coin is), then, because the data suggest otherwise, the probability that the coin is fair increases."
   ]
  },
  {
   "cell_type": "code",
   "execution_count": 56,
   "metadata": {},
   "outputs": [
    {
     "data": {
      "image/png": "[encoded data removed]",
      "text/plain": [
       "<Figure size 432x288 with 1 Axes>"
      ]
     },
     "metadata": {
      "needs_background": "light"
     },
     "output_type": "display_data"
    }
   ],
   "source": [
    "import matplotlib.pyplot as plt\n",
    "plt.plot([x for x in range(1,11)],probabilities_of_h0)\n",
    "plt.show()"
   ]
  },
  {
   "cell_type": "markdown",
   "metadata": {},
   "source": [
    "Now let's use priors that suggest the coin is biased towards heads."
   ]
  },
  {
   "cell_type": "code",
   "execution_count": 58,
   "metadata": {},
   "outputs": [
    {
     "name": "stderr",
     "output_type": "stream",
     "text": [
      "Initializing SMC sampler...\n",
      "Multiprocess sampling (4 chains in 4 jobs)\n",
      "Stage:   0 Beta: 1.000\n",
      "Stage:   0 Beta: 1.000\n",
      "Stage:   0 Beta: 1.000\n",
      "Stage:   0 Beta: 1.000\n",
      "Initializing SMC sampler...\n",
      "Multiprocess sampling (4 chains in 4 jobs)\n",
      "Stage:   0 Beta: 1.000\n",
      "Stage:   0 Beta: 1.000\n",
      "Stage:   0 Beta: 1.000\n",
      "Stage:   0 Beta: 1.000\n",
      "Initializing SMC sampler...\n",
      "Multiprocess sampling (4 chains in 4 jobs)\n",
      "Stage:   0 Beta: 1.000\n",
      "Stage:   0 Beta: 1.000\n",
      "Stage:   0 Beta: 1.000\n",
      "Stage:   0 Beta: 1.000\n",
      "Initializing SMC sampler...\n",
      "Multiprocess sampling (4 chains in 4 jobs)\n",
      "Stage:   0 Beta: 1.000\n",
      "Stage:   0 Beta: 1.000\n",
      "Stage:   0 Beta: 1.000\n",
      "Stage:   0 Beta: 1.000\n",
      "Initializing SMC sampler...\n",
      "Multiprocess sampling (4 chains in 4 jobs)\n",
      "Stage:   0 Beta: 1.000\n",
      "Stage:   0 Beta: 1.000\n",
      "Stage:   0 Beta: 1.000\n",
      "Stage:   0 Beta: 1.000\n",
      "Initializing SMC sampler...\n",
      "Multiprocess sampling (4 chains in 4 jobs)\n",
      "Stage:   0 Beta: 1.000\n",
      "Stage:   0 Beta: 1.000\n",
      "Stage:   0 Beta: 1.000\n",
      "Stage:   0 Beta: 1.000\n",
      "Initializing SMC sampler...\n",
      "Multiprocess sampling (4 chains in 4 jobs)\n",
      "Stage:   0 Beta: 1.000\n",
      "Stage:   0 Beta: 1.000\n",
      "Stage:   0 Beta: 1.000\n",
      "Stage:   0 Beta: 1.000\n",
      "Initializing SMC sampler...\n",
      "Multiprocess sampling (4 chains in 4 jobs)\n",
      "Stage:   0 Beta: 1.000\n",
      "Stage:   0 Beta: 1.000\n",
      "Stage:   0 Beta: 1.000\n",
      "Stage:   0 Beta: 1.000\n",
      "Initializing SMC sampler...\n",
      "Multiprocess sampling (4 chains in 4 jobs)\n",
      "Stage:   0 Beta: 1.000\n",
      "Stage:   0 Beta: 1.000\n",
      "Stage:   0 Beta: 1.000\n",
      "Stage:   0 Beta: 1.000\n",
      "Initializing SMC sampler...\n",
      "Multiprocess sampling (4 chains in 4 jobs)\n",
      "Stage:   0 Beta: 1.000\n",
      "Stage:   0 Beta: 1.000\n",
      "Stage:   0 Beta: 1.000\n",
      "Stage:   0 Beta: 1.000\n"
     ]
    },
    {
     "data": {
      "image/png": "[encoded data removed]",
      "text/plain": [
       "<Figure size 432x288 with 1 Axes>"
      ]
     },
     "metadata": {
      "needs_background": "light"
     },
     "output_type": "display_data"
    }
   ],
   "source": [
    "bayes_factors = list()\n",
    "probabilities_of_h0 = list()\n",
    "for a in range(1,11):\n",
    "    with pm.Model():\n",
    "        p = pm.Beta('p', 2*a, a)\n",
    "        y = pm.Binomial('y', n=10, p=p, observed=7)\n",
    "        trace_BF_H1 = pm.sample_smc(2500)\n",
    "        # Obtaining the marginal likelihood\n",
    "        likelihoods_under_h1  = np.exp(trace_BF_H1.report.log_marginal_likelihood)\n",
    "        likelihood_under_h1 = np.average(likelihoods_under_h1)\n",
    "        # Calculating the Bayes factor for the specific prior\n",
    "        bayes_factor = likelihood_under_h0/likelihood_under_h1\n",
    "        bayes_factors.append(bayes_factor)\n",
    "        probabilities_of_h0.append(bayes_factor/(bayes_factor+1))\n",
    "plt.plot([x for x in range(1,11)],probabilities_of_h0)\n",
    "plt.show()"
   ]
  },
  {
   "cell_type": "markdown",
   "metadata": {},
   "source": [
    "As we can see, in this scenario, the posterior probability of $H_0$ decreases when the prior is more informative.\n",
    "\n",
    "Now let's suppouse we have more data, let's say we have $n=30$ and $21$ heads."
   ]
  },
  {
   "cell_type": "code",
   "execution_count": 63,
   "metadata": {},
   "outputs": [
    {
     "name": "stderr",
     "output_type": "stream",
     "text": [
      "Initializing SMC sampler...\n",
      "Multiprocess sampling (4 chains in 4 jobs)\n",
      "Stage:   0 Beta: 0.676\n",
      "Stage:   1 Beta: 1.000\n",
      "Stage:   0 Beta: 0.658\n",
      "Stage:   1 Beta: 1.000\n",
      "Stage:   0 Beta: 0.681\n",
      "Stage:   1 Beta: 1.000\n",
      "Stage:   0 Beta: 0.674\n",
      "Stage:   1 Beta: 1.000\n"
     ]
    },
    {
     "name": "stdout",
     "output_type": "stream",
     "text": [
      "The Bayes factor for the model is 0.359, its inverse is 2.783\n",
      "The probability of H_0 given the data is 0.264\n"
     ]
    }
   ],
   "source": [
    "with pm.Model():\n",
    "    p = pm.Beta('p', 10, 10)\n",
    "    y = pm.Binomial('y', n=30, p=p, observed=21)\n",
    "    trace_BF_1 = pm.sample_smc(2500)\n",
    "\n",
    "    # Obtaining the marginal likelihood\n",
    "    likelihoods_under_h1  = np.exp(trace_BF_1.report.log_marginal_likelihood)\n",
    "    # We need to take the average because the Monte-Carlo sampler\n",
    "    # returns one marginal likelihood approxiamtion for each chain\n",
    "    # Storing the estimation of the likelihood under H1\n",
    "    likelihood_under_h1=np.average(likelihoods_under_h1)\n",
    "    \n",
    "    # Under H0, the likelihood is just the probability of \n",
    "    # getting 7 heads if the coin is fair\n",
    "    likelihood_under_h0 = stats.binom(n=30, p=0.5).pmf(21)\n",
    "\n",
    "    # Now we can calculate the Bayes factor\n",
    "    bayes_factor = likelihood_under_h0/likelihood_under_h1\n",
    "    print(\"The Bayes factor for the model is {:.3f}, its inverse is {:.3f}\".format(bayes_factor, 1/bayes_factor))\n",
    "    print(\"The probability of H_0 given the data is {:.3f}\".format(bayes_factor/(bayes_factor+1)))"
   ]
  },
  {
   "cell_type": "markdown",
   "metadata": {},
   "source": [
    "As expected, when we have more data, the effect of the prior decreases."
   ]
  },
  {
   "cell_type": "markdown",
   "metadata": {},
   "source": [
    "## Body weight example\n",
    "\n",
    "In an example from Chapter 14 of Berry (1996), the author was interested in\n",
    "determining his true weight from a variable bathroom scale. We assume the\n",
    "measurements are normally distributed with mean $\\mu$ and standard deviation\n",
    "$\\sigma$. The author weighed himself ten times and obtained the measurements (in\n",
    "pounds) 182, 172, 173, 176, 176, 180, 173, 174, 179, and 175. For simplicity,\n",
    "assume that he knows the accuracy of the scale and $\\sigma=3$ pounds.\n",
    "\n",
    "If we let $\\mu$ denote the author’s true weight, suppose he is interested in\n",
    "assessing if his true weight is more than 175 pounds. He wishes to test the\n",
    "hypotheses\n",
    "\n",
    "$${H_0}:\\mu  \\leqslant 175,\\quad {H_1}:\\mu  > 175.$$\n",
    "\n",
    "Suppose the author has little prior knowledge about his true weight and so he\n",
    "assigns $\\mu$ a normal prior with mean 170 and standard deviation 5.\n"
   ]
  },
  {
   "cell_type": "code",
   "execution_count": 11,
   "metadata": {
    "pycharm": {
     "is_executing": true
    }
   },
   "outputs": [
    {
     "output_type": "stream",
     "name": "stderr",
     "text": [
      "Auto-assigning NUTS sampler...\n",
      "Initializing NUTS using jitter+adapt_diag...\n",
      "Multiprocess sampling (4 chains in 4 jobs)\n",
      "NUTS: [mu]\n"
     ]
    },
    {
     "output_type": "display_data",
     "data": {
      "text/plain": "<IPython.core.display.HTML object>",
      "text/html": "\n    <div>\n        <style>\n            /* Turns off some styling */\n            progress {\n                /* gets rid of default border in Firefox and Opera. */\n                border: none;\n                /* Needs to be in here for Safari polyfill so background images work as expected. */\n                background-size: auto;\n            }\n            .progress-bar-interrupted, .progress-bar-interrupted::-webkit-progress-bar {\n                background: #F44336;\n            }\n        </style>\n      <progress value='0' class='' max='14000' style='width:300px; height:20px; vertical-align: middle;'></progress>\n      \n    </div>\n    "
     },
     "metadata": {}
    },
    {
     "output_type": "stream",
     "name": "stderr",
     "text": [
      "Sampling 4 chains for 1_000 tune and 2_500 draw iterations (4_000 + 10_000 draws total) took 58 seconds.\n"
     ]
    },
    {
     "output_type": "display_data",
     "data": {
      "text/plain": "<Figure size 432x288 with 1 Axes>",
      "image/svg+xml": "<?xml version=\"1.0\" encoding=\"utf-8\" standalone=\"no\"?>\r\n<!DOCTYPE svg PUBLIC \"-//W3C//DTD SVG 1.1//EN\"\r\n  \"http://www.w3.org/Graphics/SVG/1.1/DTD/svg11.dtd\">\r\n<!-- Created with matplotlib (https://matplotlib.org/) -->\r\n<svg height=\"296.39952pt\" version=\"1.1\" viewBox=\"0 0 440.39952 296.39952\" width=\"440.39952pt\" xmlns=\"http://www.w3.org/2000/svg\" xmlns:xlink=\"http://www.w3.org/1999/xlink\">\r\n <metadata>\r\n  <rdf:RDF xmlns:cc=\"http://creativecommons.org/ns#\" xmlns:dc=\"http://purl.org/dc/elements/1.1/\" xmlns:rdf=\"http://www.w3.org/1999/02/22-rdf-syntax-ns#\">\r\n   <cc:Work>\r\n    <dc:type rdf:resource=\"http://purl.org/dc/dcmitype/StillImage\"/>\r\n    <dc:date>2021-02-15T17:15:37.982023</dc:date>\r\n    <dc:format>image/svg+xml</dc:format>\r\n    <dc:creator>\r\n     <cc:Agent>\r\n      <dc:title>Matplotlib v3.3.1, https://matplotlib.org/</dc:title>\r\n     </cc:Agent>\r\n    </dc:creator>\r\n   </cc:Work>\r\n  </rdf:RDF>\r\n </metadata>\r\n <defs>\r\n  <style type=\"text/css\">*{stroke-linecap:butt;stroke-linejoin:round;}</style>\r\n </defs>\r\n <g id=\"figure_1\">\r\n  <g id=\"patch_1\">\r\n   <path d=\"M 0 296.39952 \r\nL 440.39952 296.39952 \r\nL 440.39952 0 \r\nL 0 0 \r\nz\r\n\" style=\"fill:none;\"/>\r\n  </g>\r\n  <g id=\"axes_1\">\r\n   <g id=\"patch_2\">\r\n    <path d=\"M 7.2 269.150145 \r\nL 433.19952 269.150145 \r\nL 433.19952 25.3575 \r\nL 7.2 25.3575 \r\nz\r\n\" style=\"fill:#ffffff;\"/>\r\n   </g>\r\n   <g id=\"PolyCollection_1\">\r\n    <defs>\r\n     <path d=\"M 26.563615 -38.330859 \r\nL 26.563615 -38.647831 \r\nL 28.509706 -38.64768 \r\nL 30.455798 -38.647166 \r\nL 32.40189 -38.646124 \r\nL 34.347982 -38.644302 \r\nL 36.294074 -38.642303 \r\nL 38.240166 -38.637977 \r\nL 40.186258 -38.633023 \r\nL 42.13235 -38.626467 \r\nL 44.078442 -38.61923 \r\nL 46.024534 -38.614656 \r\nL 47.970626 -38.60807 \r\nL 49.916718 -38.602625 \r\nL 51.862809 -38.599795 \r\nL 53.808901 -38.600966 \r\nL 55.754993 -38.606827 \r\nL 57.701085 -38.622205 \r\nL 59.647177 -38.648057 \r\nL 61.593269 -38.683394 \r\nL 63.539361 -38.735226 \r\nL 65.485453 -38.804324 \r\nL 67.431545 -38.889844 \r\nL 69.377637 -38.995748 \r\nL 71.323729 -39.124972 \r\nL 73.26982 -39.277912 \r\nL 75.215912 -39.455069 \r\nL 77.162004 -39.657337 \r\nL 79.108096 -39.886779 \r\nL 81.054188 -40.142109 \r\nL 83.00028 -40.432579 \r\nL 84.946372 -40.75254 \r\nL 86.892464 -41.113401 \r\nL 88.838556 -41.504708 \r\nL 90.784648 -41.93882 \r\nL 92.73074 -42.4156 \r\nL 94.676832 -42.938036 \r\nL 96.622923 -43.510766 \r\nL 98.569015 -44.137563 \r\nL 100.515107 -44.818486 \r\nL 102.461199 -45.553396 \r\nL 104.407291 -46.341016 \r\nL 106.353383 -47.175385 \r\nL 108.299475 -48.068232 \r\nL 110.245567 -49.00329 \r\nL 112.191659 -49.994845 \r\nL 114.137751 -51.039406 \r\nL 116.083843 -52.139181 \r\nL 118.029935 -53.301187 \r\nL 119.976026 -54.524564 \r\nL 121.922118 -55.826618 \r\nL 123.86821 -57.22272 \r\nL 125.814302 -58.737375 \r\nL 127.760394 -60.374248 \r\nL 129.706486 -62.159388 \r\nL 131.652578 -64.099665 \r\nL 133.59867 -66.20524 \r\nL 135.544762 -68.478423 \r\nL 137.490854 -70.927787 \r\nL 139.436946 -73.55262 \r\nL 141.383037 -76.345387 \r\nL 143.329129 -79.298719 \r\nL 145.275221 -82.385449 \r\nL 147.221313 -85.645188 \r\nL 149.167405 -89.055416 \r\nL 151.113497 -92.585022 \r\nL 153.059589 -96.253263 \r\nL 155.005681 -100.057802 \r\nL 156.951773 -104.013 \r\nL 158.897865 -108.09477 \r\nL 160.843957 -112.342894 \r\nL 162.790049 -116.735039 \r\nL 164.73614 -121.281864 \r\nL 166.682232 -125.992315 \r\nL 168.628324 -130.852047 \r\nL 170.574416 -135.83882 \r\nL 172.520508 -140.974998 \r\nL 174.4666 -146.200319 \r\nL 176.412692 -151.524991 \r\nL 178.358784 -156.876666 \r\nL 180.304876 -162.255451 \r\nL 182.250968 -167.644836 \r\nL 184.19706 -172.973851 \r\nL 186.143152 -178.249176 \r\nL 188.089243 -183.406349 \r\nL 190.035335 -188.433161 \r\nL 191.981427 -193.298964 \r\nL 193.927519 -198.018922 \r\nL 195.873611 -202.557493 \r\nL 197.819703 -206.922563 \r\nL 199.765795 -211.152981 \r\nL 201.711887 -215.242966 \r\nL 203.657979 -219.192658 \r\nL 205.604071 -223.034953 \r\nL 207.550163 -226.799024 \r\nL 209.496254 -230.446234 \r\nL 211.442346 -233.997577 \r\nL 213.388438 -237.437046 \r\nL 215.33453 -240.734567 \r\nL 217.280622 -243.874709 \r\nL 219.226714 -246.794449 \r\nL 221.172806 -249.496294 \r\nL 223.118898 -251.938284 \r\nL 225.06499 -254.103546 \r\nL 227.011082 -255.921388 \r\nL 228.957174 -257.407317 \r\nL 230.903266 -258.584023 \r\nL 232.849357 -259.38212 \r\nL 234.795449 -259.85621 \r\nL 236.741541 -259.960536 \r\nL 238.687633 -259.748523 \r\nL 240.633725 -259.164866 \r\nL 242.579817 -258.263634 \r\nL 244.525909 -257.024577 \r\nL 246.472001 -255.455258 \r\nL 248.418093 -253.579871 \r\nL 250.364185 -251.436092 \r\nL 252.310277 -249.010524 \r\nL 254.256368 -246.390482 \r\nL 256.20246 -243.59431 \r\nL 258.148552 -240.661357 \r\nL 260.094644 -237.606503 \r\nL 262.040736 -234.467131 \r\nL 263.986828 -231.298591 \r\nL 265.93292 -228.046401 \r\nL 267.879012 -224.771545 \r\nL 269.825104 -221.434853 \r\nL 271.771196 -218.048407 \r\nL 273.717288 -214.577224 \r\nL 275.66338 -211.02541 \r\nL 277.609471 -207.370717 \r\nL 279.555563 -203.582012 \r\nL 281.501655 -199.684304 \r\nL 283.447747 -195.685567 \r\nL 285.393839 -191.578705 \r\nL 287.339931 -187.365505 \r\nL 289.286023 -183.090063 \r\nL 291.232115 -178.737454 \r\nL 293.178207 -174.323132 \r\nL 295.124299 -169.865151 \r\nL 297.070391 -165.329363 \r\nL 299.016483 -160.76842 \r\nL 300.962574 -156.140361 \r\nL 302.908666 -151.463802 \r\nL 304.854758 -146.758118 \r\nL 306.80085 -142.057727 \r\nL 308.746942 -137.360544 \r\nL 310.693034 -132.691182 \r\nL 312.639126 -128.104657 \r\nL 314.585218 -123.57805 \r\nL 316.53131 -119.184049 \r\nL 318.477402 -114.9067 \r\nL 320.423494 -110.793119 \r\nL 322.369585 -106.829538 \r\nL 324.315677 -103.038565 \r\nL 326.261769 -99.408437 \r\nL 328.207861 -95.946012 \r\nL 330.153953 -92.619739 \r\nL 332.100045 -89.434919 \r\nL 334.046137 -86.370727 \r\nL 335.992229 -83.40993 \r\nL 337.938321 -80.583959 \r\nL 339.884413 -77.859242 \r\nL 341.830505 -75.22713 \r\nL 343.776597 -72.699655 \r\nL 345.722688 -70.294221 \r\nL 347.66878 -67.981599 \r\nL 349.614872 -65.790156 \r\nL 351.560964 -63.690571 \r\nL 353.507056 -61.702421 \r\nL 355.453148 -59.832518 \r\nL 357.39924 -58.070176 \r\nL 359.345332 -56.415733 \r\nL 361.291424 -54.858777 \r\nL 363.237516 -53.406076 \r\nL 365.183608 -52.045794 \r\nL 367.1297 -50.791705 \r\nL 369.075791 -49.626 \r\nL 371.021883 -48.548677 \r\nL 372.967975 -47.556435 \r\nL 374.914067 -46.641712 \r\nL 376.860159 -45.818944 \r\nL 378.806251 -45.063703 \r\nL 380.752343 -44.383181 \r\nL 382.698435 -43.771609 \r\nL 384.644527 -43.220352 \r\nL 386.590619 -42.715273 \r\nL 388.536711 -42.272552 \r\nL 390.482802 -41.873356 \r\nL 392.428894 -41.52058 \r\nL 394.374986 -41.210088 \r\nL 396.321078 -40.937031 \r\nL 398.26717 -40.707231 \r\nL 400.213262 -40.508688 \r\nL 402.159354 -40.340536 \r\nL 404.105446 -40.206534 \r\nL 406.051538 -40.096868 \r\nL 407.99763 -40.01394 \r\nL 409.943722 -39.953204 \r\nL 411.889814 -39.916395 \r\nL 413.835905 -39.898776 \r\nL 413.835905 -38.330859 \r\nL 413.835905 -38.330859 \r\nL 411.889814 -38.330859 \r\nL 409.943722 -38.330859 \r\nL 407.99763 -38.330859 \r\nL 406.051538 -38.330859 \r\nL 404.105446 -38.330859 \r\nL 402.159354 -38.330859 \r\nL 400.213262 -38.330859 \r\nL 398.26717 -38.330859 \r\nL 396.321078 -38.330859 \r\nL 394.374986 -38.330859 \r\nL 392.428894 -38.330859 \r\nL 390.482802 -38.330859 \r\nL 388.536711 -38.330859 \r\nL 386.590619 -38.330859 \r\nL 384.644527 -38.330859 \r\nL 382.698435 -38.330859 \r\nL 380.752343 -38.330859 \r\nL 378.806251 -38.330859 \r\nL 376.860159 -38.330859 \r\nL 374.914067 -38.330859 \r\nL 372.967975 -38.330859 \r\nL 371.021883 -38.330859 \r\nL 369.075791 -38.330859 \r\nL 367.1297 -38.330859 \r\nL 365.183608 -38.330859 \r\nL 363.237516 -38.330859 \r\nL 361.291424 -38.330859 \r\nL 359.345332 -38.330859 \r\nL 357.39924 -38.330859 \r\nL 355.453148 -38.330859 \r\nL 353.507056 -38.330859 \r\nL 351.560964 -38.330859 \r\nL 349.614872 -38.330859 \r\nL 347.66878 -38.330859 \r\nL 345.722688 -38.330859 \r\nL 343.776597 -38.330859 \r\nL 341.830505 -38.330859 \r\nL 339.884413 -38.330859 \r\nL 337.938321 -38.330859 \r\nL 335.992229 -38.330859 \r\nL 334.046137 -38.330859 \r\nL 332.100045 -38.330859 \r\nL 330.153953 -38.330859 \r\nL 328.207861 -38.330859 \r\nL 326.261769 -38.330859 \r\nL 324.315677 -38.330859 \r\nL 322.369585 -38.330859 \r\nL 320.423494 -38.330859 \r\nL 318.477402 -38.330859 \r\nL 316.53131 -38.330859 \r\nL 314.585218 -38.330859 \r\nL 312.639126 -38.330859 \r\nL 310.693034 -38.330859 \r\nL 308.746942 -38.330859 \r\nL 306.80085 -38.330859 \r\nL 304.854758 -38.330859 \r\nL 302.908666 -38.330859 \r\nL 300.962574 -38.330859 \r\nL 299.016483 -38.330859 \r\nL 297.070391 -38.330859 \r\nL 295.124299 -38.330859 \r\nL 293.178207 -38.330859 \r\nL 291.232115 -38.330859 \r\nL 289.286023 -38.330859 \r\nL 287.339931 -38.330859 \r\nL 285.393839 -38.330859 \r\nL 283.447747 -38.330859 \r\nL 281.501655 -38.330859 \r\nL 279.555563 -38.330859 \r\nL 277.609471 -38.330859 \r\nL 275.66338 -38.330859 \r\nL 273.717288 -38.330859 \r\nL 271.771196 -38.330859 \r\nL 269.825104 -38.330859 \r\nL 267.879012 -38.330859 \r\nL 265.93292 -38.330859 \r\nL 263.986828 -38.330859 \r\nL 262.040736 -38.330859 \r\nL 260.094644 -38.330859 \r\nL 258.148552 -38.330859 \r\nL 256.20246 -38.330859 \r\nL 254.256368 -38.330859 \r\nL 252.310277 -38.330859 \r\nL 250.364185 -38.330859 \r\nL 248.418093 -38.330859 \r\nL 246.472001 -38.330859 \r\nL 244.525909 -38.330859 \r\nL 242.579817 -38.330859 \r\nL 240.633725 -38.330859 \r\nL 238.687633 -38.330859 \r\nL 236.741541 -38.330859 \r\nL 234.795449 -38.330859 \r\nL 232.849357 -38.330859 \r\nL 230.903266 -38.330859 \r\nL 228.957174 -38.330859 \r\nL 227.011082 -38.330859 \r\nL 225.06499 -38.330859 \r\nL 223.118898 -38.330859 \r\nL 221.172806 -38.330859 \r\nL 219.226714 -38.330859 \r\nL 217.280622 -38.330859 \r\nL 215.33453 -38.330859 \r\nL 213.388438 -38.330859 \r\nL 211.442346 -38.330859 \r\nL 209.496254 -38.330859 \r\nL 207.550163 -38.330859 \r\nL 205.604071 -38.330859 \r\nL 203.657979 -38.330859 \r\nL 201.711887 -38.330859 \r\nL 199.765795 -38.330859 \r\nL 197.819703 -38.330859 \r\nL 195.873611 -38.330859 \r\nL 193.927519 -38.330859 \r\nL 191.981427 -38.330859 \r\nL 190.035335 -38.330859 \r\nL 188.089243 -38.330859 \r\nL 186.143152 -38.330859 \r\nL 184.19706 -38.330859 \r\nL 182.250968 -38.330859 \r\nL 180.304876 -38.330859 \r\nL 178.358784 -38.330859 \r\nL 176.412692 -38.330859 \r\nL 174.4666 -38.330859 \r\nL 172.520508 -38.330859 \r\nL 170.574416 -38.330859 \r\nL 168.628324 -38.330859 \r\nL 166.682232 -38.330859 \r\nL 164.73614 -38.330859 \r\nL 162.790049 -38.330859 \r\nL 160.843957 -38.330859 \r\nL 158.897865 -38.330859 \r\nL 156.951773 -38.330859 \r\nL 155.005681 -38.330859 \r\nL 153.059589 -38.330859 \r\nL 151.113497 -38.330859 \r\nL 149.167405 -38.330859 \r\nL 147.221313 -38.330859 \r\nL 145.275221 -38.330859 \r\nL 143.329129 -38.330859 \r\nL 141.383037 -38.330859 \r\nL 139.436946 -38.330859 \r\nL 137.490854 -38.330859 \r\nL 135.544762 -38.330859 \r\nL 133.59867 -38.330859 \r\nL 131.652578 -38.330859 \r\nL 129.706486 -38.330859 \r\nL 127.760394 -38.330859 \r\nL 125.814302 -38.330859 \r\nL 123.86821 -38.330859 \r\nL 121.922118 -38.330859 \r\nL 119.976026 -38.330859 \r\nL 118.029935 -38.330859 \r\nL 116.083843 -38.330859 \r\nL 114.137751 -38.330859 \r\nL 112.191659 -38.330859 \r\nL 110.245567 -38.330859 \r\nL 108.299475 -38.330859 \r\nL 106.353383 -38.330859 \r\nL 104.407291 -38.330859 \r\nL 102.461199 -38.330859 \r\nL 100.515107 -38.330859 \r\nL 98.569015 -38.330859 \r\nL 96.622923 -38.330859 \r\nL 94.676832 -38.330859 \r\nL 92.73074 -38.330859 \r\nL 90.784648 -38.330859 \r\nL 88.838556 -38.330859 \r\nL 86.892464 -38.330859 \r\nL 84.946372 -38.330859 \r\nL 83.00028 -38.330859 \r\nL 81.054188 -38.330859 \r\nL 79.108096 -38.330859 \r\nL 77.162004 -38.330859 \r\nL 75.215912 -38.330859 \r\nL 73.26982 -38.330859 \r\nL 71.323729 -38.330859 \r\nL 69.377637 -38.330859 \r\nL 67.431545 -38.330859 \r\nL 65.485453 -38.330859 \r\nL 63.539361 -38.330859 \r\nL 61.593269 -38.330859 \r\nL 59.647177 -38.330859 \r\nL 57.701085 -38.330859 \r\nL 55.754993 -38.330859 \r\nL 53.808901 -38.330859 \r\nL 51.862809 -38.330859 \r\nL 49.916718 -38.330859 \r\nL 47.970626 -38.330859 \r\nL 46.024534 -38.330859 \r\nL 44.078442 -38.330859 \r\nL 42.13235 -38.330859 \r\nL 40.186258 -38.330859 \r\nL 38.240166 -38.330859 \r\nL 36.294074 -38.330859 \r\nL 34.347982 -38.330859 \r\nL 32.40189 -38.330859 \r\nL 30.455798 -38.330859 \r\nL 28.509706 -38.330859 \r\nL 26.563615 -38.330859 \r\nz\r\n\" id=\"m968855f56d\" style=\"stroke:#1f77b4;stroke-opacity:0;\"/>\r\n    </defs>\r\n    <g clip-path=\"url(#pafa974a3be)\">\r\n     <use style=\"fill:#1f77b4;fill-opacity:0;stroke:#1f77b4;stroke-opacity:0;\" x=\"0\" xlink:href=\"#m968855f56d\" y=\"296.39952\"/>\r\n    </g>\r\n   </g>\r\n   <g id=\"matplotlib.axis_1\">\r\n    <g id=\"xtick_1\">\r\n     <g id=\"line2d_1\">\r\n      <defs>\r\n       <path d=\"M 0 0 \r\nL 0 3 \r\n\" id=\"m7c48834453\" style=\"stroke:#808080;\"/>\r\n      </defs>\r\n      <g>\r\n       <use style=\"fill:#808080;stroke:#808080;\" x=\"33.217589\" xlink:href=\"#m7c48834453\" y=\"269.150145\"/>\r\n      </g>\r\n     </g>\r\n     <g id=\"text_1\">\r\n      <!-- 172 -->\r\n      <g transform=\"translate(19.856339 286.287957)scale(0.14 -0.14)\">\r\n       <defs>\r\n        <path d=\"M 12.40625 8.296875 \r\nL 28.515625 8.296875 \r\nL 28.515625 63.921875 \r\nL 10.984375 60.40625 \r\nL 10.984375 69.390625 \r\nL 28.421875 72.90625 \r\nL 38.28125 72.90625 \r\nL 38.28125 8.296875 \r\nL 54.390625 8.296875 \r\nL 54.390625 0 \r\nL 12.40625 0 \r\nz\r\n\" id=\"DejaVuSans-49\"/>\r\n        <path d=\"M 8.203125 72.90625 \r\nL 55.078125 72.90625 \r\nL 55.078125 68.703125 \r\nL 28.609375 0 \r\nL 18.3125 0 \r\nL 43.21875 64.59375 \r\nL 8.203125 64.59375 \r\nz\r\n\" id=\"DejaVuSans-55\"/>\r\n        <path d=\"M 19.1875 8.296875 \r\nL 53.609375 8.296875 \r\nL 53.609375 0 \r\nL 7.328125 0 \r\nL 7.328125 8.296875 \r\nQ 12.9375 14.109375 22.625 23.890625 \r\nQ 32.328125 33.6875 34.8125 36.53125 \r\nQ 39.546875 41.84375 41.421875 45.53125 \r\nQ 43.3125 49.21875 43.3125 52.78125 \r\nQ 43.3125 58.59375 39.234375 62.25 \r\nQ 35.15625 65.921875 28.609375 65.921875 \r\nQ 23.96875 65.921875 18.8125 64.3125 \r\nQ 13.671875 62.703125 7.8125 59.421875 \r\nL 7.8125 69.390625 \r\nQ 13.765625 71.78125 18.9375 73 \r\nQ 24.125 74.21875 28.421875 74.21875 \r\nQ 39.75 74.21875 46.484375 68.546875 \r\nQ 53.21875 62.890625 53.21875 53.421875 \r\nQ 53.21875 48.921875 51.53125 44.890625 \r\nQ 49.859375 40.875 45.40625 35.40625 \r\nQ 44.1875 33.984375 37.640625 27.21875 \r\nQ 31.109375 20.453125 19.1875 8.296875 \r\nz\r\n\" id=\"DejaVuSans-50\"/>\r\n       </defs>\r\n       <use xlink:href=\"#DejaVuSans-49\"/>\r\n       <use x=\"63.623047\" xlink:href=\"#DejaVuSans-55\"/>\r\n       <use x=\"127.246094\" xlink:href=\"#DejaVuSans-50\"/>\r\n      </g>\r\n     </g>\r\n    </g>\r\n    <g id=\"xtick_2\">\r\n     <g id=\"line2d_2\">\r\n      <g>\r\n       <use style=\"fill:#808080;stroke:#808080;\" x=\"87.843218\" xlink:href=\"#m7c48834453\" y=\"269.150145\"/>\r\n      </g>\r\n     </g>\r\n     <g id=\"text_2\">\r\n      <!-- 173 -->\r\n      <g transform=\"translate(74.481968 286.287957)scale(0.14 -0.14)\">\r\n       <defs>\r\n        <path d=\"M 40.578125 39.3125 \r\nQ 47.65625 37.796875 51.625 33 \r\nQ 55.609375 28.21875 55.609375 21.1875 \r\nQ 55.609375 10.40625 48.1875 4.484375 \r\nQ 40.765625 -1.421875 27.09375 -1.421875 \r\nQ 22.515625 -1.421875 17.65625 -0.515625 \r\nQ 12.796875 0.390625 7.625 2.203125 \r\nL 7.625 11.71875 \r\nQ 11.71875 9.328125 16.59375 8.109375 \r\nQ 21.484375 6.890625 26.8125 6.890625 \r\nQ 36.078125 6.890625 40.9375 10.546875 \r\nQ 45.796875 14.203125 45.796875 21.1875 \r\nQ 45.796875 27.640625 41.28125 31.265625 \r\nQ 36.765625 34.90625 28.71875 34.90625 \r\nL 20.21875 34.90625 \r\nL 20.21875 43.015625 \r\nL 29.109375 43.015625 \r\nQ 36.375 43.015625 40.234375 45.921875 \r\nQ 44.09375 48.828125 44.09375 54.296875 \r\nQ 44.09375 59.90625 40.109375 62.90625 \r\nQ 36.140625 65.921875 28.71875 65.921875 \r\nQ 24.65625 65.921875 20.015625 65.03125 \r\nQ 15.375 64.15625 9.8125 62.3125 \r\nL 9.8125 71.09375 \r\nQ 15.4375 72.65625 20.34375 73.4375 \r\nQ 25.25 74.21875 29.59375 74.21875 \r\nQ 40.828125 74.21875 47.359375 69.109375 \r\nQ 53.90625 64.015625 53.90625 55.328125 \r\nQ 53.90625 49.265625 50.4375 45.09375 \r\nQ 46.96875 40.921875 40.578125 39.3125 \r\nz\r\n\" id=\"DejaVuSans-51\"/>\r\n       </defs>\r\n       <use xlink:href=\"#DejaVuSans-49\"/>\r\n       <use x=\"63.623047\" xlink:href=\"#DejaVuSans-55\"/>\r\n       <use x=\"127.246094\" xlink:href=\"#DejaVuSans-51\"/>\r\n      </g>\r\n     </g>\r\n    </g>\r\n    <g id=\"xtick_3\">\r\n     <g id=\"line2d_3\">\r\n      <g>\r\n       <use style=\"fill:#808080;stroke:#808080;\" x=\"142.468847\" xlink:href=\"#m7c48834453\" y=\"269.150145\"/>\r\n      </g>\r\n     </g>\r\n     <g id=\"text_3\">\r\n      <!-- 174 -->\r\n      <g transform=\"translate(129.107597 286.287957)scale(0.14 -0.14)\">\r\n       <defs>\r\n        <path d=\"M 37.796875 64.3125 \r\nL 12.890625 25.390625 \r\nL 37.796875 25.390625 \r\nz\r\nM 35.203125 72.90625 \r\nL 47.609375 72.90625 \r\nL 47.609375 25.390625 \r\nL 58.015625 25.390625 \r\nL 58.015625 17.1875 \r\nL 47.609375 17.1875 \r\nL 47.609375 0 \r\nL 37.796875 0 \r\nL 37.796875 17.1875 \r\nL 4.890625 17.1875 \r\nL 4.890625 26.703125 \r\nz\r\n\" id=\"DejaVuSans-52\"/>\r\n       </defs>\r\n       <use xlink:href=\"#DejaVuSans-49\"/>\r\n       <use x=\"63.623047\" xlink:href=\"#DejaVuSans-55\"/>\r\n       <use x=\"127.246094\" xlink:href=\"#DejaVuSans-52\"/>\r\n      </g>\r\n     </g>\r\n    </g>\r\n    <g id=\"xtick_4\">\r\n     <g id=\"line2d_4\">\r\n      <g>\r\n       <use style=\"fill:#808080;stroke:#808080;\" x=\"197.094476\" xlink:href=\"#m7c48834453\" y=\"269.150145\"/>\r\n      </g>\r\n     </g>\r\n     <g id=\"text_4\">\r\n      <!-- 175 -->\r\n      <g transform=\"translate(183.733226 286.287957)scale(0.14 -0.14)\">\r\n       <defs>\r\n        <path d=\"M 10.796875 72.90625 \r\nL 49.515625 72.90625 \r\nL 49.515625 64.59375 \r\nL 19.828125 64.59375 \r\nL 19.828125 46.734375 \r\nQ 21.96875 47.46875 24.109375 47.828125 \r\nQ 26.265625 48.1875 28.421875 48.1875 \r\nQ 40.625 48.1875 47.75 41.5 \r\nQ 54.890625 34.8125 54.890625 23.390625 \r\nQ 54.890625 11.625 47.5625 5.09375 \r\nQ 40.234375 -1.421875 26.90625 -1.421875 \r\nQ 22.3125 -1.421875 17.546875 -0.640625 \r\nQ 12.796875 0.140625 7.71875 1.703125 \r\nL 7.71875 11.625 \r\nQ 12.109375 9.234375 16.796875 8.0625 \r\nQ 21.484375 6.890625 26.703125 6.890625 \r\nQ 35.15625 6.890625 40.078125 11.328125 \r\nQ 45.015625 15.765625 45.015625 23.390625 \r\nQ 45.015625 31 40.078125 35.4375 \r\nQ 35.15625 39.890625 26.703125 39.890625 \r\nQ 22.75 39.890625 18.8125 39.015625 \r\nQ 14.890625 38.140625 10.796875 36.28125 \r\nz\r\n\" id=\"DejaVuSans-53\"/>\r\n       </defs>\r\n       <use xlink:href=\"#DejaVuSans-49\"/>\r\n       <use x=\"63.623047\" xlink:href=\"#DejaVuSans-55\"/>\r\n       <use x=\"127.246094\" xlink:href=\"#DejaVuSans-53\"/>\r\n      </g>\r\n     </g>\r\n    </g>\r\n    <g id=\"xtick_5\">\r\n     <g id=\"line2d_5\">\r\n      <g>\r\n       <use style=\"fill:#808080;stroke:#808080;\" x=\"251.720105\" xlink:href=\"#m7c48834453\" y=\"269.150145\"/>\r\n      </g>\r\n     </g>\r\n     <g id=\"text_5\">\r\n      <!-- 176 -->\r\n      <g transform=\"translate(238.358855 286.287957)scale(0.14 -0.14)\">\r\n       <defs>\r\n        <path d=\"M 33.015625 40.375 \r\nQ 26.375 40.375 22.484375 35.828125 \r\nQ 18.609375 31.296875 18.609375 23.390625 \r\nQ 18.609375 15.53125 22.484375 10.953125 \r\nQ 26.375 6.390625 33.015625 6.390625 \r\nQ 39.65625 6.390625 43.53125 10.953125 \r\nQ 47.40625 15.53125 47.40625 23.390625 \r\nQ 47.40625 31.296875 43.53125 35.828125 \r\nQ 39.65625 40.375 33.015625 40.375 \r\nz\r\nM 52.59375 71.296875 \r\nL 52.59375 62.3125 \r\nQ 48.875 64.0625 45.09375 64.984375 \r\nQ 41.3125 65.921875 37.59375 65.921875 \r\nQ 27.828125 65.921875 22.671875 59.328125 \r\nQ 17.53125 52.734375 16.796875 39.40625 \r\nQ 19.671875 43.65625 24.015625 45.921875 \r\nQ 28.375 48.1875 33.59375 48.1875 \r\nQ 44.578125 48.1875 50.953125 41.515625 \r\nQ 57.328125 34.859375 57.328125 23.390625 \r\nQ 57.328125 12.15625 50.6875 5.359375 \r\nQ 44.046875 -1.421875 33.015625 -1.421875 \r\nQ 20.359375 -1.421875 13.671875 8.265625 \r\nQ 6.984375 17.96875 6.984375 36.375 \r\nQ 6.984375 53.65625 15.1875 63.9375 \r\nQ 23.390625 74.21875 37.203125 74.21875 \r\nQ 40.921875 74.21875 44.703125 73.484375 \r\nQ 48.484375 72.75 52.59375 71.296875 \r\nz\r\n\" id=\"DejaVuSans-54\"/>\r\n       </defs>\r\n       <use xlink:href=\"#DejaVuSans-49\"/>\r\n       <use x=\"63.623047\" xlink:href=\"#DejaVuSans-55\"/>\r\n       <use x=\"127.246094\" xlink:href=\"#DejaVuSans-54\"/>\r\n      </g>\r\n     </g>\r\n    </g>\r\n    <g id=\"xtick_6\">\r\n     <g id=\"line2d_6\">\r\n      <g>\r\n       <use style=\"fill:#808080;stroke:#808080;\" x=\"306.345735\" xlink:href=\"#m7c48834453\" y=\"269.150145\"/>\r\n      </g>\r\n     </g>\r\n     <g id=\"text_6\">\r\n      <!-- 177 -->\r\n      <g transform=\"translate(292.984485 286.287957)scale(0.14 -0.14)\">\r\n       <use xlink:href=\"#DejaVuSans-49\"/>\r\n       <use x=\"63.623047\" xlink:href=\"#DejaVuSans-55\"/>\r\n       <use x=\"127.246094\" xlink:href=\"#DejaVuSans-55\"/>\r\n      </g>\r\n     </g>\r\n    </g>\r\n    <g id=\"xtick_7\">\r\n     <g id=\"line2d_7\">\r\n      <g>\r\n       <use style=\"fill:#808080;stroke:#808080;\" x=\"360.971364\" xlink:href=\"#m7c48834453\" y=\"269.150145\"/>\r\n      </g>\r\n     </g>\r\n     <g id=\"text_7\">\r\n      <!-- 178 -->\r\n      <g transform=\"translate(347.610114 286.287957)scale(0.14 -0.14)\">\r\n       <defs>\r\n        <path d=\"M 31.78125 34.625 \r\nQ 24.75 34.625 20.71875 30.859375 \r\nQ 16.703125 27.09375 16.703125 20.515625 \r\nQ 16.703125 13.921875 20.71875 10.15625 \r\nQ 24.75 6.390625 31.78125 6.390625 \r\nQ 38.8125 6.390625 42.859375 10.171875 \r\nQ 46.921875 13.96875 46.921875 20.515625 \r\nQ 46.921875 27.09375 42.890625 30.859375 \r\nQ 38.875 34.625 31.78125 34.625 \r\nz\r\nM 21.921875 38.8125 \r\nQ 15.578125 40.375 12.03125 44.71875 \r\nQ 8.5 49.078125 8.5 55.328125 \r\nQ 8.5 64.0625 14.71875 69.140625 \r\nQ 20.953125 74.21875 31.78125 74.21875 \r\nQ 42.671875 74.21875 48.875 69.140625 \r\nQ 55.078125 64.0625 55.078125 55.328125 \r\nQ 55.078125 49.078125 51.53125 44.71875 \r\nQ 48 40.375 41.703125 38.8125 \r\nQ 48.828125 37.15625 52.796875 32.3125 \r\nQ 56.78125 27.484375 56.78125 20.515625 \r\nQ 56.78125 9.90625 50.3125 4.234375 \r\nQ 43.84375 -1.421875 31.78125 -1.421875 \r\nQ 19.734375 -1.421875 13.25 4.234375 \r\nQ 6.78125 9.90625 6.78125 20.515625 \r\nQ 6.78125 27.484375 10.78125 32.3125 \r\nQ 14.796875 37.15625 21.921875 38.8125 \r\nz\r\nM 18.3125 54.390625 \r\nQ 18.3125 48.734375 21.84375 45.5625 \r\nQ 25.390625 42.390625 31.78125 42.390625 \r\nQ 38.140625 42.390625 41.71875 45.5625 \r\nQ 45.3125 48.734375 45.3125 54.390625 \r\nQ 45.3125 60.0625 41.71875 63.234375 \r\nQ 38.140625 66.40625 31.78125 66.40625 \r\nQ 25.390625 66.40625 21.84375 63.234375 \r\nQ 18.3125 60.0625 18.3125 54.390625 \r\nz\r\n\" id=\"DejaVuSans-56\"/>\r\n       </defs>\r\n       <use xlink:href=\"#DejaVuSans-49\"/>\r\n       <use x=\"63.623047\" xlink:href=\"#DejaVuSans-55\"/>\r\n       <use x=\"127.246094\" xlink:href=\"#DejaVuSans-56\"/>\r\n      </g>\r\n     </g>\r\n    </g>\r\n    <g id=\"xtick_8\">\r\n     <g id=\"line2d_8\">\r\n      <g>\r\n       <use style=\"fill:#808080;stroke:#808080;\" x=\"415.596993\" xlink:href=\"#m7c48834453\" y=\"269.150145\"/>\r\n      </g>\r\n     </g>\r\n     <g id=\"text_8\">\r\n      <!-- 179 -->\r\n      <g transform=\"translate(402.235743 286.287957)scale(0.14 -0.14)\">\r\n       <defs>\r\n        <path d=\"M 10.984375 1.515625 \r\nL 10.984375 10.5 \r\nQ 14.703125 8.734375 18.5 7.8125 \r\nQ 22.3125 6.890625 25.984375 6.890625 \r\nQ 35.75 6.890625 40.890625 13.453125 \r\nQ 46.046875 20.015625 46.78125 33.40625 \r\nQ 43.953125 29.203125 39.59375 26.953125 \r\nQ 35.25 24.703125 29.984375 24.703125 \r\nQ 19.046875 24.703125 12.671875 31.3125 \r\nQ 6.296875 37.9375 6.296875 49.421875 \r\nQ 6.296875 60.640625 12.9375 67.421875 \r\nQ 19.578125 74.21875 30.609375 74.21875 \r\nQ 43.265625 74.21875 49.921875 64.515625 \r\nQ 56.59375 54.828125 56.59375 36.375 \r\nQ 56.59375 19.140625 48.40625 8.859375 \r\nQ 40.234375 -1.421875 26.421875 -1.421875 \r\nQ 22.703125 -1.421875 18.890625 -0.6875 \r\nQ 15.09375 0.046875 10.984375 1.515625 \r\nz\r\nM 30.609375 32.421875 \r\nQ 37.25 32.421875 41.125 36.953125 \r\nQ 45.015625 41.5 45.015625 49.421875 \r\nQ 45.015625 57.28125 41.125 61.84375 \r\nQ 37.25 66.40625 30.609375 66.40625 \r\nQ 23.96875 66.40625 20.09375 61.84375 \r\nQ 16.21875 57.28125 16.21875 49.421875 \r\nQ 16.21875 41.5 20.09375 36.953125 \r\nQ 23.96875 32.421875 30.609375 32.421875 \r\nz\r\n\" id=\"DejaVuSans-57\"/>\r\n       </defs>\r\n       <use xlink:href=\"#DejaVuSans-49\"/>\r\n       <use x=\"63.623047\" xlink:href=\"#DejaVuSans-55\"/>\r\n       <use x=\"127.246094\" xlink:href=\"#DejaVuSans-57\"/>\r\n      </g>\r\n     </g>\r\n    </g>\r\n   </g>\r\n   <g id=\"matplotlib.axis_2\"/>\r\n   <g id=\"line2d_9\">\r\n    <path clip-path=\"url(#pafa974a3be)\" d=\"M 26.563615 257.751689 \r\nL 63.539361 257.664294 \r\nL 69.377637 257.403772 \r\nL 75.215912 256.944451 \r\nL 81.054188 256.257411 \r\nL 86.892464 255.286119 \r\nL 90.784648 254.4607 \r\nL 94.676832 253.461484 \r\nL 98.569015 252.261957 \r\nL 102.461199 250.846124 \r\nL 106.353383 249.224135 \r\nL 110.245567 247.39623 \r\nL 114.137751 245.360114 \r\nL 118.029935 243.098333 \r\nL 121.922118 240.572902 \r\nL 125.814302 237.662145 \r\nL 127.760394 236.025272 \r\nL 129.706486 234.240132 \r\nL 131.652578 232.299855 \r\nL 133.59867 230.19428 \r\nL 135.544762 227.921097 \r\nL 139.436946 222.8469 \r\nL 143.329129 217.100801 \r\nL 147.221313 210.754332 \r\nL 151.113497 203.814498 \r\nL 155.005681 196.341718 \r\nL 158.897865 188.30475 \r\nL 162.790049 179.664481 \r\nL 166.682232 170.407205 \r\nL 170.574416 160.5607 \r\nL 176.412692 144.874529 \r\nL 188.089243 112.993171 \r\nL 191.981427 103.100556 \r\nL 195.873611 93.842027 \r\nL 199.765795 85.246539 \r\nL 203.657979 77.206862 \r\nL 207.550163 69.600496 \r\nL 211.442346 62.401943 \r\nL 215.33453 55.664953 \r\nL 217.280622 52.524811 \r\nL 219.226714 49.605071 \r\nL 221.172806 46.903226 \r\nL 223.118898 44.461236 \r\nL 225.06499 42.295974 \r\nL 227.011082 40.478132 \r\nL 228.957174 38.992203 \r\nL 230.903266 37.815497 \r\nL 232.849357 37.0174 \r\nL 234.795449 36.54331 \r\nL 236.741541 36.438984 \r\nL 238.687633 36.650997 \r\nL 240.633725 37.234654 \r\nL 242.579817 38.135886 \r\nL 244.525909 39.374943 \r\nL 246.472001 40.944262 \r\nL 248.418093 42.819649 \r\nL 250.364185 44.963428 \r\nL 252.310277 47.388996 \r\nL 256.20246 52.80521 \r\nL 260.094644 58.793017 \r\nL 265.93292 68.353119 \r\nL 271.771196 78.351113 \r\nL 275.66338 85.37411 \r\nL 279.555563 92.817508 \r\nL 283.447747 100.713953 \r\nL 287.339931 109.034015 \r\nL 293.178207 122.076388 \r\nL 299.016483 135.6311 \r\nL 308.746942 159.038976 \r\nL 314.585218 172.82147 \r\nL 318.477402 181.49282 \r\nL 322.369585 189.569982 \r\nL 326.261769 196.991083 \r\nL 330.153953 203.779781 \r\nL 334.046137 210.028793 \r\nL 337.938321 215.815561 \r\nL 341.830505 221.17239 \r\nL 345.722688 226.105299 \r\nL 349.614872 230.609364 \r\nL 353.507056 234.697099 \r\nL 357.39924 238.329344 \r\nL 361.291424 241.540743 \r\nL 365.183608 244.353726 \r\nL 369.075791 246.77352 \r\nL 372.967975 248.843085 \r\nL 376.860159 250.580576 \r\nL 380.752343 252.016339 \r\nL 384.644527 253.179168 \r\nL 388.536711 254.126968 \r\nL 392.428894 254.87894 \r\nL 396.321078 255.462489 \r\nL 402.159354 256.058984 \r\nL 407.99763 256.38558 \r\nL 413.835905 256.500744 \r\nL 413.835905 256.500744 \r\n\" style=\"fill:none;stroke:#1f77b4;stroke-linecap:square;stroke-width:1.5;\"/>\r\n   </g>\r\n   <g id=\"line2d_10\">\r\n    <path clip-path=\"url(#pafa974a3be)\" d=\"M 145.658882 253.414438 \r\nL 335.397158 253.414438 \r\n\" style=\"fill:none;stroke:#000000;stroke-width:3;\"/>\r\n   </g>\r\n   <g id=\"line2d_11\">\r\n    <path clip-path=\"url(#pafa974a3be)\" d=\"M 197.094476 256.960513 \r\nL 197.094476 86.305661 \r\n\" style=\"fill:none;stroke:#ff7f0e;stroke-linecap:square;stroke-opacity:0.65;stroke-width:1.5;\"/>\r\n   </g>\r\n   <g id=\"patch_3\">\r\n    <path d=\"M 7.2 269.150145 \r\nL 433.19952 269.150145 \r\n\" style=\"fill:none;stroke:#808080;stroke-linecap:square;stroke-linejoin:miter;stroke-width:0.8;\"/>\r\n   </g>\r\n   <g id=\"text_9\">\r\n    <!-- 174 -->\r\n    <g transform=\"translate(131.343257 241.77888)scale(0.15 -0.15)\">\r\n     <use xlink:href=\"#DejaVuSans-49\"/>\r\n     <use x=\"63.623047\" xlink:href=\"#DejaVuSans-55\"/>\r\n     <use x=\"127.246094\" xlink:href=\"#DejaVuSans-52\"/>\r\n    </g>\r\n   </g>\r\n   <g id=\"text_10\">\r\n    <!-- 178 -->\r\n    <g transform=\"translate(321.081533 241.77888)scale(0.15 -0.15)\">\r\n     <use xlink:href=\"#DejaVuSans-49\"/>\r\n     <use x=\"63.623047\" xlink:href=\"#DejaVuSans-55\"/>\r\n     <use x=\"127.246094\" xlink:href=\"#DejaVuSans-56\"/>\r\n    </g>\r\n   </g>\r\n   <g id=\"text_11\">\r\n    <!-- 94% HDI -->\r\n    <g transform=\"translate(207.84677 188.255313)scale(0.15 -0.15)\">\r\n     <defs>\r\n      <path d=\"M 72.703125 32.078125 \r\nQ 68.453125 32.078125 66.03125 28.46875 \r\nQ 63.625 24.859375 63.625 18.40625 \r\nQ 63.625 12.0625 66.03125 8.421875 \r\nQ 68.453125 4.78125 72.703125 4.78125 \r\nQ 76.859375 4.78125 79.265625 8.421875 \r\nQ 81.6875 12.0625 81.6875 18.40625 \r\nQ 81.6875 24.8125 79.265625 28.4375 \r\nQ 76.859375 32.078125 72.703125 32.078125 \r\nz\r\nM 72.703125 38.28125 \r\nQ 80.421875 38.28125 84.953125 32.90625 \r\nQ 89.5 27.546875 89.5 18.40625 \r\nQ 89.5 9.28125 84.9375 3.921875 \r\nQ 80.375 -1.421875 72.703125 -1.421875 \r\nQ 64.890625 -1.421875 60.34375 3.921875 \r\nQ 55.8125 9.28125 55.8125 18.40625 \r\nQ 55.8125 27.59375 60.375 32.9375 \r\nQ 64.9375 38.28125 72.703125 38.28125 \r\nz\r\nM 22.3125 68.015625 \r\nQ 18.109375 68.015625 15.6875 64.375 \r\nQ 13.28125 60.75 13.28125 54.390625 \r\nQ 13.28125 47.953125 15.671875 44.328125 \r\nQ 18.0625 40.71875 22.3125 40.71875 \r\nQ 26.5625 40.71875 28.96875 44.328125 \r\nQ 31.390625 47.953125 31.390625 54.390625 \r\nQ 31.390625 60.6875 28.953125 64.34375 \r\nQ 26.515625 68.015625 22.3125 68.015625 \r\nz\r\nM 66.40625 74.21875 \r\nL 74.21875 74.21875 \r\nL 28.609375 -1.421875 \r\nL 20.796875 -1.421875 \r\nz\r\nM 22.3125 74.21875 \r\nQ 30.03125 74.21875 34.609375 68.875 \r\nQ 39.203125 63.53125 39.203125 54.390625 \r\nQ 39.203125 45.171875 34.640625 39.84375 \r\nQ 30.078125 34.515625 22.3125 34.515625 \r\nQ 14.546875 34.515625 10.03125 39.859375 \r\nQ 5.515625 45.21875 5.515625 54.390625 \r\nQ 5.515625 63.484375 10.046875 68.84375 \r\nQ 14.59375 74.21875 22.3125 74.21875 \r\nz\r\n\" id=\"DejaVuSans-37\"/>\r\n      <path id=\"DejaVuSans-32\"/>\r\n      <path d=\"M 9.8125 72.90625 \r\nL 19.671875 72.90625 \r\nL 19.671875 43.015625 \r\nL 55.515625 43.015625 \r\nL 55.515625 72.90625 \r\nL 65.375 72.90625 \r\nL 65.375 0 \r\nL 55.515625 0 \r\nL 55.515625 34.71875 \r\nL 19.671875 34.71875 \r\nL 19.671875 0 \r\nL 9.8125 0 \r\nz\r\n\" id=\"DejaVuSans-72\"/>\r\n      <path d=\"M 19.671875 64.796875 \r\nL 19.671875 8.109375 \r\nL 31.59375 8.109375 \r\nQ 46.6875 8.109375 53.6875 14.9375 \r\nQ 60.6875 21.78125 60.6875 36.53125 \r\nQ 60.6875 51.171875 53.6875 57.984375 \r\nQ 46.6875 64.796875 31.59375 64.796875 \r\nz\r\nM 9.8125 72.90625 \r\nL 30.078125 72.90625 \r\nQ 51.265625 72.90625 61.171875 64.09375 \r\nQ 71.09375 55.28125 71.09375 36.53125 \r\nQ 71.09375 17.671875 61.125 8.828125 \r\nQ 51.171875 0 30.078125 0 \r\nL 9.8125 0 \r\nz\r\n\" id=\"DejaVuSans-68\"/>\r\n      <path d=\"M 9.8125 72.90625 \r\nL 19.671875 72.90625 \r\nL 19.671875 0 \r\nL 9.8125 0 \r\nz\r\n\" id=\"DejaVuSans-73\"/>\r\n     </defs>\r\n     <use xlink:href=\"#DejaVuSans-57\"/>\r\n     <use x=\"63.623047\" xlink:href=\"#DejaVuSans-52\"/>\r\n     <use x=\"127.246094\" xlink:href=\"#DejaVuSans-37\"/>\r\n     <use x=\"222.265625\" xlink:href=\"#DejaVuSans-32\"/>\r\n     <use x=\"254.052734\" xlink:href=\"#DejaVuSans-72\"/>\r\n     <use x=\"329.248047\" xlink:href=\"#DejaVuSans-68\"/>\r\n     <use x=\"406.25\" xlink:href=\"#DejaVuSans-73\"/>\r\n    </g>\r\n   </g>\r\n   <g id=\"text_12\">\r\n    <!-- mean=176 -->\r\n    <g transform=\"translate(197.938358 71.899732)scale(0.15 -0.15)\">\r\n     <defs>\r\n      <path d=\"M 52 44.1875 \r\nQ 55.375 50.25 60.0625 53.125 \r\nQ 64.75 56 71.09375 56 \r\nQ 79.640625 56 84.28125 50.015625 \r\nQ 88.921875 44.046875 88.921875 33.015625 \r\nL 88.921875 0 \r\nL 79.890625 0 \r\nL 79.890625 32.71875 \r\nQ 79.890625 40.578125 77.09375 44.375 \r\nQ 74.3125 48.1875 68.609375 48.1875 \r\nQ 61.625 48.1875 57.5625 43.546875 \r\nQ 53.515625 38.921875 53.515625 30.90625 \r\nL 53.515625 0 \r\nL 44.484375 0 \r\nL 44.484375 32.71875 \r\nQ 44.484375 40.625 41.703125 44.40625 \r\nQ 38.921875 48.1875 33.109375 48.1875 \r\nQ 26.21875 48.1875 22.15625 43.53125 \r\nQ 18.109375 38.875 18.109375 30.90625 \r\nL 18.109375 0 \r\nL 9.078125 0 \r\nL 9.078125 54.6875 \r\nL 18.109375 54.6875 \r\nL 18.109375 46.1875 \r\nQ 21.1875 51.21875 25.484375 53.609375 \r\nQ 29.78125 56 35.6875 56 \r\nQ 41.65625 56 45.828125 52.96875 \r\nQ 50 49.953125 52 44.1875 \r\nz\r\n\" id=\"DejaVuSans-109\"/>\r\n      <path d=\"M 56.203125 29.59375 \r\nL 56.203125 25.203125 \r\nL 14.890625 25.203125 \r\nQ 15.484375 15.921875 20.484375 11.0625 \r\nQ 25.484375 6.203125 34.421875 6.203125 \r\nQ 39.59375 6.203125 44.453125 7.46875 \r\nQ 49.3125 8.734375 54.109375 11.28125 \r\nL 54.109375 2.78125 \r\nQ 49.265625 0.734375 44.1875 -0.34375 \r\nQ 39.109375 -1.421875 33.890625 -1.421875 \r\nQ 20.796875 -1.421875 13.15625 6.1875 \r\nQ 5.515625 13.8125 5.515625 26.8125 \r\nQ 5.515625 40.234375 12.765625 48.109375 \r\nQ 20.015625 56 32.328125 56 \r\nQ 43.359375 56 49.78125 48.890625 \r\nQ 56.203125 41.796875 56.203125 29.59375 \r\nz\r\nM 47.21875 32.234375 \r\nQ 47.125 39.59375 43.09375 43.984375 \r\nQ 39.0625 48.390625 32.421875 48.390625 \r\nQ 24.90625 48.390625 20.390625 44.140625 \r\nQ 15.875 39.890625 15.1875 32.171875 \r\nz\r\n\" id=\"DejaVuSans-101\"/>\r\n      <path d=\"M 34.28125 27.484375 \r\nQ 23.390625 27.484375 19.1875 25 \r\nQ 14.984375 22.515625 14.984375 16.5 \r\nQ 14.984375 11.71875 18.140625 8.90625 \r\nQ 21.296875 6.109375 26.703125 6.109375 \r\nQ 34.1875 6.109375 38.703125 11.40625 \r\nQ 43.21875 16.703125 43.21875 25.484375 \r\nL 43.21875 27.484375 \r\nz\r\nM 52.203125 31.203125 \r\nL 52.203125 0 \r\nL 43.21875 0 \r\nL 43.21875 8.296875 \r\nQ 40.140625 3.328125 35.546875 0.953125 \r\nQ 30.953125 -1.421875 24.3125 -1.421875 \r\nQ 15.921875 -1.421875 10.953125 3.296875 \r\nQ 6 8.015625 6 15.921875 \r\nQ 6 25.140625 12.171875 29.828125 \r\nQ 18.359375 34.515625 30.609375 34.515625 \r\nL 43.21875 34.515625 \r\nL 43.21875 35.40625 \r\nQ 43.21875 41.609375 39.140625 45 \r\nQ 35.0625 48.390625 27.6875 48.390625 \r\nQ 23 48.390625 18.546875 47.265625 \r\nQ 14.109375 46.140625 10.015625 43.890625 \r\nL 10.015625 52.203125 \r\nQ 14.9375 54.109375 19.578125 55.046875 \r\nQ 24.21875 56 28.609375 56 \r\nQ 40.484375 56 46.34375 49.84375 \r\nQ 52.203125 43.703125 52.203125 31.203125 \r\nz\r\n\" id=\"DejaVuSans-97\"/>\r\n      <path d=\"M 54.890625 33.015625 \r\nL 54.890625 0 \r\nL 45.90625 0 \r\nL 45.90625 32.71875 \r\nQ 45.90625 40.484375 42.875 44.328125 \r\nQ 39.84375 48.1875 33.796875 48.1875 \r\nQ 26.515625 48.1875 22.3125 43.546875 \r\nQ 18.109375 38.921875 18.109375 30.90625 \r\nL 18.109375 0 \r\nL 9.078125 0 \r\nL 9.078125 54.6875 \r\nL 18.109375 54.6875 \r\nL 18.109375 46.1875 \r\nQ 21.34375 51.125 25.703125 53.5625 \r\nQ 30.078125 56 35.796875 56 \r\nQ 45.21875 56 50.046875 50.171875 \r\nQ 54.890625 44.34375 54.890625 33.015625 \r\nz\r\n\" id=\"DejaVuSans-110\"/>\r\n      <path d=\"M 10.59375 45.40625 \r\nL 73.1875 45.40625 \r\nL 73.1875 37.203125 \r\nL 10.59375 37.203125 \r\nz\r\nM 10.59375 25.484375 \r\nL 73.1875 25.484375 \r\nL 73.1875 17.1875 \r\nL 10.59375 17.1875 \r\nz\r\n\" id=\"DejaVuSans-61\"/>\r\n     </defs>\r\n     <use xlink:href=\"#DejaVuSans-109\"/>\r\n     <use x=\"97.412109\" xlink:href=\"#DejaVuSans-101\"/>\r\n     <use x=\"158.935547\" xlink:href=\"#DejaVuSans-97\"/>\r\n     <use x=\"220.214844\" xlink:href=\"#DejaVuSans-110\"/>\r\n     <use x=\"283.59375\" xlink:href=\"#DejaVuSans-61\"/>\r\n     <use x=\"367.382812\" xlink:href=\"#DejaVuSans-49\"/>\r\n     <use x=\"431.005859\" xlink:href=\"#DejaVuSans-55\"/>\r\n     <use x=\"494.628906\" xlink:href=\"#DejaVuSans-54\"/>\r\n    </g>\r\n   </g>\r\n   <g id=\"text_13\">\r\n    <!-- 20.7% &lt;175&lt; 79.3% -->\r\n    <g style=\"fill:#ff7f0e;\" transform=\"translate(154.323514 118.441964)scale(0.15 -0.15)\">\r\n     <defs>\r\n      <path d=\"M 28.8125 13.8125 \r\nL 60.890625 13.8125 \r\nL 60.890625 0 \r\nL 7.90625 0 \r\nL 7.90625 13.8125 \r\nL 34.515625 37.3125 \r\nQ 38.09375 40.53125 39.796875 43.609375 \r\nQ 41.5 46.6875 41.5 50 \r\nQ 41.5 55.125 38.0625 58.25 \r\nQ 34.625 61.375 28.90625 61.375 \r\nQ 24.515625 61.375 19.28125 59.5 \r\nQ 14.0625 57.625 8.109375 53.90625 \r\nL 8.109375 69.921875 \r\nQ 14.453125 72.015625 20.65625 73.109375 \r\nQ 26.859375 74.21875 32.8125 74.21875 \r\nQ 45.90625 74.21875 53.15625 68.453125 \r\nQ 60.40625 62.703125 60.40625 52.390625 \r\nQ 60.40625 46.4375 57.328125 41.28125 \r\nQ 54.25 36.140625 44.390625 27.484375 \r\nz\r\n\" id=\"DejaVuSans-Bold-50\"/>\r\n      <path d=\"M 46 36.53125 \r\nQ 46 50.203125 43.4375 55.78125 \r\nQ 40.875 61.375 34.8125 61.375 \r\nQ 28.765625 61.375 26.171875 55.78125 \r\nQ 23.578125 50.203125 23.578125 36.53125 \r\nQ 23.578125 22.703125 26.171875 17.03125 \r\nQ 28.765625 11.375 34.8125 11.375 \r\nQ 40.828125 11.375 43.40625 17.03125 \r\nQ 46 22.703125 46 36.53125 \r\nz\r\nM 64.796875 36.375 \r\nQ 64.796875 18.265625 56.984375 8.421875 \r\nQ 49.171875 -1.421875 34.8125 -1.421875 \r\nQ 20.40625 -1.421875 12.59375 8.421875 \r\nQ 4.78125 18.265625 4.78125 36.375 \r\nQ 4.78125 54.546875 12.59375 64.375 \r\nQ 20.40625 74.21875 34.8125 74.21875 \r\nQ 49.171875 74.21875 56.984375 64.375 \r\nQ 64.796875 54.546875 64.796875 36.375 \r\nz\r\n\" id=\"DejaVuSans-Bold-48\"/>\r\n      <path d=\"M 10.203125 18.890625 \r\nL 27.78125 18.890625 \r\nL 27.78125 0 \r\nL 10.203125 0 \r\nz\r\n\" id=\"DejaVuSans-Bold-46\"/>\r\n      <path d=\"M 6.6875 72.90625 \r\nL 61.625 72.90625 \r\nL 61.625 62.3125 \r\nL 33.203125 0 \r\nL 14.890625 0 \r\nL 41.796875 59.078125 \r\nL 6.6875 59.078125 \r\nz\r\n\" id=\"DejaVuSans-Bold-55\"/>\r\n      <path d=\"M 77.484375 30.078125 \r\nQ 74.03125 30.078125 72.125 27.078125 \r\nQ 70.21875 24.078125 70.21875 18.5 \r\nQ 70.21875 12.890625 72.09375 9.890625 \r\nQ 73.96875 6.890625 77.484375 6.890625 \r\nQ 81 6.890625 82.859375 9.890625 \r\nQ 84.71875 12.890625 84.71875 18.5 \r\nQ 84.71875 24.078125 82.828125 27.078125 \r\nQ 80.953125 30.078125 77.484375 30.078125 \r\nz\r\nM 77.484375 38.28125 \r\nQ 86.578125 38.28125 91.796875 33 \r\nQ 97.015625 27.734375 97.015625 18.5 \r\nQ 97.015625 9.28125 91.796875 3.921875 \r\nQ 86.578125 -1.421875 77.484375 -1.421875 \r\nQ 68.40625 -1.421875 63.15625 3.921875 \r\nQ 57.90625 9.28125 57.90625 18.5 \r\nQ 57.90625 27.6875 63.15625 32.984375 \r\nQ 68.40625 38.28125 77.484375 38.28125 \r\nz\r\nM 32.71875 -1.421875 \r\nL 21.921875 -1.421875 \r\nL 67.484375 74.21875 \r\nL 78.328125 74.21875 \r\nz\r\nM 22.703125 74.21875 \r\nQ 31.78125 74.21875 36.984375 68.921875 \r\nQ 42.1875 63.625 42.1875 54.390625 \r\nQ 42.1875 45.171875 36.984375 39.84375 \r\nQ 31.78125 34.515625 22.703125 34.515625 \r\nQ 13.625 34.515625 8.421875 39.84375 \r\nQ 3.21875 45.171875 3.21875 54.390625 \r\nQ 3.21875 63.625 8.421875 68.921875 \r\nQ 13.625 74.21875 22.703125 74.21875 \r\nz\r\nM 22.703125 66.015625 \r\nQ 19.1875 66.015625 17.28125 62.984375 \r\nQ 15.375 59.96875 15.375 54.390625 \r\nQ 15.375 48.78125 17.28125 45.71875 \r\nQ 19.1875 42.671875 22.703125 42.671875 \r\nQ 26.21875 42.671875 28.09375 45.71875 \r\nQ 29.984375 48.78125 29.984375 54.390625 \r\nQ 29.984375 59.96875 28.078125 62.984375 \r\nQ 26.171875 66.015625 22.703125 66.015625 \r\nz\r\n\" id=\"DejaVuSans-Bold-37\"/>\r\n      <path id=\"DejaVuSans-Bold-32\"/>\r\n      <path d=\"M 73.1875 47.515625 \r\nL 26.125 31.296875 \r\nL 73.1875 15.1875 \r\nL 73.1875 2.984375 \r\nL 10.59375 25.59375 \r\nL 10.59375 37.109375 \r\nL 73.1875 59.71875 \r\nz\r\n\" id=\"DejaVuSans-Bold-60\"/>\r\n      <path d=\"M 11.71875 12.984375 \r\nL 28.328125 12.984375 \r\nL 28.328125 60.109375 \r\nL 11.28125 56.59375 \r\nL 11.28125 69.390625 \r\nL 28.21875 72.90625 \r\nL 46.09375 72.90625 \r\nL 46.09375 12.984375 \r\nL 62.703125 12.984375 \r\nL 62.703125 0 \r\nL 11.71875 0 \r\nz\r\n\" id=\"DejaVuSans-Bold-49\"/>\r\n      <path d=\"M 10.59375 72.90625 \r\nL 57.328125 72.90625 \r\nL 57.328125 59.078125 \r\nL 25.59375 59.078125 \r\nL 25.59375 47.796875 \r\nQ 27.734375 48.390625 29.90625 48.703125 \r\nQ 32.078125 49.03125 34.421875 49.03125 \r\nQ 47.75 49.03125 55.171875 42.359375 \r\nQ 62.59375 35.6875 62.59375 23.78125 \r\nQ 62.59375 11.96875 54.515625 5.265625 \r\nQ 46.4375 -1.421875 32.078125 -1.421875 \r\nQ 25.875 -1.421875 19.796875 -0.21875 \r\nQ 13.71875 0.984375 7.71875 3.421875 \r\nL 7.71875 18.21875 \r\nQ 13.671875 14.796875 19.015625 13.078125 \r\nQ 24.359375 11.375 29.109375 11.375 \r\nQ 35.9375 11.375 39.859375 14.71875 \r\nQ 43.796875 18.0625 43.796875 23.78125 \r\nQ 43.796875 29.546875 39.859375 32.859375 \r\nQ 35.9375 36.1875 29.109375 36.1875 \r\nQ 25.046875 36.1875 20.453125 35.125 \r\nQ 15.875 34.078125 10.59375 31.890625 \r\nz\r\n\" id=\"DejaVuSans-Bold-53\"/>\r\n      <path d=\"M 10.015625 1.609375 \r\nL 10.015625 15.09375 \r\nQ 14.5 12.984375 18.59375 11.9375 \r\nQ 22.703125 10.890625 26.703125 10.890625 \r\nQ 35.109375 10.890625 39.796875 15.546875 \r\nQ 44.484375 20.21875 45.3125 29.390625 \r\nQ 42 26.953125 38.234375 25.734375 \r\nQ 34.46875 24.515625 30.078125 24.515625 \r\nQ 18.890625 24.515625 12.03125 31.03125 \r\nQ 5.171875 37.546875 5.171875 48.1875 \r\nQ 5.171875 59.96875 12.8125 67.046875 \r\nQ 20.453125 74.125 33.296875 74.125 \r\nQ 47.5625 74.125 55.375 64.5 \r\nQ 63.1875 54.890625 63.1875 37.3125 \r\nQ 63.1875 19.234375 54.046875 8.90625 \r\nQ 44.921875 -1.421875 29 -1.421875 \r\nQ 23.875 -1.421875 19.1875 -0.65625 \r\nQ 14.5 0.09375 10.015625 1.609375 \r\nz\r\nM 33.203125 36.71875 \r\nQ 38.140625 36.71875 40.625 39.90625 \r\nQ 43.109375 43.109375 43.109375 49.515625 \r\nQ 43.109375 55.859375 40.625 59.078125 \r\nQ 38.140625 62.3125 33.203125 62.3125 \r\nQ 28.265625 62.3125 25.78125 59.078125 \r\nQ 23.296875 55.859375 23.296875 49.515625 \r\nQ 23.296875 43.109375 25.78125 39.90625 \r\nQ 28.265625 36.71875 33.203125 36.71875 \r\nz\r\n\" id=\"DejaVuSans-Bold-57\"/>\r\n      <path d=\"M 46.578125 39.3125 \r\nQ 53.953125 37.40625 57.78125 32.6875 \r\nQ 61.625 27.984375 61.625 20.703125 \r\nQ 61.625 9.859375 53.3125 4.21875 \r\nQ 45.015625 -1.421875 29.109375 -1.421875 \r\nQ 23.484375 -1.421875 17.84375 -0.515625 \r\nQ 12.203125 0.390625 6.6875 2.203125 \r\nL 6.6875 16.703125 \r\nQ 11.96875 14.0625 17.15625 12.71875 \r\nQ 22.359375 11.375 27.390625 11.375 \r\nQ 34.859375 11.375 38.84375 13.953125 \r\nQ 42.828125 16.546875 42.828125 21.390625 \r\nQ 42.828125 26.375 38.75 28.9375 \r\nQ 34.671875 31.5 26.703125 31.5 \r\nL 19.1875 31.5 \r\nL 19.1875 43.609375 \r\nL 27.09375 43.609375 \r\nQ 34.1875 43.609375 37.640625 45.828125 \r\nQ 41.109375 48.046875 41.109375 52.59375 \r\nQ 41.109375 56.78125 37.734375 59.078125 \r\nQ 34.375 61.375 28.21875 61.375 \r\nQ 23.6875 61.375 19.046875 60.34375 \r\nQ 14.40625 59.328125 9.8125 57.328125 \r\nL 9.8125 71.09375 \r\nQ 15.375 72.65625 20.84375 73.4375 \r\nQ 26.3125 74.21875 31.59375 74.21875 \r\nQ 45.796875 74.21875 52.84375 69.546875 \r\nQ 59.90625 64.890625 59.90625 55.515625 \r\nQ 59.90625 49.125 56.53125 45.046875 \r\nQ 53.171875 40.96875 46.578125 39.3125 \r\nz\r\n\" id=\"DejaVuSans-Bold-51\"/>\r\n     </defs>\r\n     <use xlink:href=\"#DejaVuSans-Bold-50\"/>\r\n     <use x=\"69.580078\" xlink:href=\"#DejaVuSans-Bold-48\"/>\r\n     <use x=\"139.160156\" xlink:href=\"#DejaVuSans-Bold-46\"/>\r\n     <use x=\"177.148438\" xlink:href=\"#DejaVuSans-Bold-55\"/>\r\n     <use x=\"246.728516\" xlink:href=\"#DejaVuSans-Bold-37\"/>\r\n     <use x=\"346.923828\" xlink:href=\"#DejaVuSans-Bold-32\"/>\r\n     <use x=\"381.738281\" xlink:href=\"#DejaVuSans-Bold-60\"/>\r\n     <use x=\"465.527344\" xlink:href=\"#DejaVuSans-Bold-49\"/>\r\n     <use x=\"535.107422\" xlink:href=\"#DejaVuSans-Bold-55\"/>\r\n     <use x=\"604.6875\" xlink:href=\"#DejaVuSans-Bold-53\"/>\r\n     <use x=\"674.267578\" xlink:href=\"#DejaVuSans-Bold-60\"/>\r\n     <use x=\"758.056641\" xlink:href=\"#DejaVuSans-Bold-32\"/>\r\n     <use x=\"792.871094\" xlink:href=\"#DejaVuSans-Bold-55\"/>\r\n     <use x=\"862.451172\" xlink:href=\"#DejaVuSans-Bold-57\"/>\r\n     <use x=\"932.03125\" xlink:href=\"#DejaVuSans-Bold-46\"/>\r\n     <use x=\"970.019531\" xlink:href=\"#DejaVuSans-Bold-51\"/>\r\n     <use x=\"1039.599609\" xlink:href=\"#DejaVuSans-Bold-37\"/>\r\n    </g>\r\n   </g>\r\n   <g id=\"text_14\">\r\n    <!-- mu -->\r\n    <g transform=\"translate(207.33726 19.3575)scale(0.16 -0.16)\">\r\n     <defs>\r\n      <path d=\"M 8.5 21.578125 \r\nL 8.5 54.6875 \r\nL 17.484375 54.6875 \r\nL 17.484375 21.921875 \r\nQ 17.484375 14.15625 20.5 10.265625 \r\nQ 23.53125 6.390625 29.59375 6.390625 \r\nQ 36.859375 6.390625 41.078125 11.03125 \r\nQ 45.3125 15.671875 45.3125 23.6875 \r\nL 45.3125 54.6875 \r\nL 54.296875 54.6875 \r\nL 54.296875 0 \r\nL 45.3125 0 \r\nL 45.3125 8.40625 \r\nQ 42.046875 3.421875 37.71875 1 \r\nQ 33.40625 -1.421875 27.6875 -1.421875 \r\nQ 18.265625 -1.421875 13.375 4.4375 \r\nQ 8.5 10.296875 8.5 21.578125 \r\nz\r\nM 31.109375 56 \r\nz\r\n\" id=\"DejaVuSans-117\"/>\r\n     </defs>\r\n     <use xlink:href=\"#DejaVuSans-109\"/>\r\n     <use x=\"97.412109\" xlink:href=\"#DejaVuSans-117\"/>\r\n    </g>\r\n   </g>\r\n  </g>\r\n </g>\r\n <defs>\r\n  <clipPath id=\"pafa974a3be\">\r\n   <rect height=\"243.792645\" width=\"425.99952\" x=\"7.2\" y=\"25.3575\"/>\r\n  </clipPath>\r\n </defs>\r\n</svg>\r\n",
      "image/png": "[encoded data removed]"
     },
     "metadata": {
      "needs_background": "light"
     }
    }
   ],
   "source": [
    "import pymc3 as pm\n",
    "import matplotlib.pyplot as plt\n",
    "import arviz as az\n",
    "data = [182, 172, 173, 176, 176, 180, 173, 174, 179, 175]\n",
    "\n",
    "with pm.Model():\n",
    "    # Normal prior for mu\n",
    "    mu = pm.Normal('mu', mu=170, sd=5)\n",
    "    # Likelihood\n",
    "    y = pm.Normal('y',mu=mu, sigma=3, observed=data)\n",
    "    # Obtaining the traces\n",
    "    trace_weights = pm.sample(2500, progressbar=True)\n",
    "    # Plot the sampled posterior using 175 as the reference value\n",
    "    pp = az.plot_posterior(trace_weights, ref_val=175)\n",
    "    plt.show()"
   ]
  },
  {
   "cell_type": "markdown",
   "metadata": {},
   "source": [
    "The graph shows that, given the data, the probability of $H_0$, that is $P(\\mu\\leq 175|y)$, is just 19.2%, so we can conclude that it is unlikely that his weight is at most 175 pounds. \n",
    "\n",
    "If we were interested in calculating the Bayes factor, we could do it easily because we have the prior and posterior distributions for the parameter $\\mu$:\n",
    "\n",
    "$$BF = \\frac{{P\\left( {{H_0}\\left| y \\right.} \\right)}}{{P\\left( {{H_1}\\left| y \\right.} \\right)}}\\frac{{P\\left( {{H_1}} \\right)}}{{P\\left( {{H_0}} \\right)}} = \\frac{{P\\left( {\\mu  \\leqslant 175\\left| y \\right.} \\right)}}{{P\\left( {\\mu  > 175\\left| y \\right.} \\right)}}\\frac{{P\\left( {\\mu  > 175} \\right)}}{{P\\left( {\\mu  \\leqslant 175} \\right)}} = 0.045.$$"
   ]
  },
  {
   "cell_type": "code",
   "execution_count": 9,
   "metadata": {},
   "outputs": [
    {
     "output_type": "stream",
     "name": "stdout",
     "text": [
      "0.04480952491367768\n"
     ]
    },
    {
     "output_type": "execute_result",
     "data": {
      "text/plain": [
       "22.316683828414337"
      ]
     },
     "metadata": {},
     "execution_count": 9
    }
   ],
   "source": [
    "from scipy import stats\n",
    "# P(mu<175) is calculated as stats.norm(loc=170,scale=5).cdf(175)\n",
    "# P(mu>175)=1-P(mu<175)\n",
    "bayes_factor = (0.192/0.808)*(1-stats.norm(loc=170,scale=5).cdf(175))/stats.norm(loc=170,scale=5).cdf(175)\n",
    "print(bayes_factor)\n",
    "1/bayes_factor"
   ]
  },
  {
   "source": [
    "Because the Bayes factor is very close to 0, we should analyze the inverse, obtaining 22.317, which indicates strong evidence against $H_0$.\n",
    "\n",
    "**IMPORTANT NOTE:** It is very important to remember that these rules are just conventions, simple guides at best. Results should always be put into context of our problems and should be accompanied with enough details so others could evaluate by themselves if they agree with our conclusions. The evidence necessary to make a claim is not the same in particle physics, or a court, or to evacuate a town to prevent hundreds of deaths."
   ],
   "cell_type": "markdown",
   "metadata": {}
  },
  {
   "source": [
    "# Model comparison\n",
    "\n",
    "Models should be designed as approximations to help us understand a particular problem,\n",
    "or a class of related problems. Models are not designed to be verbatim copies of the real\n",
    "world. Thus, all models are wrong in the same sense that maps are not the territory. Even\n",
    "when a priori, we consider every model to be wrong, not every model is equally wrong;\n",
    "some models will be better than others at describing a given problem. We'll study how to compare \n",
    "two or more models that are used to explain the same data. As we will learn, this is not a simple \n",
    "problem to solve and at the same time is a central problem in data analysis.\n",
    "\n",
    "The Bayesian approach to comparing hypotheses can be generalized to compare two or more models. By\n",
    "Bayes theorem\n",
    "\n",
    "$$P\\left( {\\theta \\left| y \\right.} \\right) = \\frac{{P\\left( {y\\left| \\theta  \\right.} \\right)P\\left( \\theta  \\right)}}{{P\\left( y \\right)}},$$\n",
    "\n",
    "We can make the dependency of the inference on a given model $M$ explicit and write:\n",
    "\n",
    "$$P\\left( {\\theta \\left| {y,{M_k}} \\right.} \\right) = \\frac{{P\\left( {y\\left| {\\theta ,{M_k}} \\right.} \\right)P\\left( {\\theta \\left| {{M_k}} \\right.} \\right)}}{{P\\left( {y\\left| {{M_k}} \\right.} \\right)}}.$$\n",
    "\n",
    "\n",
    "The term in the denominator is known as marginal likelihood. When doing inference, we do not need to compute this\n",
    "normalizing constant, so in practice, we often compute the posterior up to a constant factor.\n",
    "However, for model comparison and model averaging, the marginal likelihood is an\n",
    "important quantity. If our main objective is to choose only one model, the best one, from a\n",
    "set of models, we can just choose the one with the largest $P(y|M_k)$.\n",
    "\n",
    "Suppose we wish to compare two Bayesian models, where it is possible that the definition of the parameter $\\theta$ may differ between\n",
    "models. Then the Bayes factor in support of model $M_0$ is the ratio of the\n",
    "respective marginal likelihoods of the data for the two models.\n",
    "\n",
    "$$BF = \\frac{{P\\left( {y\\left| {{M_0}} \\right.} \\right)}}{{P\\left( {y\\left| {{M_1}} \\right.} \\right)}}.$$\n",
    "\n",
    "When $BF>1$, model 0 explains data better than model 1.\n",
    "\n",
    "If we let $y$ denote the vector of data and $\\theta$ the parameter,\n",
    "then a Bayesian model consists of a specification of the likelihood $f(y|\\theta)$\n",
    "and the prior density $g(\\theta)$.\n",
    "\n",
    "## Some ramarks about the likelihood\n",
    "\n",
    "Now, we will briefly discuss some key facts about the marginal likelihood. By carefully\n",
    "inspecting the definition of marginal likelihood, we can understand their properties and\n",
    "consequences for their practical use:\n",
    "\n",
    "$$p\\left( {y\\left| {{M_k}} \\right.} \\right) = \\int\\limits_{{\\theta _k}} {p\\left( {y\\left| {{\\theta _k},{M_k}} \\right.} \\right)p\\left( {{\\theta _k},{M_k}} \\right)d{\\theta _k}}.$$\n",
    "\n",
    "* **The good:** Models with more parameters have a larger penalization than models\n",
    "with fewer parameters. Bayes factor has a built-in Occam's Razor! The intuitive\n",
    "reason for this is that the larger the number of parameters, the more spread the\n",
    "prior with respect to the likelihood. Thus, when computing the integral in the\n",
    "preceding formula, you will get a smaller value with a more concentrated prior.\n",
    "\n",
    "* **The bad:** Computing the marginal likelihood is, generally, a hard task since the\n",
    "preceding formula is an integral of a highly variable function over a high\n",
    "dimensional parameter space. In general, this integral needs to be solved\n",
    "numerically using more or less sophisticated methods.\n",
    "\n",
    "* **The ugly:** The marginal likelihood depends sensitively on the values of the priors.\n",
    "\n",
    "\n",
    "Using the marginal likelihood to compare models is a good idea because a penalization for\n",
    "complex models is already included (thus preventing us from overfitting). At the same\n",
    "time, a change in the prior will affect the computations of the marginal likelihood. At first,\n",
    "this sounds a little bit silly—we already know that priors affect computations (otherwise,\n",
    "we could simply avoid them), but the point here is the word sensitively. We are talking\n",
    "about changes in the prior that will keep the inference of $\\theta$ more or less the same, but could\n",
    "have a big impact on the value of the marginal likelihood. \n",
    "\n",
    "## An example\n",
    "\n",
    "Let's Suppose we are analyzing a coin and we have could use two different priors, one is Beta(4,8)\n",
    "and the other is Beta(8,4). We would like to know which model explains the data better. Let $M_1$ be\n",
    "the mdoel with the prior Beta(8,4) and $M_2$ the other."
   ],
   "cell_type": "markdown",
   "metadata": {}
  },
  {
   "cell_type": "code",
   "execution_count": 26,
   "metadata": {},
   "outputs": [
    {
     "output_type": "stream",
     "name": "stderr",
     "text": [
      "Initializing SMC sampler...\n",
      "Multiprocess sampling (4 chains in 4 jobs)\n",
      "Stage:   0 Beta: 1.000\n",
      "Stage:   0 Beta: 1.000\n",
      "Stage:   0 Beta: 1.000\n",
      "Stage:   0 Beta: 1.000\n",
      "Initializing SMC sampler...\n",
      "Multiprocess sampling (4 chains in 4 jobs)\n",
      "Stage:   0 Beta: 0.207\n",
      "Stage:   1 Beta: 0.675\n",
      "Stage:   2 Beta: 1.000\n",
      "Stage:   0 Beta: 0.209\n",
      "Stage:   1 Beta: 0.687\n",
      "Stage:   2 Beta: 1.000\n",
      "Stage:   0 Beta: 0.205\n",
      "Stage:   1 Beta: 0.677\n",
      "Stage:   2 Beta: 1.000\n",
      "Stage:   0 Beta: 0.213\n",
      "Stage:   1 Beta: 0.685\n",
      "Stage:   2 Beta: 1.000\n",
      "11.546139664149385\n"
     ]
    }
   ],
   "source": [
    "data = [0, 0, 1, 1, 0, 0, 0, 1, 0, 0, 0, 1, 1, 1, 0, 0, 0, 0, 1, 0, 0, 0, 0, 0, 0, 0, 1, 0, 0, 1]\n",
    "\n",
    "with pm.Model() as model_1:\n",
    "    theta = pm.Beta('theta', 4, 8)\n",
    "    y = pm.Bernoulli('p',p=theta,observed=data)\n",
    "    traces_model_1 = pm.sample_smc(2500)\n",
    "\n",
    "with pm.Model() as model_2:\n",
    "    theta = pm.Beta('theta', 8, 4)\n",
    "    y = pm.Bernoulli('p',p=theta,observed=data)\n",
    "    traces_model_2 = pm.sample_smc(2500)\n",
    "\n",
    "# Obtaining the marginal likelihoods for both models\n",
    "likelihoods_under_model_1  = np.average(np.exp(traces_model_1.report.log_marginal_likelihood))\n",
    "likelihoods_under_model_2  = np.average(np.exp(traces_model_2.report.log_marginal_likelihood))\n",
    "\n",
    "# Now we can calculate the Bayes factor\n",
    "bayes_factor = likelihoods_under_model_1/likelihoods_under_model_2\n"
   ]
  },
  {
   "cell_type": "code",
   "execution_count": 28,
   "metadata": {},
   "outputs": [
    {
     "output_type": "stream",
     "name": "stdout",
     "text": [
      "The Bayes factor is 11.55\n"
     ]
    }
   ],
   "source": [
    "print('The Bayes factor is {:.2f}'.format(bayes_factor))"
   ]
  },
  {
   "source": [
    "This Bayes factor strongly indicates that the model with the prior Beta(4,8) explains better the data than the model with prior Beta(8,4)."
   ],
   "cell_type": "markdown",
   "metadata": {}
  },
  {
   "cell_type": "code",
   "execution_count": null,
   "metadata": {},
   "outputs": [],
   "source": []
  }
 ],
 "metadata": {
  "kernelspec": {
   "display_name": "Python 3",
   "language": "python",
   "name": "python3"
  },
  "language_info": {
   "codemirror_mode": {
    "name": "ipython",
    "version": 3
   },
   "file_extension": ".py",
   "mimetype": "text/x-python",
   "name": "python",
   "nbconvert_exporter": "python",
   "pygments_lexer": "ipython3",
   "version": "3.7.9-final"
  },
  "pycharm": {
   "stem_cell": {
    "cell_type": "raw",
    "metadata": {
     "collapsed": false
    },
    "source": []
   }
  }
 },
 "nbformat": 4,
 "nbformat_minor": 1
}