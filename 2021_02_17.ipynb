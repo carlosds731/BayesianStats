{
 "cells": [
  {
   "cell_type": "markdown",
   "metadata": {
    "pycharm": {
     "name": "#%% md\n"
    }
   },
   "source": [
    "# Hypothesis testing (continued)\n",
    "\n",
    "Let's calculate the probabilities of the example"
   ]
  },
  {
   "cell_type": "code",
   "execution_count": 1,
   "metadata": {
    "pycharm": {
     "is_executing": false
    }
   },
   "outputs": [
    {
     "name": "stdout",
     "text": [
      "[0.33205759 0.36551343 0.30242898]\n[0.1171875  0.21499085 0.26682793]\n"
     ],
     "output_type": "stream"
    }
   ],
   "source": [
    "from scipy import stats\n",
    "\n",
    "# Different values of p\n",
    "p = [0.5, 0.6, 0.7]\n",
    "\n",
    "# A priori probabilities for each p\n",
    "probabilities_a_priori = [0.5, 0.3, 0.2]\n",
    "\n",
    "# Calculate the likelihoods\n",
    "binom_distribution = stats.binom(n=10, p=p)\n",
    "likelihoods = binom_distribution.pmf(7)\n",
    "\n",
    "# Calculate the probability of the intersections\n",
    "probability_intersection = probabilities_a_priori*likelihoods\n",
    "\n",
    "# Total probability of the data\n",
    "total_probability_of_data = sum(probability_intersection)\n",
    "\n",
    "# Calculate the posterior probabilities of each hypothesis\n",
    "posterior_probabilities = probability_intersection/total_probability_of_data\n",
    "\n",
    "print(posterior_probabilities)\n",
    "print(likelihoods)"
   ]
  },
  {
   "cell_type": "code",
   "execution_count": 2,
   "metadata": {
    "pycharm": {
     "is_executing": false
    }
   },
   "outputs": [
    {
     "name": "stdout",
     "text": [
      "The posterior probability of H0 is 0.33\nThe posterior probability of H1 is 0.67\n"
     ],
     "output_type": "stream"
    }
   ],
   "source": [
    "posterior_probability_H_0=posterior_probabilities[0]\n",
    "posterior_probability_H_1=posterior_probabilities[1]+posterior_probabilities[2]\n",
    "print('The posterior probability of H0 is {:.2f}'.format(posterior_probability_H_0))\n",
    "print('The posterior probability of H1 is {:.2f}'.format(posterior_probability_H_1))"
   ]
  },
  {
   "cell_type": "markdown",
   "metadata": {
    "pycharm": {
     "is_executing": true
    }
   },
   "source": [
    "This means that, \n",
    "\n",
    "$$P\\left( {{H_0}\\left| y \\right.} \\right) = 0.33$$\n",
    "$$P\\left( {{H_1}\\left| y \\right.} \\right) = 0.37 + 0.30 = 0.67.$$\n",
    "\n",
    "This shows that, given the data, $H_1$ is twice more likelly than $H_0$.\n",
    "\n",
    "In general, calculating the posterior probabilities of each hypothesis is not easy, that's why is easier to analyze the Bayes factor (although in this problem is not necessary because we already have the posterior probability for each hypothesis).\n",
    "\n",
    "As an example, let's calculate the Bayes factor for this problem.\n",
    "\n",
    "$$BF = \\frac{{P\\left( {y\\left| {{H_0}} \\right.} \\right)}}{{P\\left( {y\\left| {{H_1}} \\right.} \\right)}}.$$\n",
    "\n",
    "The value of ${P\\left( {y\\left| {{H_0}} \\right.} \\right)}$ we already have it, is just the probability of getting 7 heads in 10 tossings with a fair coin, \n",
    "\n",
    "$$P\\left( {y\\left| {{H_0}} \\right.} \\right) = \\left( \\begin{gathered}\n",
    "  10 \\hfill \\\\\n",
    "  7 \\hfill \\\\ \n",
    "\\end{gathered}  \\right){0.5^7}{0.5^3} = 0.1172.$$\n",
    "\n",
    "To calculate $P\\left( {y\\left| {{H_1}} \\right.} \\right)$ we need to be more careful. Under $H_1$, $p$ can take two values: $0.6$ and $0.7$, therefore \n",
    "\n",
    "$$\\begin{align*}P\\left( {y\\left| {{H_1}} \\right.} \\right) &= P\\left( {y\\left| {\\left\\{ {p = 0.6} \\right\\} \\cap {H_1}} \\right.} \\right)P\\left( {p = 0.6\\left| {{H_1}} \\right.} \\right) + P\\left( {y\\left| {\\left\\{ {p = 0.7} \\right\\} \\cap {H_1}} \\right.} \\right)P\\left( {p = 0.7\\left| {{H_1}} \\right.} \\right)\\\\\n",
    "&= P\\left( {y\\left| {p = 0.6} \\right.} \\right)P\\left( {p = 0.6\\left| {{H_1}} \\right.} \\right) + P\\left( {y\\left| {p = 0.7} \\right.} \\right)P\\left( {p = 0.7\\left| {{H_1}} \\right.} \\right)\\end{align*}.$$\n",
    "\n",
    "Let's calculate $P\\left( {p = 0.6\\left| {{H_1}} \\right.} \\right)$:\n",
    "\n",
    "$$\\begin{align*}\n",
    "  P\\left( {p = 0.6|{H_1}} \\right) &= P\\left( {p = 0.6|\\left\\{ {p = 0.6} \\right\\} \\cup \\left\\{ {p = 0.7} \\right\\}} \\right) = \\frac{{P\\left( {\\left\\{ {p = 0.6} \\right\\} \\cap \\left( {\\left\\{ {p = 0.6} \\right\\} \\cup \\left\\{ {p = 0.7} \\right\\}} \\right)} \\right)}}{{P\\left( {\\left\\{ {p = 0.6} \\right\\} \\cup \\left\\{ {p = 0.7} \\right\\}} \\right)}} \\\\ \n",
    "   &= \\frac{{P\\left( {p = 0.6} \\right)}}{{P\\left( {p = 0.6} \\right) + P\\left( {p = 0.7} \\right)}} = \\frac{{0.3}}{{0.5}} \\\\\n",
    "   &= 0.6,\n",
    "\\end{align*}$$\n",
    "\n",
    "which this implies that $P\\left( {p = 0.7|{H_1}} \\right)=0.4.$\n",
    "\n",
    "Then, \n",
    "\n",
    "$$P\\left( {y\\left| {{H_1}} \\right.} \\right) = 0.215\\times 0.6 + 0.27\\times 0.4 = 0.237.$$\n",
    "\n",
    "Now, we can plug this on the expression for the Bayes factor to obtain that\n",
    "\n",
    "$$BF = \\frac{{0.1172}}{{0.234}} = 0.49.$$\n",
    "\n",
    "Because is smaller than 1, is better to analyze the inverse $\\frac{1}{{BF}} = 2.04$, which shows that there is some evidence in favor of $H_1$.\n",
    "\n",
    "**NOTE:** When you have the posterior probabilities, the bayes factor can be calculated as \n",
    "\n",
    "$$BF = \\left( {\\frac{{P\\left( {{H_0}\\left| y \\right.} \\right)}}{{P\\left( {{H_1}\\left| y \\right.} \\right)}}} \\right)\\underbrace {\\left( {\\frac{{P\\left( {{H_1}} \\right)}}{{P\\left( {{H_0}} \\right)}}} \\right)}_1 = \\frac{{P\\left( {{H_0}\\left| y \\right.} \\right)}}{{P\\left( {{H_1}\\left| y \\right.} \\right)}} = \\frac{{0.33}}{{0.67}} = 0.49.$$\n",
    "\n",
    "Here we have used that the prior probability for both hypothesis is 0.5 (this is case in most of the problems).\n",
    "\n",
    "$$P\\left( {{H_1}} \\right) = P\\left( {\\left\\{ {p = 0.6} \\right\\} \\cup \\left\\{ {p = 0.7} \\right\\}} \\right) = \\underbrace {P\\left( {\\left\\{ {p = 0.6} \\right\\}} \\right)}_{0.3} + \\underbrace {P\\left( {\\left\\{ {p = 0.7} \\right\\}} \\right)}_{0.2} = 0.5.$$\n",
    "\n",
    "\n",
    "## Case when $H_1$ is not discrete\n",
    "\n",
    "Now, let's suppouse we want to compare $H_0: p=0.5$ against $H_1: p\\neq 0.5$. Under $H_1$ we need to choose a prior distribution for $p$, let $f(p)$ be the density of that prior. In order to calculate the Bayes factor, we just need to calculate the likelihood under $H_1$, that is $P\\left( {y\\left| {{H_1}} \\right.} \\right)$ (remeber that the likelihood under $H_0$ we already have it).\n",
    "\n",
    "The expression for $P\\left( {y\\left| {{H_1}} \\right.} \\right)$ becomes\n",
    "\n",
    "$$P\\left( {y\\left| {{H_1}} \\right.} \\right) = \\int\\limits_{ - \\infty }^{ + \\infty } {\\left( \\begin{gathered}\n",
    "  10 \\hfill \\\\\n",
    "  7 \\hfill \\\\ \n",
    "\\end{gathered}  \\right){p^7}{{\\left( {1 - p} \\right)}^3}f\\left( p \\right)dp}.$$\n",
    "\n",
    "These integrals are really complicated to calculate and most of the time we need to do numerical approximations. To calculate these integrals with PyMC3 we need to use the Sequential Monte Carlo sampler. This is a method that basically progresses by a series of successive annealed sequences from the prior to the posterior. A nice by-product of this process is that we get an estimation of the marginal likelihood. Actually for numerical reasons the returned value is the log marginal likelihood (this helps to avoid underflow).\n"
   ]
  },
  {
   "cell_type": "code",
   "execution_count": 3,
   "metadata": {
    "pycharm": {
     "is_executing": false
    }
   },
   "outputs": [
    {
     "name": "stderr",
     "text": [
      "Initializing SMC sampler...\n",
      "Multiprocess sampling (4 chains in 4 jobs)\n",
      "Stage:   0 Beta: 1.000\n",
      "Stage:   0 Beta: 1.000\n",
      "Stage:   0 Beta: 1.000\n",
      "Stage:   0 Beta: 1.000\n"
     ],
     "output_type": "stream"
    },
    {
     "name": "stdout",
     "text": [
      "0.12597689228580722\n"
     ],
     "output_type": "stream"
    }
   ],
   "source": [
    "import pymc3 as pm\n",
    "import theano\n",
    "import numpy as np\n",
    "import arviz as az\n",
    "import matplotlib.pyplot as plt\n",
    "\n",
    "with pm.Model() as model_under_h1:\n",
    "    p = pm.Beta('p', 10, 10)\n",
    "    y = pm.Binomial('y', n=10, p=p, observed=7)\n",
    "    trace_BF_1 = pm.sample_smc(2500)\n",
    "\n",
    "# Obtaining the marginal likelihood\n",
    "likelihoods_under_h1  = np.exp(trace_BF_1.report.log_marginal_likelihood)\n",
    "# We need to take the average because the Monte-Carlo sampler\n",
    "# returns one marginal likelihood approxiamtion for each chain\n",
    "print(np.average(likelihoods_under_h1))\n",
    "\n",
    "# Storing the estimation of the likelihood under H1\n",
    "likelihood_under_h1=np.average(likelihoods_under_h1)"
   ]
  },
  {
   "cell_type": "code",
   "execution_count": 4,
   "metadata": {
    "pycharm": {
     "is_executing": false
    }
   },
   "outputs": [
    {
     "name": "stdout",
     "text": [
      "The Bayes factor for the model is 0.9302301229509111\n"
     ],
     "output_type": "stream"
    },
    {
     "data": {
      "text/plain": "0.4819270572406088"
     },
     "metadata": {},
     "output_type": "execute_result",
     "execution_count": 4
    }
   ],
   "source": [
    "# Under H0, the likelihood is just the probability of \n",
    "# getting 7 heads if the coin is fair\n",
    "likelihood_under_h0 = stats.binom(n=10, p=0.5).pmf(7)\n",
    "\n",
    "# Now we can calculate the Bayes factor\n",
    "bayes_factor = likelihood_under_h0/likelihood_under_h1\n",
    "print(\"The Bayes factor for the model is {0}\".format(bayes_factor))\n",
    "bayes_factor/(bayes_factor+1)"
   ]
  },
  {
   "cell_type": "markdown",
   "metadata": {},
   "source": [
    "## Obtaining posterior probabilities from Bayes factor\n",
    "\n",
    "Let \\(BF\\) be the Bayes factor. Take ${\\pi _0} = P\\left( {{H_0}} \\right)$, ${\\pi _1} = P\\left( {{H_1}} \\right)$, ${p_0} = P\\left( {{H_0}\\left| y \\right.} \\right)$ and ${p_1} = P\\left( {{H_1}\\left| y \\right.} \\right)$, then\n",
    "\n",
    "$${p_0} = \\frac{{{\\pi _0}BF}}{{{\\pi _0}BF + 1 - {\\pi _0}}}.$$\n",
    "\n",
    "This expression allows us to calculate posterior probabilities using the prior probabilities and the Bayes factor.\n",
    "\n",
    "Using this expression on the previous example, we obtain that \n",
    "\n",
    "$$P\\left( {{H_0}\\left| y \\right.} \\right) = 0.48\\quad ,\\quad P\\left( {{H_1}\\left| y \\right.} \\right) = 0.52.$$\n",
    "\n",
    "These posterior probabilities of $H_0$ are highly influenced by selection of the prior under $H_1$. The following code calculates the posterior probabilities of $H_0$ for priors of the form $Beta(\\alpha,2\\alpha)$ for different values of $\\alpha$."
   ]
  },
  {
   "cell_type": "code",
   "execution_count": 5,
   "metadata": {
    "pycharm": {
     "is_executing": false
    }
   },
   "outputs": [
    {
     "name": "stderr",
     "text": [
      "Initializing SMC sampler...\n",
      "Multiprocess sampling (4 chains in 4 jobs)\n",
      "Stage:   0 Beta: 0.433\n",
      "Stage:   1 Beta: 1.000\n",
      "Stage:   0 Beta: 0.416\n",
      "Stage:   1 Beta: 1.000\n",
      "Stage:   0 Beta: 0.443\n",
      "Stage:   1 Beta: 1.000\n",
      "Stage:   0 Beta: 0.437\n",
      "Stage:   1 Beta: 1.000\n",
      "Initializing SMC sampler...\n",
      "Multiprocess sampling (4 chains in 4 jobs)\n",
      "Stage:   0 Beta: 0.529\n",
      "Stage:   1 Beta: 1.000\n",
      "Stage:   0 Beta: 0.526\n",
      "Stage:   1 Beta: 1.000\n",
      "Stage:   0 Beta: 0.529\n",
      "Stage:   1 Beta: 1.000\n",
      "Stage:   0 Beta: 0.526\n",
      "Stage:   1 Beta: 1.000\n",
      "Initializing SMC sampler...\n",
      "Multiprocess sampling (4 chains in 4 jobs)\n",
      "Stage:   0 Beta: 0.560\n",
      "Stage:   1 Beta: 1.000\n",
      "Stage:   0 Beta: 0.558\n",
      "Stage:   1 Beta: 1.000\n",
      "Stage:   0 Beta: 0.575\n",
      "Stage:   1 Beta: 1.000\n",
      "Stage:   0 Beta: 0.582\n",
      "Stage:   1 Beta: 1.000\n",
      "Initializing SMC sampler...\n",
      "Multiprocess sampling (4 chains in 4 jobs)\n",
      "Stage:   0 Beta: 0.606\n",
      "Stage:   1 Beta: 1.000\n",
      "Stage:   0 Beta: 0.606\n",
      "Stage:   1 Beta: 1.000\n",
      "Stage:   0 Beta: 0.639\n",
      "Stage:   1 Beta: 1.000\n",
      "Stage:   0 Beta: 0.599\n",
      "Stage:   1 Beta: 1.000\n",
      "Initializing SMC sampler...\n",
      "Multiprocess sampling (4 chains in 4 jobs)\n",
      "Stage:   0 Beta: 0.663\n",
      "Stage:   1 Beta: 1.000\n",
      "Stage:   0 Beta: 0.659\n",
      "Stage:   1 Beta: 1.000\n",
      "Stage:   0 Beta: 0.644\n",
      "Stage:   1 Beta: 1.000\n",
      "Stage:   0 Beta: 0.662\n",
      "Stage:   1 Beta: 1.000\n",
      "Initializing SMC sampler...\n",
      "Multiprocess sampling (4 chains in 4 jobs)\n",
      "Stage:   0 Beta: 0.685\n",
      "Stage:   1 Beta: 1.000\n",
      "Stage:   0 Beta: 0.696\n",
      "Stage:   1 Beta: 1.000\n",
      "Stage:   0 Beta: 0.704\n",
      "Stage:   1 Beta: 1.000\n",
      "Stage:   0 Beta: 0.702\n",
      "Stage:   1 Beta: 1.000\n",
      "Initializing SMC sampler...\n",
      "Multiprocess sampling (4 chains in 4 jobs)\n",
      "Stage:   0 Beta: 0.735\n",
      "Stage:   1 Beta: 1.000\n",
      "Stage:   0 Beta: 0.731\n",
      "Stage:   1 Beta: 1.000\n",
      "Stage:   0 Beta: 0.744\n",
      "Stage:   1 Beta: 1.000\n",
      "Stage:   0 Beta: 0.722\n",
      "Stage:   1 Beta: 1.000\n",
      "Initializing SMC sampler...\n",
      "Multiprocess sampling (4 chains in 4 jobs)\n",
      "Stage:   0 Beta: 0.774\n",
      "Stage:   1 Beta: 1.000\n",
      "Stage:   0 Beta: 0.741\n",
      "Stage:   1 Beta: 1.000\n",
      "Stage:   0 Beta: 0.754\n",
      "Stage:   1 Beta: 1.000\n",
      "Stage:   0 Beta: 0.776\n",
      "Stage:   1 Beta: 1.000\n",
      "Initializing SMC sampler...\n",
      "Multiprocess sampling (4 chains in 4 jobs)\n",
      "Stage:   0 Beta: 0.773\n",
      "Stage:   1 Beta: 1.000\n",
      "Stage:   0 Beta: 0.794\n",
      "Stage:   1 Beta: 1.000\n",
      "Stage:   0 Beta: 0.783\n",
      "Stage:   1 Beta: 1.000\n",
      "Stage:   0 Beta: 0.799\n",
      "Stage:   1 Beta: 1.000\n",
      "Initializing SMC sampler...\n",
      "Multiprocess sampling (4 chains in 4 jobs)\n",
      "Stage:   0 Beta: 0.828\n",
      "Stage:   1 Beta: 1.000\n",
      "Stage:   0 Beta: 0.802\n",
      "Stage:   1 Beta: 1.000\n",
      "Stage:   0 Beta: 0.836\n",
      "Stage:   1 Beta: 1.000\n",
      "Stage:   0 Beta: 0.791\n",
      "Stage:   1 Beta: 1.000\n"
     ],
     "output_type": "stream"
    }
   ],
   "source": [
    "bayes_factors = list()\n",
    "probabilities_of_h0 = list()\n",
    "for a in range(1,11):\n",
    "    with pm.Model():\n",
    "        p = pm.Beta('p', a, 2*a)\n",
    "        y = pm.Binomial('y', n=10, p=p, observed=7)\n",
    "        trace_BF_H1 = pm.sample_smc(2500)\n",
    "        # Obtaining the marginal likelihood\n",
    "        likelihoods_under_h1  = np.exp(trace_BF_H1.report.log_marginal_likelihood)\n",
    "        likelihood_under_h1 = np.average(likelihoods_under_h1)\n",
    "        # Calculating the Bayes factor for the specific prior\n",
    "        bayes_factor = likelihood_under_h0/likelihood_under_h1\n",
    "        bayes_factors.append(bayes_factor)\n",
    "        probabilities_of_h0.append(bayes_factor/(bayes_factor+1))"
   ]
  },
  {
   "cell_type": "markdown",
   "metadata": {},
   "source": [
    "In the following graph, we can see the results: if the prior contains a strong belief that the coin is biased toward tail (the bigger the alpha the more biased we think the coin is), then, because the data suggest otherwise, the probability that the coin is fair increases."
   ]
  },
  {
   "cell_type": "code",
   "execution_count": 6,
   "metadata": {
    "pycharm": {
     "is_executing": false
    }
   },
   "outputs": [
    {
     "data": {
      "text/plain": "<Figure size 432x288 with 1 Axes>",
      "image/png": "[encoded data removed]"
     },
     "metadata": {
      "needs_background": "light"
     },
     "output_type": "display_data"
    }
   ],
   "source": [
    "import matplotlib.pyplot as plt\n",
    "plt.plot([x for x in range(1,11)],probabilities_of_h0)\n",
    "plt.show()"
   ]
  },
  {
   "cell_type": "markdown",
   "metadata": {},
   "source": [
    "Now let's use priors that suggest the coin is biased towards heads."
   ]
  },
  {
   "cell_type": "code",
   "execution_count": 7,
   "metadata": {
    "pycharm": {
     "is_executing": false
    }
   },
   "outputs": [
    {
     "name": "stderr",
     "text": [
      "Initializing SMC sampler...\n",
      "Multiprocess sampling (4 chains in 4 jobs)\n",
      "Stage:   0 Beta: 1.000\n",
      "Stage:   0 Beta: 1.000\n",
      "Stage:   0 Beta: 1.000\n",
      "Stage:   0 Beta: 1.000\n",
      "Initializing SMC sampler...\n",
      "Multiprocess sampling (4 chains in 4 jobs)\n",
      "Stage:   0 Beta: 1.000\n",
      "Stage:   0 Beta: 1.000\n",
      "Stage:   0 Beta: 1.000\n",
      "Stage:   0 Beta: 1.000\n",
      "Initializing SMC sampler...\n",
      "Multiprocess sampling (4 chains in 4 jobs)\n",
      "Stage:   0 Beta: 1.000\n",
      "Stage:   0 Beta: 1.000\n",
      "Stage:   0 Beta: 1.000\n",
      "Stage:   0 Beta: 1.000\n",
      "Initializing SMC sampler...\n",
      "Multiprocess sampling (4 chains in 4 jobs)\n",
      "Stage:   0 Beta: 1.000\n",
      "Stage:   0 Beta: 1.000\n",
      "Stage:   0 Beta: 1.000\n",
      "Stage:   0 Beta: 1.000\n",
      "Initializing SMC sampler...\n",
      "Multiprocess sampling (4 chains in 4 jobs)\n",
      "Stage:   0 Beta: 1.000\n",
      "Stage:   0 Beta: 1.000\n",
      "Stage:   0 Beta: 1.000\n",
      "Stage:   0 Beta: 1.000\n",
      "Initializing SMC sampler...\n",
      "Multiprocess sampling (4 chains in 4 jobs)\n",
      "Stage:   0 Beta: 1.000\n",
      "Stage:   0 Beta: 1.000\n",
      "Stage:   0 Beta: 1.000\n",
      "Stage:   0 Beta: 1.000\n",
      "Initializing SMC sampler...\n",
      "Multiprocess sampling (4 chains in 4 jobs)\n",
      "Stage:   0 Beta: 1.000\n",
      "Stage:   0 Beta: 1.000\n",
      "Stage:   0 Beta: 1.000\n",
      "Stage:   0 Beta: 1.000\n",
      "Initializing SMC sampler...\n",
      "Multiprocess sampling (4 chains in 4 jobs)\n",
      "Stage:   0 Beta: 1.000\n",
      "Stage:   0 Beta: 1.000\n",
      "Stage:   0 Beta: 1.000\n",
      "Stage:   0 Beta: 1.000\n",
      "Initializing SMC sampler...\n",
      "Multiprocess sampling (4 chains in 4 jobs)\n",
      "Stage:   0 Beta: 1.000\n",
      "Stage:   0 Beta: 1.000\n",
      "Stage:   0 Beta: 1.000\n",
      "Stage:   0 Beta: 1.000\n",
      "Initializing SMC sampler...\n",
      "Multiprocess sampling (4 chains in 4 jobs)\n",
      "Stage:   0 Beta: 1.000\n",
      "Stage:   0 Beta: 1.000\n",
      "Stage:   0 Beta: 1.000\n",
      "Stage:   0 Beta: 1.000\n"
     ],
     "output_type": "stream"
    },
    {
     "data": {
      "text/plain": "<Figure size 432x288 with 1 Axes>",
      "image/png": "[encoded data removed]"
     },
     "metadata": {
      "needs_background": "light"
     },
     "output_type": "display_data"
    }
   ],
   "source": [
    "bayes_factors = list()\n",
    "probabilities_of_h0 = list()\n",
    "for a in range(1,11):\n",
    "    with pm.Model():\n",
    "        p = pm.Beta('p', 2*a, a)\n",
    "        y = pm.Binomial('y', n=10, p=p, observed=7)\n",
    "        trace_BF_H1 = pm.sample_smc(2500)\n",
    "        # Obtaining the marginal likelihood\n",
    "        likelihoods_under_h1  = np.exp(trace_BF_H1.report.log_marginal_likelihood)\n",
    "        likelihood_under_h1 = np.average(likelihoods_under_h1)\n",
    "        # Calculating the Bayes factor for the specific prior\n",
    "        bayes_factor = likelihood_under_h0/likelihood_under_h1\n",
    "        bayes_factors.append(bayes_factor)\n",
    "        probabilities_of_h0.append(bayes_factor/(bayes_factor+1))\n",
    "plt.plot([x for x in range(1,11)],probabilities_of_h0)\n",
    "plt.show()"
   ]
  },
  {
   "cell_type": "markdown",
   "metadata": {},
   "source": [
    "As we can see, in this scenario, the posterior probability of $H_0$ decreases when the prior is more informative.\n",
    "\n",
    "Now let's suppouse we have more data, let's say we have $n=30$ and $21$ heads."
   ]
  },
  {
   "cell_type": "code",
   "execution_count": 8,
   "metadata": {
    "pycharm": {
     "is_executing": false
    }
   },
   "outputs": [
    {
     "name": "stderr",
     "text": [
      "Initializing SMC sampler...\n",
      "Multiprocess sampling (4 chains in 4 jobs)\n",
      "Stage:   0 Beta: 0.674\n",
      "Stage:   1 Beta: 1.000\n",
      "Stage:   0 Beta: 0.680\n",
      "Stage:   1 Beta: 1.000\n",
      "Stage:   0 Beta: 0.684\n",
      "Stage:   1 Beta: 1.000\n",
      "Stage:   0 Beta: 0.650\n",
      "Stage:   1 Beta: 1.000\n"
     ],
     "output_type": "stream"
    },
    {
     "name": "stdout",
     "text": [
      "The Bayes factor for the model is 0.358, its inverse is 2.791\nThe probability of H_0 given the data is 0.264\n"
     ],
     "output_type": "stream"
    }
   ],
   "source": [
    "with pm.Model():\n",
    "    p = pm.Beta('p', 10, 10)\n",
    "    y = pm.Binomial('y', n=30, p=p, observed=21)\n",
    "    trace_BF_1 = pm.sample_smc(2500)\n",
    "\n",
    "    # Obtaining the marginal likelihood\n",
    "    likelihoods_under_h1  = np.exp(trace_BF_1.report.log_marginal_likelihood)\n",
    "    # We need to take the average because the Monte-Carlo sampler\n",
    "    # returns one marginal likelihood approxiamtion for each chain\n",
    "    # Storing the estimation of the likelihood under H1\n",
    "    likelihood_under_h1=np.average(likelihoods_under_h1)\n",
    "    \n",
    "    # Under H0, the likelihood is just the probability of \n",
    "    # getting 7 heads if the coin is fair\n",
    "    likelihood_under_h0 = stats.binom(n=30, p=0.5).pmf(21)\n",
    "\n",
    "    # Now we can calculate the Bayes factor\n",
    "    bayes_factor = likelihood_under_h0/likelihood_under_h1\n",
    "    print(\"The Bayes factor for the model is {:.3f}, its inverse is {:.3f}\".format(bayes_factor, 1/bayes_factor))\n",
    "    print(\"The probability of H_0 given the data is {:.3f}\".format(bayes_factor/(bayes_factor+1)))"
   ]
  },
  {
   "cell_type": "markdown",
   "metadata": {},
   "source": [
    "As expected, when we have more data, the effect of the prior decreases."
   ]
  },
  {
   "cell_type": "markdown",
   "metadata": {},
   "source": [
    "## Body weight example\n",
    "\n",
    "In an example from Chapter 14 of Berry (1996), the author was interested in\n",
    "determining his true weight from a variable bathroom scale. We assume the\n",
    "measurements are normally distributed with mean $\\mu$ and standard deviation\n",
    "$\\sigma$. The author weighed himself ten times and obtained the measurements (in\n",
    "pounds) 182, 172, 173, 176, 176, 180, 173, 174, 179, and 175. For simplicity,\n",
    "assume that he knows the accuracy of the scale and $\\sigma=3$ pounds.\n",
    "\n",
    "If we let $\\mu$ denote the author’s true weight, suppose he is interested in\n",
    "assessing if his true weight is more than 175 pounds. He wishes to test the\n",
    "hypotheses\n",
    "\n",
    "$${H_0}:\\mu  \\leqslant 175,\\quad {H_1}:\\mu  > 175.$$\n",
    "\n",
    "Suppose the author has little prior knowledge about his true weight and so he\n",
    "assigns $\\mu$ a normal prior with mean 170 and standard deviation 5.\n"
   ]
  },
  {
   "cell_type": "code",
   "execution_count": 9,
   "metadata": {
    "pycharm": {
     "is_executing": false
    }
   },
   "outputs": [
    {
     "name": "stderr",
     "text": [
      "Auto-assigning NUTS sampler...\n",
      "Initializing NUTS using jitter+adapt_diag...\n",
      "Multiprocess sampling (4 chains in 4 jobs)\n",
      "NUTS: [mu]\n",
      "Sampling 4 chains for 1_000 tune and 2_500 draw iterations (4_000 + 10_000 draws total) took 25 seconds.\n"
     ],
     "output_type": "stream"
    },
    {
     "data": {
      "text/plain": "<IPython.core.display.HTML object>",
      "text/html": "\n    <div>\n        <style>\n            /* Turns off some styling */\n            progress {\n                /* gets rid of default border in Firefox and Opera. */\n                border: none;\n                /* Needs to be in here for Safari polyfill so background images work as expected. */\n                background-size: auto;\n            }\n            .progress-bar-interrupted, .progress-bar-interrupted::-webkit-progress-bar {\n                background: #F44336;\n            }\n        </style>\n      <progress value='0' class='' max='14000' style='width:300px; height:20px; vertical-align: middle;'></progress>\n      \n    </div>\n    "
     },
     "metadata": {},
     "output_type": "display_data"
    },
    {
     "data": {
      "text/plain": "<Figure size 432x288 with 1 Axes>",
      "image/png": "[encoded data removed]"
     },
     "metadata": {
      "needs_background": "light"
     },
     "output_type": "display_data"
    }
   ],
   "source": [
    "import pymc3 as pm\n",
    "import matplotlib.pyplot as plt\n",
    "import arviz as az\n",
    "data = [182, 172, 173, 176, 176, 180, 173, 174, 179, 175]\n",
    "\n",
    "with pm.Model():\n",
    "    # Normal prior for mu\n",
    "    mu = pm.Normal('mu', mu=170, sd=5)\n",
    "    # Likelihood\n",
    "    y = pm.Normal('y',mu=mu, sigma=3, observed=data)\n",
    "    # Obtaining the traces\n",
    "    trace_weights = pm.sample(2500, progressbar=True)\n",
    "    # Plot the sampled posterior using 175 as the reference value\n",
    "    pp = az.plot_posterior(trace_weights, ref_val=175)\n",
    "    plt.show()"
   ]
  },
  {
   "cell_type": "markdown",
   "metadata": {},
   "source": [
    "The graph shows that, given the data, the probability of $H_0$, that is $P(\\mu\\leq 175|y)$, is just 19.2%, so we can conclude that it is unlikely that his weight is at most 175 pounds. \n",
    "\n",
    "If we were interested in calculating the Bayes factor, we could do it easily because we have the prior and posterior distributions for the parameter $\\mu$:\n",
    "\n",
    "$$BF = \\frac{{P\\left( {{H_0}\\left| y \\right.} \\right)}}{{P\\left( {{H_1}\\left| y \\right.} \\right)}}\\frac{{P\\left( {{H_1}} \\right)}}{{P\\left( {{H_0}} \\right)}} = \\frac{{P\\left( {\\mu  \\leqslant 175\\left| y \\right.} \\right)}}{{P\\left( {\\mu  > 175\\left| y \\right.} \\right)}}\\frac{{P\\left( {\\mu  > 175} \\right)}}{{P\\left( {\\mu  \\leqslant 175} \\right)}} = 0.045.$$"
   ]
  },
  {
   "cell_type": "code",
   "execution_count": 10,
   "metadata": {
    "pycharm": {
     "is_executing": false
    }
   },
   "outputs": [
    {
     "name": "stdout",
     "text": [
      "0.04480952491367768\n"
     ],
     "output_type": "stream"
    },
    {
     "data": {
      "text/plain": "22.316683828414337"
     },
     "metadata": {},
     "output_type": "execute_result",
     "execution_count": 10
    }
   ],
   "source": [
    "from scipy import stats\n",
    "# P(mu<175) is calculated as stats.norm(loc=170,scale=5).cdf(175)\n",
    "# P(mu>175)=1-P(mu<175)\n",
    "bayes_factor = (0.192/0.808)*(1-stats.norm(loc=170,scale=5).cdf(175))/stats.norm(loc=170,scale=5).cdf(175)\n",
    "print(bayes_factor)\n",
    "1/bayes_factor"
   ]
  },
  {
   "source": [
    "Because the Bayes factor is very close to 0, we should analyze the inverse, obtaining 22.317, which indicates strong evidence against $H_0$.\n",
    "\n",
    "**IMPORTANT NOTE:** It is very important to remember that these rules are just conventions, simple guides at best. Results should always be put into context of our problems and should be accompanied with enough details so others could evaluate by themselves if they agree with our conclusions. The evidence necessary to make a claim is not the same in particle physics, or a court, or to evacuate a town to prevent hundreds of deaths."
   ],
   "cell_type": "markdown",
   "metadata": {}
  },
  {
   "source": [
    "# Model comparison\n",
    "\n",
    "Models should be designed as approximations to help us understand a particular problem,\n",
    "or a class of related problems. Models are not designed to be verbatim copies of the real\n",
    "world. Thus, all models are wrong in the same sense that maps are not the territory. Even\n",
    "when a priori, we consider every model to be wrong, not every model is equally wrong;\n",
    "some models will be better than others at describing a given problem. We'll study how to compare \n",
    "two or more models that are used to explain the same data. As we will learn, this is not a simple \n",
    "problem to solve and at the same time is a central problem in data analysis.\n",
    "\n",
    "The Bayesian approach to comparing hypotheses can be generalized to compare two or more models. By\n",
    "Bayes theorem\n",
    "\n",
    "$$P\\left( {\\theta \\left| y \\right.} \\right) = \\frac{{P\\left( {y\\left| \\theta  \\right.} \\right)P\\left( \\theta  \\right)}}{{P\\left( y \\right)}},$$\n",
    "\n",
    "We can make the dependency of the inference on a given model $M$ explicit and write:\n",
    "\n",
    "$$P\\left( {\\theta \\left| {y,{M_k}} \\right.} \\right) = \\frac{{P\\left( {y\\left| {\\theta ,{M_k}} \\right.} \\right)P\\left( {\\theta \\left| {{M_k}} \\right.} \\right)}}{{P\\left( {y\\left| {{M_k}} \\right.} \\right)}}.$$\n",
    "\n",
    "\n",
    "The term in the denominator is known as marginal likelihood. When doing inference, we do not need to compute this\n",
    "normalizing constant, so in practice, we often compute the posterior up to a constant factor.\n",
    "However, for model comparison and model averaging, the marginal likelihood is an\n",
    "important quantity. If our main objective is to choose only one model, the best one, from a\n",
    "set of models, we can just choose the one with the largest $P(y|M_k)$.\n",
    "\n",
    "Suppose we wish to compare two Bayesian models, where it is possible that the definition of the parameter $\\theta$ may differ between\n",
    "models. Then the Bayes factor in support of model $M_0$ is the ratio of the\n",
    "respective marginal likelihoods of the data for the two models.\n",
    "\n",
    "$$BF = \\frac{{P\\left( {y\\left| {{M_0}} \\right.} \\right)}}{{P\\left( {y\\left| {{M_1}} \\right.} \\right)}}.$$\n",
    "\n",
    "When $BF>1$, model 0 explains data better than model 1.\n",
    "\n",
    "If we let $y$ denote the vector of data and $\\theta$ the parameter,\n",
    "then a Bayesian model consists of a specification of the likelihood $f(y|\\theta)$\n",
    "and the prior density $g(\\theta)$.\n",
    "\n",
    "## Some ramarks about the likelihood\n",
    "\n",
    "Now, we will briefly discuss some key facts about the marginal likelihood. By carefully\n",
    "inspecting the definition of marginal likelihood, we can understand their properties and\n",
    "consequences for their practical use:\n",
    "\n",
    "$$p\\left( {y\\left| {{M_k}} \\right.} \\right) = \\int\\limits_{{\\theta _k}} {p\\left( {y\\left| {{\\theta _k},{M_k}} \\right.} \\right)p\\left( {{\\theta _k},{M_k}} \\right)d{\\theta _k}}.$$\n",
    "\n",
    "* **The good:** Models with more parameters have a larger penalization than models\n",
    "with fewer parameters. Bayes factor has a built-in Occam's Razor! The intuitive\n",
    "reason for this is that the larger the number of parameters, the more spread the\n",
    "prior with respect to the likelihood. Thus, when computing the integral in the\n",
    "preceding formula, you will get a smaller value with a more concentrated prior.\n",
    "\n",
    "* **The bad:** Computing the marginal likelihood is, generally, a hard task since the\n",
    "preceding formula is an integral of a highly variable function over a high\n",
    "dimensional parameter space. In general, this integral needs to be solved\n",
    "numerically using more or less sophisticated methods.\n",
    "\n",
    "* **The ugly:** The marginal likelihood depends sensitively on the values of the priors.\n",
    "\n",
    "\n",
    "Using the marginal likelihood to compare models is a good idea because a penalization for\n",
    "complex models is already included (thus preventing us from overfitting). At the same\n",
    "time, a change in the prior will affect the computations of the marginal likelihood. At first,\n",
    "this sounds a little bit silly—we already know that priors affect computations (otherwise,\n",
    "we could simply avoid them), but the point here is the word sensitively. We are talking\n",
    "about changes in the prior that will keep the inference of $\\theta$ more or less the same, but could\n",
    "have a big impact on the value of the marginal likelihood. \n",
    "\n",
    "## An example\n",
    "\n",
    "Let's Suppose we are analyzing a coin and we have could use two different priors, one is Beta(4,8)\n",
    "and the other is Beta(8,4). We would like to know which model explains the data better. Let $M_1$ be\n",
    "the mdoel with the prior Beta(8,4) and $M_2$ the other."
   ],
   "cell_type": "markdown",
   "metadata": {}
  },
  {
   "cell_type": "code",
   "execution_count": 11,
   "metadata": {
    "pycharm": {
     "is_executing": false
    }
   },
   "outputs": [
    {
     "name": "stderr",
     "text": [
      "Initializing SMC sampler...\n",
      "Multiprocess sampling (4 chains in 4 jobs)\n",
      "Stage:   0 Beta: 1.000\n",
      "Stage:   0 Beta: 1.000\n",
      "Stage:   0 Beta: 1.000\n",
      "Stage:   0 Beta: 1.000\n",
      "Initializing SMC sampler...\n",
      "Multiprocess sampling (4 chains in 4 jobs)\n",
      "Stage:   0 Beta: 0.207\n",
      "Stage:   1 Beta: 0.685\n",
      "Stage:   2 Beta: 1.000\n",
      "Stage:   0 Beta: 0.211\n",
      "Stage:   1 Beta: 0.681\n",
      "Stage:   2 Beta: 1.000\n",
      "Stage:   0 Beta: 0.212\n",
      "Stage:   1 Beta: 0.703\n",
      "Stage:   2 Beta: 1.000\n",
      "Stage:   0 Beta: 0.207\n",
      "Stage:   1 Beta: 0.674\n",
      "Stage:   2 Beta: 1.000\n"
     ],
     "output_type": "stream"
    }
   ],
   "source": [
    "data = [0, 0, 1, 1, 0, 0, 0, 1, 0, 0, 0, 1, 1, 1, 0, 0, 0, 0, 1, 0, 0, 0, 0, 0, 0, 0, 1, 0, 0, 1]\n",
    "\n",
    "with pm.Model() as model_1:\n",
    "    theta = pm.Beta('theta', 4, 8)\n",
    "    y = pm.Bernoulli('p',p=theta,observed=data)\n",
    "    traces_model_1 = pm.sample_smc(2500)\n",
    "\n",
    "with pm.Model() as model_2:\n",
    "    theta = pm.Beta('theta', 8, 4)\n",
    "    y = pm.Bernoulli('p',p=theta,observed=data)\n",
    "    traces_model_2 = pm.sample_smc(2500)\n",
    "\n",
    "# Obtaining the marginal likelihoods for both models\n",
    "likelihoods_under_model_1  = np.average(np.exp(traces_model_1.report.log_marginal_likelihood))\n",
    "likelihoods_under_model_2  = np.average(np.exp(traces_model_2.report.log_marginal_likelihood))\n",
    "\n",
    "# Now we can calculate the Bayes factor\n",
    "bayes_factor = likelihoods_under_model_1/likelihoods_under_model_2\n"
   ]
  },
  {
   "cell_type": "code",
   "execution_count": 12,
   "metadata": {
    "pycharm": {
     "is_executing": false
    }
   },
   "outputs": [
    {
     "name": "stdout",
     "text": [
      "The Bayes factor is 10.99\n"
     ],
     "output_type": "stream"
    }
   ],
   "source": [
    "print('The Bayes factor is {:.2f}'.format(bayes_factor))"
   ]
  },
  {
   "source": [
    "This Bayes factor strongly indicates that the model with the prior Beta(4,8) explains better the data than the model with prior Beta(8,4)."
   ],
   "cell_type": "markdown",
   "metadata": {}
  },
  {
   "cell_type": "code",
   "execution_count": 12,
   "metadata": {
    "pycharm": {
     "is_executing": false
    }
   },
   "outputs": [],
   "source": []
  }
 ],
 "metadata": {
  "kernelspec": {
   "display_name": "Python 3",
   "language": "python",
   "name": "python3"
  },
  "language_info": {
   "codemirror_mode": {
    "name": "ipython",
    "version": 3
   },
   "file_extension": ".py",
   "mimetype": "text/x-python",
   "name": "python",
   "nbconvert_exporter": "python",
   "pygments_lexer": "ipython3",
   "version": "3.7.9-final"
  },
  "pycharm": {
   "stem_cell": {
    "cell_type": "raw",
    "metadata": {
     "collapsed": false
    },
    "source": []
   }
  }
 },
 "nbformat": 4,
 "nbformat_minor": 1
}